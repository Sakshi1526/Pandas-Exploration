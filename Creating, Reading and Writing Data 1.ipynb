{
 "cells": [
  {
   "cell_type": "markdown",
   "id": "2f73452a-b422-4ce8-81e1-88daf227f3eb",
   "metadata": {},
   "source": [
    "# Creating, Reading and Writing Data"
   ]
  },
  {
   "cell_type": "markdown",
   "id": "9a076dd1-e661-47eb-8235-d70a3a5bd7a1",
   "metadata": {},
   "source": [
    "# Introduction to Pandas\n",
    "\n",
    "**What is Pandas?**\n",
    "\n",
    "1. Pandas is a fast, powerfull, flexible and easy to use open source data analysis and manipulation tool, built on top of the python programming language.\n",
    "2.  Pandas is an open source library that is made mainly for working with relational or labeled data both easily and intuitively. "
   ]
  },
  {
   "cell_type": "markdown",
   "id": "4aa7ce06-ddd8-40d9-ab4e-9d21772b9da0",
   "metadata": {},
   "source": [
    "### Why it is needed?\n",
    "\n",
    "1. It provides various data structures and operations for manipulating numerical, categorical and time series data.\n",
    "2. It is used for data cleaning and analysis.\n",
    "3. It can be used to handle excel,csv,json,txt,paraquet etc file formats\n",
    "4. It can be used to handle missing values\n",
    "5. Can be used to create pivot tables\n",
    "6. Can be used for filtering, sorting, grouping, performing different queries etc"
   ]
  },
  {
   "cell_type": "markdown",
   "id": "665d538b-3609-4e77-8db0-82a7ad376549",
   "metadata": {},
   "source": [
    "### How to Import Pandas\n",
    "\n",
    "1. Method -1\n",
    "   In CMD write the following\n",
    "   pip install pandas\n",
    "\n",
    "2. Method -2\n",
    "   In jupyter notebook write the following\n",
    "   !pip install pandas"
   ]
  },
  {
   "cell_type": "markdown",
   "id": "df53e8ff-049e-421c-9a92-39c92779ff84",
   "metadata": {},
   "source": [
    "# Data Types In Pandas\n",
    "\n",
    "*In pandas we have 2 fundamental data types*\n",
    "\n",
    "1)<b>Series</b><br>\n",
    "  a) It consists of single column data with one or more rows. Series is indexed.<br>\n",
    "  b) A series can have multiple indexes as well.<br>\n",
    "\n",
    "2)<b>DataFrame</b><br>\n",
    "  a)It generally consists of muiltiple column data with one or more rows. DataFrame is indexed.<br>\n",
    "  b) A DataFrame can have multiple indexes as well.<br>\n",
    "  c) A DataFrame consist of justa single column.<br"
   ]
  },
  {
   "cell_type": "markdown",
   "id": "4d1e3c39-7d9f-4043-afb5-2de0881e7cc1",
   "metadata": {},
   "source": [
    "# Importing Pandas library"
   ]
  },
  {
   "cell_type": "code",
   "execution_count": 15,
   "id": "01b0f0a2-54e3-4aaa-9446-cad67572c244",
   "metadata": {},
   "outputs": [],
   "source": [
    "import pandas as pd\n",
    "# pandas is aliased as pd\n",
    "import numpy as np\n",
    "# numpy is aliased as np"
   ]
  },
  {
   "cell_type": "markdown",
   "id": "060943df-3fd6-4565-a262-e63d10a8c114",
   "metadata": {},
   "source": [
    "## Creating a Series\n",
    "\n",
    "1) By default Series indexes starts from 0."
   ]
  },
  {
   "cell_type": "code",
   "execution_count": 17,
   "id": "0f2ad167-1d70-44a0-8cc2-5ff6d95277fb",
   "metadata": {},
   "outputs": [
    {
     "name": "stdout",
     "output_type": "stream",
     "text": [
      "<class 'pandas.core.series.Series'>\n"
     ]
    },
    {
     "data": {
      "text/plain": [
       "0    11\n",
       "1    13\n",
       "2    14\n",
       "3    15\n",
       "4    17\n",
       "dtype: int64"
      ]
     },
     "execution_count": 17,
     "metadata": {},
     "output_type": "execute_result"
    }
   ],
   "source": [
    "s1 =  pd.Series([11,13,14,15,17])\n",
    "print(type(s1))\n",
    "s1"
   ]
  },
  {
   "cell_type": "code",
   "execution_count": 21,
   "id": "746b1c98-806b-4ddf-a8e8-15021e7eab86",
   "metadata": {},
   "outputs": [
    {
     "name": "stdout",
     "output_type": "stream",
     "text": [
      "RangeIndex(start=0, stop=5, step=1)\n",
      "[0, 1, 2, 3, 4]\n",
      "[11 13 14 15 17]\n",
      "<class 'numpy.ndarray'>\n"
     ]
    }
   ],
   "source": [
    "### Fetch series index and values\n",
    "\n",
    "print(s1.index)       # Rangeindex (start = 0, stop = 5, step =1)\n",
    "print(s1.index.tolist())     # [0,1,2,3,4]\n",
    "print(s1.values)             # [11 13 14 15 17]\n",
    "print(type(s1.values))       # numoy array"
   ]
  },
  {
   "cell_type": "markdown",
   "id": "74de0291-d9a2-41bb-9568-19bf7417e78d",
   "metadata": {},
   "source": [
    "### Fetch element present at a particular index from a series."
   ]
  },
  {
   "cell_type": "code",
   "execution_count": 23,
   "id": "bd87edc5-ea9f-4122-9b02-82c7b6cae795",
   "metadata": {},
   "outputs": [
    {
     "name": "stdout",
     "output_type": "stream",
     "text": [
      "0    11\n",
      "1    13\n",
      "2    14\n",
      "3    15\n",
      "4    17\n",
      "dtype: int64\n",
      "11 14\n",
      "13 17\n"
     ]
    }
   ],
   "source": [
    "print(s1)\n",
    "print(s1[0],s1[2])\n",
    "print(s1[1],s1[4])"
   ]
  },
  {
   "cell_type": "markdown",
   "id": "9aa87f1e-2159-4907-88d9-b8a9b1258bfe",
   "metadata": {},
   "source": [
    "### Creating a series with custom index."
   ]
  },
  {
   "cell_type": "code",
   "execution_count": 29,
   "id": "316a8b29-6803-4b99-bc80-564130801f2d",
   "metadata": {},
   "outputs": [
    {
     "data": {
      "text/plain": [
       "71    34\n",
       "72    35\n",
       "73    36\n",
       "74    37\n",
       "75    38\n",
       "dtype: int64"
      ]
     },
     "execution_count": 29,
     "metadata": {},
     "output_type": "execute_result"
    }
   ],
   "source": [
    "s2 = pd.Series([34,35,36,37,38],index=list(range(71,76)))\n",
    "s2"
   ]
  },
  {
   "cell_type": "code",
   "execution_count": 31,
   "id": "e2a44180-45cd-4485-bcd0-b6668af6cf50",
   "metadata": {},
   "outputs": [
    {
     "name": "stdout",
     "output_type": "stream",
     "text": [
      "[71, 72, 73, 74, 75]\n",
      "[34 35 36 37 38]\n"
     ]
    }
   ],
   "source": [
    "print(s2.index.tolist())\n",
    "print(s2.values)"
   ]
  },
  {
   "cell_type": "code",
   "execution_count": 33,
   "id": "c1f9f7d6-e394-47c1-9dff-4cf7d0d5d705",
   "metadata": {},
   "outputs": [
    {
     "name": "stdout",
     "output_type": "stream",
     "text": [
      "34 37\n",
      "36 38\n"
     ]
    }
   ],
   "source": [
    "### Fetch element present at a particular a particular index from s2\n",
    "print(s2[71],s2[74])\n",
    "print(s2[73],s2[75])"
   ]
  },
  {
   "cell_type": "markdown",
   "id": "70c2f039-6fdf-43c7-ac13-6c67c22adfb1",
   "metadata": {},
   "source": [
    "### Creating aseries from list, a tuple, numpy array"
   ]
  },
  {
   "cell_type": "code",
   "execution_count": 35,
   "id": "04ded99a-7e8f-4983-979a-1b6c988b89b5",
   "metadata": {},
   "outputs": [
    {
     "name": "stdout",
     "output_type": "stream",
     "text": [
      "<class 'pandas.core.series.Series'>\n",
      "0     7\n",
      "1     9\n",
      "2    12\n",
      "3    15\n",
      "4    18\n",
      "dtype: int64\n"
     ]
    }
   ],
   "source": [
    "a = [7,9,12,15,18]\n",
    "w1 = pd.Series(a)\n",
    "print(type(w1))\n",
    "print(w1)"
   ]
  },
  {
   "cell_type": "code",
   "execution_count": 39,
   "id": "9bd3e300-b835-48b5-b08e-2e843288b5cd",
   "metadata": {},
   "outputs": [
    {
     "name": "stdout",
     "output_type": "stream",
     "text": [
      "<class 'pandas.core.series.Series'>\n"
     ]
    },
    {
     "data": {
      "text/plain": [
       "0    12\n",
       "1    16\n",
       "2    18\n",
       "3    19\n",
       "4    24\n",
       "dtype: int64"
      ]
     },
     "execution_count": 39,
     "metadata": {},
     "output_type": "execute_result"
    }
   ],
   "source": [
    "c =(12,16,18,19,24) # type(c) = tuple\n",
    "w3 = pd.Series(c)\n",
    "print(type(w3))\n",
    "w3"
   ]
  },
  {
   "cell_type": "markdown",
   "id": "21d58876-8148-43e1-8e02-82005c102d01",
   "metadata": {},
   "source": [
    "### A series can not be created using a set"
   ]
  },
  {
   "cell_type": "code",
   "execution_count": 43,
   "id": "e012465f-a33c-40cb-b7c9-f75aac06f0ab",
   "metadata": {},
   "outputs": [
    {
     "ename": "TypeError",
     "evalue": "'set' type is unordered",
     "output_type": "error",
     "traceback": [
      "\u001b[1;31m---------------------------------------------------------------------------\u001b[0m",
      "\u001b[1;31mTypeError\u001b[0m                                 Traceback (most recent call last)",
      "Cell \u001b[1;32mIn[43], line 2\u001b[0m\n\u001b[0;32m      1\u001b[0m c1 \u001b[38;5;241m=\u001b[39m {\u001b[38;5;241m12\u001b[39m,\u001b[38;5;241m15\u001b[39m,\u001b[38;5;241m18\u001b[39m,\u001b[38;5;241m21\u001b[39m,\u001b[38;5;241m24\u001b[39m}    \u001b[38;5;66;03m# type(c1) = set  = set is unordered\u001b[39;00m\n\u001b[1;32m----> 2\u001b[0m w4 \u001b[38;5;241m=\u001b[39m pd\u001b[38;5;241m.\u001b[39mSeries(c1)\n\u001b[0;32m      3\u001b[0m \u001b[38;5;28mprint\u001b[39m(\u001b[38;5;28mtype\u001b[39m(w4))\n\u001b[0;32m      4\u001b[0m w4\n",
      "File \u001b[1;32mE:\\Anaconda\\Lib\\site-packages\\pandas\\core\\series.py:584\u001b[0m, in \u001b[0;36mSeries.__init__\u001b[1;34m(self, data, index, dtype, name, copy, fastpath)\u001b[0m\n\u001b[0;32m    582\u001b[0m         data \u001b[38;5;241m=\u001b[39m data\u001b[38;5;241m.\u001b[39mcopy()\n\u001b[0;32m    583\u001b[0m \u001b[38;5;28;01melse\u001b[39;00m:\n\u001b[1;32m--> 584\u001b[0m     data \u001b[38;5;241m=\u001b[39m sanitize_array(data, index, dtype, copy)\n\u001b[0;32m    586\u001b[0m     manager \u001b[38;5;241m=\u001b[39m _get_option(\u001b[38;5;124m\"\u001b[39m\u001b[38;5;124mmode.data_manager\u001b[39m\u001b[38;5;124m\"\u001b[39m, silent\u001b[38;5;241m=\u001b[39m\u001b[38;5;28;01mTrue\u001b[39;00m)\n\u001b[0;32m    587\u001b[0m     \u001b[38;5;28;01mif\u001b[39;00m manager \u001b[38;5;241m==\u001b[39m \u001b[38;5;124m\"\u001b[39m\u001b[38;5;124mblock\u001b[39m\u001b[38;5;124m\"\u001b[39m:\n",
      "File \u001b[1;32mE:\\Anaconda\\Lib\\site-packages\\pandas\\core\\construction.py:642\u001b[0m, in \u001b[0;36msanitize_array\u001b[1;34m(data, index, dtype, copy, allow_2d)\u001b[0m\n\u001b[0;32m    633\u001b[0m     \u001b[38;5;28;01mreturn\u001b[39;00m sanitize_array(\n\u001b[0;32m    634\u001b[0m         data,\n\u001b[0;32m    635\u001b[0m         index\u001b[38;5;241m=\u001b[39mindex,\n\u001b[1;32m   (...)\u001b[0m\n\u001b[0;32m    638\u001b[0m         allow_2d\u001b[38;5;241m=\u001b[39mallow_2d,\n\u001b[0;32m    639\u001b[0m     )\n\u001b[0;32m    641\u001b[0m \u001b[38;5;28;01melse\u001b[39;00m:\n\u001b[1;32m--> 642\u001b[0m     _sanitize_non_ordered(data)\n\u001b[0;32m    643\u001b[0m     \u001b[38;5;66;03m# materialize e.g. generators, convert e.g. tuples, abc.ValueView\u001b[39;00m\n\u001b[0;32m    644\u001b[0m     data \u001b[38;5;241m=\u001b[39m \u001b[38;5;28mlist\u001b[39m(data)\n",
      "File \u001b[1;32mE:\\Anaconda\\Lib\\site-packages\\pandas\\core\\construction.py:693\u001b[0m, in \u001b[0;36m_sanitize_non_ordered\u001b[1;34m(data)\u001b[0m\n\u001b[0;32m    689\u001b[0m \u001b[38;5;250m\u001b[39m\u001b[38;5;124;03m\"\"\"\u001b[39;00m\n\u001b[0;32m    690\u001b[0m \u001b[38;5;124;03mRaise only for unordered sets, e.g., not for dict_keys\u001b[39;00m\n\u001b[0;32m    691\u001b[0m \u001b[38;5;124;03m\"\"\"\u001b[39;00m\n\u001b[0;32m    692\u001b[0m \u001b[38;5;28;01mif\u001b[39;00m \u001b[38;5;28misinstance\u001b[39m(data, (\u001b[38;5;28mset\u001b[39m, \u001b[38;5;28mfrozenset\u001b[39m)):\n\u001b[1;32m--> 693\u001b[0m     \u001b[38;5;28;01mraise\u001b[39;00m \u001b[38;5;167;01mTypeError\u001b[39;00m(\u001b[38;5;124mf\u001b[39m\u001b[38;5;124m\"\u001b[39m\u001b[38;5;124m'\u001b[39m\u001b[38;5;132;01m{\u001b[39;00m\u001b[38;5;28mtype\u001b[39m(data)\u001b[38;5;241m.\u001b[39m\u001b[38;5;18m__name__\u001b[39m\u001b[38;5;132;01m}\u001b[39;00m\u001b[38;5;124m'\u001b[39m\u001b[38;5;124m type is unordered\u001b[39m\u001b[38;5;124m\"\u001b[39m)\n",
      "\u001b[1;31mTypeError\u001b[0m: 'set' type is unordered"
     ]
    }
   ],
   "source": [
    "c1 = {12,15,18,21,24}    # type(c1) = set  = set is unordered\n",
    "w4 = pd.Series(c1)\n",
    "print(type(w4))\n",
    "w4"
   ]
  },
  {
   "cell_type": "markdown",
   "id": "0f8d83a0-8749-4db7-8bef-226ebfa6dc72",
   "metadata": {},
   "source": [
    "# DataFrame"
   ]
  },
  {
   "cell_type": "markdown",
   "id": "ad787f66-e3dc-4ea9-903d-b2bc3636e79d",
   "metadata": {},
   "source": [
    "### Methods to create a dataframe\n",
    "\n",
    "1. Using Dictionary<br>\n",
    "2. Using List of listbr\n",
    "3. Using Series<br>\n",
    "4. Using numpy array<br>\n",
    "5. Reading csv,excel,json,paraquet file etc."
   ]
  },
  {
   "cell_type": "markdown",
   "id": "97cdd4c3-6cc2-407f-94d9-0933c7dc1323",
   "metadata": {},
   "source": [
    "### 1) Creating a dataframe using a dictionary\n",
    "\n",
    "**Keys of the dict will be used as the column names for the dataframe**"
   ]
  },
  {
   "cell_type": "code",
   "execution_count": 48,
   "id": "17cf9c59-b7b7-4617-8de4-f0fe60428e35",
   "metadata": {},
   "outputs": [
    {
     "name": "stdout",
     "output_type": "stream",
     "text": [
      "<class 'dict'>\n",
      "{'Name': ['Ankit', 'Shikha', 'Pankaj', 'Vibhor', 'Ujjwal', 'Kartik'], 'Scores': [78, 91, 84, 75, 85, 93]}\n"
     ]
    }
   ],
   "source": [
    "data = {'Name':['Ankit','Shikha','Pankaj','Vibhor','Ujjwal','Kartik'],\n",
    "        'Scores':[78,91,84,75,85,93]}\n",
    "print(type(data))\n",
    "print(data)"
   ]
  },
  {
   "cell_type": "code",
   "execution_count": 52,
   "id": "24a64516-569d-46e1-9a69-35f3e0c12c3e",
   "metadata": {},
   "outputs": [
    {
     "data": {
      "text/html": [
       "<div>\n",
       "<style scoped>\n",
       "    .dataframe tbody tr th:only-of-type {\n",
       "        vertical-align: middle;\n",
       "    }\n",
       "\n",
       "    .dataframe tbody tr th {\n",
       "        vertical-align: top;\n",
       "    }\n",
       "\n",
       "    .dataframe thead th {\n",
       "        text-align: right;\n",
       "    }\n",
       "</style>\n",
       "<table border=\"1\" class=\"dataframe\">\n",
       "  <thead>\n",
       "    <tr style=\"text-align: right;\">\n",
       "      <th></th>\n",
       "      <th>Name</th>\n",
       "      <th>Scores</th>\n",
       "    </tr>\n",
       "  </thead>\n",
       "  <tbody>\n",
       "    <tr>\n",
       "      <th>0</th>\n",
       "      <td>Ankit</td>\n",
       "      <td>78</td>\n",
       "    </tr>\n",
       "    <tr>\n",
       "      <th>1</th>\n",
       "      <td>Shikha</td>\n",
       "      <td>91</td>\n",
       "    </tr>\n",
       "    <tr>\n",
       "      <th>2</th>\n",
       "      <td>Pankaj</td>\n",
       "      <td>84</td>\n",
       "    </tr>\n",
       "    <tr>\n",
       "      <th>3</th>\n",
       "      <td>Vibhor</td>\n",
       "      <td>75</td>\n",
       "    </tr>\n",
       "    <tr>\n",
       "      <th>4</th>\n",
       "      <td>Ujjwal</td>\n",
       "      <td>85</td>\n",
       "    </tr>\n",
       "    <tr>\n",
       "      <th>5</th>\n",
       "      <td>Kartik</td>\n",
       "      <td>93</td>\n",
       "    </tr>\n",
       "  </tbody>\n",
       "</table>\n",
       "</div>"
      ],
      "text/plain": [
       "     Name  Scores\n",
       "0   Ankit      78\n",
       "1  Shikha      91\n",
       "2  Pankaj      84\n",
       "3  Vibhor      75\n",
       "4  Ujjwal      85\n",
       "5  Kartik      93"
      ]
     },
     "execution_count": 52,
     "metadata": {},
     "output_type": "execute_result"
    }
   ],
   "source": [
    "df1 = pd.DataFrame(data)\n",
    "df1  # displaying df1"
   ]
  },
  {
   "cell_type": "code",
   "execution_count": 54,
   "id": "f7da5527-9aab-4515-adcd-9427ab069e86",
   "metadata": {},
   "outputs": [
    {
     "name": "stdout",
     "output_type": "stream",
     "text": [
      "     Name  Scores\n",
      "0   Ankit      78\n",
      "1  Shikha      91\n",
      "2  Pankaj      84\n",
      "3  Vibhor      75\n",
      "4  Ujjwal      85\n",
      "5  Kartik      93\n"
     ]
    }
   ],
   "source": [
    "print(df1)"
   ]
  },
  {
   "cell_type": "markdown",
   "id": "31b0cc69-6fc9-4dce-ab5a-045d1a2f3726",
   "metadata": {},
   "source": [
    "### 2) Creating a dataframe using a list of list\n",
    "\n",
    "1. Each list is going to populate one row in the dataframe.\n",
    "2. Column names by default will start from 0. Columns names must be explicitly provided."
   ]
  },
  {
   "cell_type": "code",
   "execution_count": 56,
   "id": "24d05b23-72e7-4407-a150-08a640d0f466",
   "metadata": {},
   "outputs": [
    {
     "name": "stdout",
     "output_type": "stream",
     "text": [
      "<class 'list'>\n",
      "[['Delhi', 'India', 1], ['Tokko', 'Japan', 2], ['Spain', 'Madrid', 3]]\n"
     ]
    }
   ],
   "source": [
    "data2 = [['Delhi','India',1],['Tokko','Japan',2],['Spain','Madrid',3]]\n",
    "print(type(data2))\n",
    "print(data2)"
   ]
  },
  {
   "cell_type": "code",
   "execution_count": 58,
   "id": "4780f9ed-a633-4b4e-a541-0cf4f85d64fe",
   "metadata": {},
   "outputs": [
    {
     "data": {
      "text/html": [
       "<div>\n",
       "<style scoped>\n",
       "    .dataframe tbody tr th:only-of-type {\n",
       "        vertical-align: middle;\n",
       "    }\n",
       "\n",
       "    .dataframe tbody tr th {\n",
       "        vertical-align: top;\n",
       "    }\n",
       "\n",
       "    .dataframe thead th {\n",
       "        text-align: right;\n",
       "    }\n",
       "</style>\n",
       "<table border=\"1\" class=\"dataframe\">\n",
       "  <thead>\n",
       "    <tr style=\"text-align: right;\">\n",
       "      <th></th>\n",
       "      <th>Capital</th>\n",
       "      <th>Country</th>\n",
       "      <th>Geo Code</th>\n",
       "    </tr>\n",
       "  </thead>\n",
       "  <tbody>\n",
       "    <tr>\n",
       "      <th>0</th>\n",
       "      <td>Delhi</td>\n",
       "      <td>India</td>\n",
       "      <td>1</td>\n",
       "    </tr>\n",
       "    <tr>\n",
       "      <th>1</th>\n",
       "      <td>Tokko</td>\n",
       "      <td>Japan</td>\n",
       "      <td>2</td>\n",
       "    </tr>\n",
       "    <tr>\n",
       "      <th>2</th>\n",
       "      <td>Spain</td>\n",
       "      <td>Madrid</td>\n",
       "      <td>3</td>\n",
       "    </tr>\n",
       "  </tbody>\n",
       "</table>\n",
       "</div>"
      ],
      "text/plain": [
       "  Capital Country  Geo Code\n",
       "0   Delhi   India         1\n",
       "1   Tokko   Japan         2\n",
       "2   Spain  Madrid         3"
      ]
     },
     "execution_count": 58,
     "metadata": {},
     "output_type": "execute_result"
    }
   ],
   "source": [
    "df2 = pd.DataFrame(data2)\n",
    "#df2.columns = ['Capital','Country','Geo Code']\n",
    "df2"
   ]
  },
  {
   "cell_type": "markdown",
   "id": "99743902-b476-4cf5-9618-5411d3a7c84f",
   "metadata": {},
   "source": [
    "### 3) Creating a dataframe using series"
   ]
  },
  {
   "cell_type": "code",
   "execution_count": 60,
   "id": "e6b4f71e-9050-45b9-b38a-7d85688980f1",
   "metadata": {},
   "outputs": [
    {
     "data": {
      "text/html": [
       "<div>\n",
       "<style scoped>\n",
       "    .dataframe tbody tr th:only-of-type {\n",
       "        vertical-align: middle;\n",
       "    }\n",
       "\n",
       "    .dataframe tbody tr th {\n",
       "        vertical-align: top;\n",
       "    }\n",
       "\n",
       "    .dataframe thead th {\n",
       "        text-align: right;\n",
       "    }\n",
       "</style>\n",
       "<table border=\"1\" class=\"dataframe\">\n",
       "  <thead>\n",
       "    <tr style=\"text-align: right;\">\n",
       "      <th></th>\n",
       "      <th>Domains</th>\n",
       "      <th>Marks</th>\n",
       "    </tr>\n",
       "  </thead>\n",
       "  <tbody>\n",
       "    <tr>\n",
       "      <th>0</th>\n",
       "      <td>Python</td>\n",
       "      <td>89</td>\n",
       "    </tr>\n",
       "    <tr>\n",
       "      <th>1</th>\n",
       "      <td>DS</td>\n",
       "      <td>78</td>\n",
       "    </tr>\n",
       "    <tr>\n",
       "      <th>2</th>\n",
       "      <td>ML</td>\n",
       "      <td>82</td>\n",
       "    </tr>\n",
       "    <tr>\n",
       "      <th>3</th>\n",
       "      <td>Tableau</td>\n",
       "      <td>85</td>\n",
       "    </tr>\n",
       "    <tr>\n",
       "      <th>4</th>\n",
       "      <td>Excel</td>\n",
       "      <td>93</td>\n",
       "    </tr>\n",
       "  </tbody>\n",
       "</table>\n",
       "</div>"
      ],
      "text/plain": [
       "   Domains  Marks\n",
       "0   Python     89\n",
       "1       DS     78\n",
       "2       ML     82\n",
       "3  Tableau     85\n",
       "4    Excel     93"
      ]
     },
     "execution_count": 60,
     "metadata": {},
     "output_type": "execute_result"
    }
   ],
   "source": [
    "ser1 = pd.Series(['Python','DS','ML','Tableau','Excel'])\n",
    "ser2 = pd.Series([89,78,82,85,93])\n",
    "df3 = pd.DataFrame({'Domains':ser1,'Marks':ser2})\n",
    "df3"
   ]
  },
  {
   "cell_type": "raw",
   "id": "2897554a-ae72-4084-a880-527d831da636",
   "metadata": {},
   "source": [
    "### 4) Creating a dataframe using numpy arrays"
   ]
  },
  {
   "cell_type": "code",
   "execution_count": 63,
   "id": "6a90c30a-05df-4f3a-ac9a-53142b0923a7",
   "metadata": {},
   "outputs": [
    {
     "data": {
      "text/html": [
       "<div>\n",
       "<style scoped>\n",
       "    .dataframe tbody tr th:only-of-type {\n",
       "        vertical-align: middle;\n",
       "    }\n",
       "\n",
       "    .dataframe tbody tr th {\n",
       "        vertical-align: top;\n",
       "    }\n",
       "\n",
       "    .dataframe thead th {\n",
       "        text-align: right;\n",
       "    }\n",
       "</style>\n",
       "<table border=\"1\" class=\"dataframe\">\n",
       "  <thead>\n",
       "    <tr style=\"text-align: right;\">\n",
       "      <th></th>\n",
       "      <th>Products</th>\n",
       "      <th>Sales</th>\n",
       "      <th>Units</th>\n",
       "    </tr>\n",
       "  </thead>\n",
       "  <tbody>\n",
       "    <tr>\n",
       "      <th>0</th>\n",
       "      <td>Coffee</td>\n",
       "      <td>125</td>\n",
       "      <td>5</td>\n",
       "    </tr>\n",
       "    <tr>\n",
       "      <th>1</th>\n",
       "      <td>Tea</td>\n",
       "      <td>200</td>\n",
       "      <td>10</td>\n",
       "    </tr>\n",
       "    <tr>\n",
       "      <th>2</th>\n",
       "      <td>Juice</td>\n",
       "      <td>75</td>\n",
       "      <td>3</td>\n",
       "    </tr>\n",
       "    <tr>\n",
       "      <th>3</th>\n",
       "      <td>Milk</td>\n",
       "      <td>160</td>\n",
       "      <td>8</td>\n",
       "    </tr>\n",
       "  </tbody>\n",
       "</table>\n",
       "</div>"
      ],
      "text/plain": [
       "  Products  Sales  Units\n",
       "0   Coffee    125      5\n",
       "1      Tea    200     10\n",
       "2    Juice     75      3\n",
       "3     Milk    160      8"
      ]
     },
     "execution_count": 63,
     "metadata": {},
     "output_type": "execute_result"
    }
   ],
   "source": [
    "sales = np.array([125,200,75,160])\n",
    "units = np.array([5,10,3,8])\n",
    "prod = np.array(['Coffee','Tea','Juice','Milk'])\n",
    "df4 = pd.DataFrame({'Products':prod, 'Sales':sales, 'Units': units})\n",
    "df4"
   ]
  },
  {
   "cell_type": "code",
   "execution_count": 65,
   "id": "40079ef5-7e4d-4e8d-9417-2f122b604990",
   "metadata": {},
   "outputs": [
    {
     "name": "stdout",
     "output_type": "stream",
     "text": [
      "<class 'pandas.core.series.Series'>\n"
     ]
    },
    {
     "data": {
      "text/plain": [
       "0    125\n",
       "1    200\n",
       "2     75\n",
       "3    160\n",
       "Name: Sales, dtype: int32"
      ]
     },
     "execution_count": 65,
     "metadata": {},
     "output_type": "execute_result"
    }
   ],
   "source": [
    "print(type(df4['Sales']))\n",
    "df4['Sales']"
   ]
  },
  {
   "cell_type": "code",
   "execution_count": 67,
   "id": "4f3a30a6-708d-43f9-948c-d32bfe4895f7",
   "metadata": {},
   "outputs": [
    {
     "name": "stdout",
     "output_type": "stream",
     "text": [
      "<class 'pandas.core.frame.DataFrame'>\n"
     ]
    },
    {
     "data": {
      "text/html": [
       "<div>\n",
       "<style scoped>\n",
       "    .dataframe tbody tr th:only-of-type {\n",
       "        vertical-align: middle;\n",
       "    }\n",
       "\n",
       "    .dataframe tbody tr th {\n",
       "        vertical-align: top;\n",
       "    }\n",
       "\n",
       "    .dataframe thead th {\n",
       "        text-align: right;\n",
       "    }\n",
       "</style>\n",
       "<table border=\"1\" class=\"dataframe\">\n",
       "  <thead>\n",
       "    <tr style=\"text-align: right;\">\n",
       "      <th></th>\n",
       "      <th>Sales</th>\n",
       "      <th>Units</th>\n",
       "    </tr>\n",
       "  </thead>\n",
       "  <tbody>\n",
       "    <tr>\n",
       "      <th>0</th>\n",
       "      <td>125</td>\n",
       "      <td>5</td>\n",
       "    </tr>\n",
       "    <tr>\n",
       "      <th>1</th>\n",
       "      <td>200</td>\n",
       "      <td>10</td>\n",
       "    </tr>\n",
       "    <tr>\n",
       "      <th>2</th>\n",
       "      <td>75</td>\n",
       "      <td>3</td>\n",
       "    </tr>\n",
       "    <tr>\n",
       "      <th>3</th>\n",
       "      <td>160</td>\n",
       "      <td>8</td>\n",
       "    </tr>\n",
       "  </tbody>\n",
       "</table>\n",
       "</div>"
      ],
      "text/plain": [
       "   Sales  Units\n",
       "0    125      5\n",
       "1    200     10\n",
       "2     75      3\n",
       "3    160      8"
      ]
     },
     "execution_count": 67,
     "metadata": {},
     "output_type": "execute_result"
    }
   ],
   "source": [
    "print(type(df4[['Sales','Units']]))\n",
    "df4[['Sales','Units']]"
   ]
  },
  {
   "cell_type": "markdown",
   "id": "0e888522-0ed1-42c4-a56d-341ce08eb257",
   "metadata": {},
   "source": [
    "### 5) Creating a dataframe from another dataframe"
   ]
  },
  {
   "cell_type": "code",
   "execution_count": 69,
   "id": "79beb4fe-0b6d-4854-b2dd-bce9ad3f03a8",
   "metadata": {},
   "outputs": [
    {
     "data": {
      "text/html": [
       "<div>\n",
       "<style scoped>\n",
       "    .dataframe tbody tr th:only-of-type {\n",
       "        vertical-align: middle;\n",
       "    }\n",
       "\n",
       "    .dataframe tbody tr th {\n",
       "        vertical-align: top;\n",
       "    }\n",
       "\n",
       "    .dataframe thead th {\n",
       "        text-align: right;\n",
       "    }\n",
       "</style>\n",
       "<table border=\"1\" class=\"dataframe\">\n",
       "  <thead>\n",
       "    <tr style=\"text-align: right;\">\n",
       "      <th></th>\n",
       "      <th>Products</th>\n",
       "      <th>Sales</th>\n",
       "    </tr>\n",
       "  </thead>\n",
       "  <tbody>\n",
       "    <tr>\n",
       "      <th>0</th>\n",
       "      <td>Coffee</td>\n",
       "      <td>125</td>\n",
       "    </tr>\n",
       "    <tr>\n",
       "      <th>1</th>\n",
       "      <td>Tea</td>\n",
       "      <td>200</td>\n",
       "    </tr>\n",
       "    <tr>\n",
       "      <th>2</th>\n",
       "      <td>Juice</td>\n",
       "      <td>75</td>\n",
       "    </tr>\n",
       "    <tr>\n",
       "      <th>3</th>\n",
       "      <td>Milk</td>\n",
       "      <td>160</td>\n",
       "    </tr>\n",
       "  </tbody>\n",
       "</table>\n",
       "</div>"
      ],
      "text/plain": [
       "  Products  Sales\n",
       "0   Coffee    125\n",
       "1      Tea    200\n",
       "2    Juice     75\n",
       "3     Milk    160"
      ]
     },
     "execution_count": 69,
     "metadata": {},
     "output_type": "execute_result"
    }
   ],
   "source": [
    "df5 = df4[['Products','Sales']]\n",
    "df5"
   ]
  },
  {
   "cell_type": "markdown",
   "id": "64822489-9df7-4aa6-9710-cd1586d8cb8f",
   "metadata": {},
   "source": [
    "## Importing data using pandas"
   ]
  },
  {
   "cell_type": "markdown",
   "id": "33304952-a69d-440b-84cb-4b6a818a6019",
   "metadata": {},
   "source": [
    "1)**From a csv file**\n",
    "\n",
    "CSV stands for comma seperated value."
   ]
  },
  {
   "cell_type": "code",
   "execution_count": 82,
   "id": "865ea640-f174-4e6a-b5c8-2ab837e34458",
   "metadata": {},
   "outputs": [
    {
     "data": {
      "text/html": [
       "<div>\n",
       "<style scoped>\n",
       "    .dataframe tbody tr th:only-of-type {\n",
       "        vertical-align: middle;\n",
       "    }\n",
       "\n",
       "    .dataframe tbody tr th {\n",
       "        vertical-align: top;\n",
       "    }\n",
       "\n",
       "    .dataframe thead th {\n",
       "        text-align: right;\n",
       "    }\n",
       "</style>\n",
       "<table border=\"1\" class=\"dataframe\">\n",
       "  <thead>\n",
       "    <tr style=\"text-align: right;\">\n",
       "      <th></th>\n",
       "      <th>Loan_ID</th>\n",
       "      <th>Gender</th>\n",
       "      <th>Married</th>\n",
       "      <th>Dependents</th>\n",
       "      <th>Education</th>\n",
       "      <th>Self_Employed</th>\n",
       "      <th>ApplicantIncome</th>\n",
       "      <th>CoapplicantIncome</th>\n",
       "      <th>LoanAmount</th>\n",
       "      <th>Loan_Amount_Term</th>\n",
       "      <th>Credit_History</th>\n",
       "      <th>Property_Area</th>\n",
       "      <th>Loan_Status</th>\n",
       "    </tr>\n",
       "  </thead>\n",
       "  <tbody>\n",
       "    <tr>\n",
       "      <th>0</th>\n",
       "      <td>LP001002</td>\n",
       "      <td>Male</td>\n",
       "      <td>No</td>\n",
       "      <td>0</td>\n",
       "      <td>Graduate</td>\n",
       "      <td>No</td>\n",
       "      <td>5849</td>\n",
       "      <td>0.0</td>\n",
       "      <td>NaN</td>\n",
       "      <td>360.0</td>\n",
       "      <td>1.0</td>\n",
       "      <td>Urban</td>\n",
       "      <td>Y</td>\n",
       "    </tr>\n",
       "    <tr>\n",
       "      <th>1</th>\n",
       "      <td>LP001003</td>\n",
       "      <td>Male</td>\n",
       "      <td>Yes</td>\n",
       "      <td>1</td>\n",
       "      <td>Graduate</td>\n",
       "      <td>No</td>\n",
       "      <td>4583</td>\n",
       "      <td>1508.0</td>\n",
       "      <td>128.0</td>\n",
       "      <td>360.0</td>\n",
       "      <td>1.0</td>\n",
       "      <td>Rural</td>\n",
       "      <td>N</td>\n",
       "    </tr>\n",
       "    <tr>\n",
       "      <th>2</th>\n",
       "      <td>LP001005</td>\n",
       "      <td>Male</td>\n",
       "      <td>Yes</td>\n",
       "      <td>0</td>\n",
       "      <td>Graduate</td>\n",
       "      <td>Yes</td>\n",
       "      <td>3000</td>\n",
       "      <td>0.0</td>\n",
       "      <td>66.0</td>\n",
       "      <td>360.0</td>\n",
       "      <td>1.0</td>\n",
       "      <td>Urban</td>\n",
       "      <td>Y</td>\n",
       "    </tr>\n",
       "  </tbody>\n",
       "</table>\n",
       "</div>"
      ],
      "text/plain": [
       "    Loan_ID Gender Married Dependents Education Self_Employed  \\\n",
       "0  LP001002   Male      No          0  Graduate            No   \n",
       "1  LP001003   Male     Yes          1  Graduate            No   \n",
       "2  LP001005   Male     Yes          0  Graduate           Yes   \n",
       "\n",
       "   ApplicantIncome  CoapplicantIncome  LoanAmount  Loan_Amount_Term  \\\n",
       "0             5849                0.0         NaN             360.0   \n",
       "1             4583             1508.0       128.0             360.0   \n",
       "2             3000                0.0        66.0             360.0   \n",
       "\n",
       "   Credit_History Property_Area Loan_Status  \n",
       "0             1.0         Urban           Y  \n",
       "1             1.0         Rural           N  \n",
       "2             1.0         Urban           Y  "
      ]
     },
     "execution_count": 82,
     "metadata": {},
     "output_type": "execute_result"
    }
   ],
   "source": [
    "df_csv = pd.read_csv('test1.csv')\n",
    "df_csv.head(3)"
   ]
  },
  {
   "cell_type": "markdown",
   "id": "f90f426c-ea0a-458d-8ceb-6f2b9303cad8",
   "metadata": {},
   "source": [
    "2)**From aexcel file**"
   ]
  },
  {
   "cell_type": "code",
   "execution_count": 100,
   "id": "a0cf85e8-628f-493a-a54c-2b24c86524d3",
   "metadata": {},
   "outputs": [
    {
     "data": {
      "text/html": [
       "<div>\n",
       "<style scoped>\n",
       "    .dataframe tbody tr th:only-of-type {\n",
       "        vertical-align: middle;\n",
       "    }\n",
       "\n",
       "    .dataframe tbody tr th {\n",
       "        vertical-align: top;\n",
       "    }\n",
       "\n",
       "    .dataframe thead th {\n",
       "        text-align: right;\n",
       "    }\n",
       "</style>\n",
       "<table border=\"1\" class=\"dataframe\">\n",
       "  <thead>\n",
       "    <tr style=\"text-align: right;\">\n",
       "      <th></th>\n",
       "      <th>OrderDate</th>\n",
       "      <th>Region</th>\n",
       "      <th>Rep</th>\n",
       "      <th>Item</th>\n",
       "      <th>Units</th>\n",
       "      <th>Unit Cost</th>\n",
       "      <th>Total</th>\n",
       "    </tr>\n",
       "  </thead>\n",
       "  <tbody>\n",
       "    <tr>\n",
       "      <th>0</th>\n",
       "      <td>2016-01-06</td>\n",
       "      <td>East</td>\n",
       "      <td>Jones</td>\n",
       "      <td>Pencil</td>\n",
       "      <td>95</td>\n",
       "      <td>1.99</td>\n",
       "      <td>189.05</td>\n",
       "    </tr>\n",
       "    <tr>\n",
       "      <th>1</th>\n",
       "      <td>2016-01-23</td>\n",
       "      <td>Central</td>\n",
       "      <td>Kivell</td>\n",
       "      <td>Binder</td>\n",
       "      <td>50</td>\n",
       "      <td>19.99</td>\n",
       "      <td>999.50</td>\n",
       "    </tr>\n",
       "    <tr>\n",
       "      <th>2</th>\n",
       "      <td>2016-02-09</td>\n",
       "      <td>Central</td>\n",
       "      <td>Jardine</td>\n",
       "      <td>Pencil</td>\n",
       "      <td>36</td>\n",
       "      <td>4.99</td>\n",
       "      <td>179.64</td>\n",
       "    </tr>\n",
       "    <tr>\n",
       "      <th>3</th>\n",
       "      <td>2016-02-26</td>\n",
       "      <td>Central</td>\n",
       "      <td>Gill</td>\n",
       "      <td>Pen</td>\n",
       "      <td>27</td>\n",
       "      <td>19.99</td>\n",
       "      <td>539.73</td>\n",
       "    </tr>\n",
       "    <tr>\n",
       "      <th>4</th>\n",
       "      <td>2016-03-15</td>\n",
       "      <td>West</td>\n",
       "      <td>Sorvino</td>\n",
       "      <td>Pencil</td>\n",
       "      <td>56</td>\n",
       "      <td>2.99</td>\n",
       "      <td>167.44</td>\n",
       "    </tr>\n",
       "  </tbody>\n",
       "</table>\n",
       "</div>"
      ],
      "text/plain": [
       "   OrderDate   Region      Rep    Item  Units  Unit Cost   Total\n",
       "0 2016-01-06     East    Jones  Pencil     95       1.99  189.05\n",
       "1 2016-01-23  Central   Kivell  Binder     50      19.99  999.50\n",
       "2 2016-02-09  Central  Jardine  Pencil     36       4.99  179.64\n",
       "3 2016-02-26  Central     Gill     Pen     27      19.99  539.73\n",
       "4 2016-03-15     West  Sorvino  Pencil     56       2.99  167.44"
      ]
     },
     "execution_count": 100,
     "metadata": {},
     "output_type": "execute_result"
    }
   ],
   "source": [
    "df_excel = pd.read_excel('Sample_Data.xlsx')\n",
    "df_excel.head()"
   ]
  },
  {
   "cell_type": "markdown",
   "id": "1039e494-f526-4d6f-8314-b08142d0dc77",
   "metadata": {},
   "source": [
    "**3)From a parquet file**\n",
    "Apche Parquet is an open source, column oriented data file format designed for efficient data storage and retrieval. It provides efficient data compression."
   ]
  },
  {
   "cell_type": "code",
   "execution_count": 104,
   "id": "e2c61d52-1aad-45a4-8f5c-46f1f5608483",
   "metadata": {},
   "outputs": [
    {
     "data": {
      "text/html": [
       "<div>\n",
       "<style scoped>\n",
       "    .dataframe tbody tr th:only-of-type {\n",
       "        vertical-align: middle;\n",
       "    }\n",
       "\n",
       "    .dataframe tbody tr th {\n",
       "        vertical-align: top;\n",
       "    }\n",
       "\n",
       "    .dataframe thead th {\n",
       "        text-align: right;\n",
       "    }\n",
       "</style>\n",
       "<table border=\"1\" class=\"dataframe\">\n",
       "  <thead>\n",
       "    <tr style=\"text-align: right;\">\n",
       "      <th></th>\n",
       "      <th>model</th>\n",
       "      <th>mpg</th>\n",
       "      <th>cyl</th>\n",
       "      <th>disp</th>\n",
       "      <th>hp</th>\n",
       "      <th>drat</th>\n",
       "      <th>wt</th>\n",
       "      <th>qsec</th>\n",
       "      <th>vs</th>\n",
       "      <th>am</th>\n",
       "      <th>gear</th>\n",
       "      <th>carb</th>\n",
       "    </tr>\n",
       "  </thead>\n",
       "  <tbody>\n",
       "    <tr>\n",
       "      <th>0</th>\n",
       "      <td>Mazda RX4</td>\n",
       "      <td>21.0</td>\n",
       "      <td>6</td>\n",
       "      <td>160.0</td>\n",
       "      <td>110</td>\n",
       "      <td>3.90</td>\n",
       "      <td>2.620</td>\n",
       "      <td>16.46</td>\n",
       "      <td>0</td>\n",
       "      <td>1</td>\n",
       "      <td>4</td>\n",
       "      <td>4</td>\n",
       "    </tr>\n",
       "    <tr>\n",
       "      <th>1</th>\n",
       "      <td>Mazda RX4 Wag</td>\n",
       "      <td>21.0</td>\n",
       "      <td>6</td>\n",
       "      <td>160.0</td>\n",
       "      <td>110</td>\n",
       "      <td>3.90</td>\n",
       "      <td>2.875</td>\n",
       "      <td>17.02</td>\n",
       "      <td>0</td>\n",
       "      <td>1</td>\n",
       "      <td>4</td>\n",
       "      <td>4</td>\n",
       "    </tr>\n",
       "    <tr>\n",
       "      <th>2</th>\n",
       "      <td>Datsun 710</td>\n",
       "      <td>22.8</td>\n",
       "      <td>4</td>\n",
       "      <td>108.0</td>\n",
       "      <td>93</td>\n",
       "      <td>3.85</td>\n",
       "      <td>2.320</td>\n",
       "      <td>18.61</td>\n",
       "      <td>1</td>\n",
       "      <td>1</td>\n",
       "      <td>4</td>\n",
       "      <td>1</td>\n",
       "    </tr>\n",
       "    <tr>\n",
       "      <th>3</th>\n",
       "      <td>Hornet 4 Drive</td>\n",
       "      <td>21.4</td>\n",
       "      <td>6</td>\n",
       "      <td>258.0</td>\n",
       "      <td>110</td>\n",
       "      <td>3.08</td>\n",
       "      <td>3.215</td>\n",
       "      <td>19.44</td>\n",
       "      <td>1</td>\n",
       "      <td>0</td>\n",
       "      <td>3</td>\n",
       "      <td>1</td>\n",
       "    </tr>\n",
       "    <tr>\n",
       "      <th>4</th>\n",
       "      <td>Hornet Sportabout</td>\n",
       "      <td>18.7</td>\n",
       "      <td>8</td>\n",
       "      <td>360.0</td>\n",
       "      <td>175</td>\n",
       "      <td>3.15</td>\n",
       "      <td>3.440</td>\n",
       "      <td>17.02</td>\n",
       "      <td>0</td>\n",
       "      <td>0</td>\n",
       "      <td>3</td>\n",
       "      <td>2</td>\n",
       "    </tr>\n",
       "  </tbody>\n",
       "</table>\n",
       "</div>"
      ],
      "text/plain": [
       "               model   mpg  cyl   disp   hp  drat     wt   qsec  vs  am  gear  \\\n",
       "0          Mazda RX4  21.0    6  160.0  110  3.90  2.620  16.46   0   1     4   \n",
       "1      Mazda RX4 Wag  21.0    6  160.0  110  3.90  2.875  17.02   0   1     4   \n",
       "2         Datsun 710  22.8    4  108.0   93  3.85  2.320  18.61   1   1     4   \n",
       "3     Hornet 4 Drive  21.4    6  258.0  110  3.08  3.215  19.44   1   0     3   \n",
       "4  Hornet Sportabout  18.7    8  360.0  175  3.15  3.440  17.02   0   0     3   \n",
       "\n",
       "   carb  \n",
       "0     4  \n",
       "1     4  \n",
       "2     1  \n",
       "3     1  \n",
       "4     2  "
      ]
     },
     "execution_count": 104,
     "metadata": {},
     "output_type": "execute_result"
    }
   ],
   "source": [
    "df_paraquet = pd.read_parquet('Cars_Data.parquet')\n",
    "df_paraquet.head()"
   ]
  },
  {
   "cell_type": "markdown",
   "id": "19ab029d-5902-450e-8828-536ab7db0929",
   "metadata": {},
   "source": [
    "## Saving a DataFrame"
   ]
  },
  {
   "cell_type": "code",
   "execution_count": null,
   "id": "d459a3d4-fe2e-4a9f-91bd-5456a29f231e",
   "metadata": {},
   "outputs": [],
   "source": [
    "**1) Saving a DataFrame as CSV**"
   ]
  },
  {
   "cell_type": "code",
   "execution_count": 106,
   "id": "acebfd8a-2fec-407d-9c04-11704ea29940",
   "metadata": {},
   "outputs": [
    {
     "data": {
      "text/html": [
       "<div>\n",
       "<style scoped>\n",
       "    .dataframe tbody tr th:only-of-type {\n",
       "        vertical-align: middle;\n",
       "    }\n",
       "\n",
       "    .dataframe tbody tr th {\n",
       "        vertical-align: top;\n",
       "    }\n",
       "\n",
       "    .dataframe thead th {\n",
       "        text-align: right;\n",
       "    }\n",
       "</style>\n",
       "<table border=\"1\" class=\"dataframe\">\n",
       "  <thead>\n",
       "    <tr style=\"text-align: right;\">\n",
       "      <th></th>\n",
       "      <th>Name</th>\n",
       "      <th>Scores</th>\n",
       "    </tr>\n",
       "  </thead>\n",
       "  <tbody>\n",
       "    <tr>\n",
       "      <th>0</th>\n",
       "      <td>Ankit</td>\n",
       "      <td>78</td>\n",
       "    </tr>\n",
       "    <tr>\n",
       "      <th>1</th>\n",
       "      <td>Shikha</td>\n",
       "      <td>91</td>\n",
       "    </tr>\n",
       "    <tr>\n",
       "      <th>2</th>\n",
       "      <td>Pankaj</td>\n",
       "      <td>84</td>\n",
       "    </tr>\n",
       "    <tr>\n",
       "      <th>3</th>\n",
       "      <td>Vibhor</td>\n",
       "      <td>75</td>\n",
       "    </tr>\n",
       "    <tr>\n",
       "      <th>4</th>\n",
       "      <td>Ujjwal</td>\n",
       "      <td>85</td>\n",
       "    </tr>\n",
       "    <tr>\n",
       "      <th>5</th>\n",
       "      <td>Kartik</td>\n",
       "      <td>93</td>\n",
       "    </tr>\n",
       "  </tbody>\n",
       "</table>\n",
       "</div>"
      ],
      "text/plain": [
       "     Name  Scores\n",
       "0   Ankit      78\n",
       "1  Shikha      91\n",
       "2  Pankaj      84\n",
       "3  Vibhor      75\n",
       "4  Ujjwal      85\n",
       "5  Kartik      93"
      ]
     },
     "execution_count": 106,
     "metadata": {},
     "output_type": "execute_result"
    }
   ],
   "source": [
    "df1"
   ]
  },
  {
   "cell_type": "code",
   "execution_count": 108,
   "id": "fd84840c-f986-409b-ac71-3c3f92fdc217",
   "metadata": {},
   "outputs": [],
   "source": [
    "df1.to_csv('df1_24Julu.csv')"
   ]
  },
  {
   "cell_type": "markdown",
   "id": "3d95547f-e80c-4f84-9513-d67acee242c5",
   "metadata": {},
   "source": [
    "**2) Saving a DataFrame as excel**"
   ]
  },
  {
   "cell_type": "code",
   "execution_count": 110,
   "id": "08435697-7b30-42bb-a75d-d80120580338",
   "metadata": {},
   "outputs": [
    {
     "data": {
      "text/html": [
       "<div>\n",
       "<style scoped>\n",
       "    .dataframe tbody tr th:only-of-type {\n",
       "        vertical-align: middle;\n",
       "    }\n",
       "\n",
       "    .dataframe tbody tr th {\n",
       "        vertical-align: top;\n",
       "    }\n",
       "\n",
       "    .dataframe thead th {\n",
       "        text-align: right;\n",
       "    }\n",
       "</style>\n",
       "<table border=\"1\" class=\"dataframe\">\n",
       "  <thead>\n",
       "    <tr style=\"text-align: right;\">\n",
       "      <th></th>\n",
       "      <th>Capital</th>\n",
       "      <th>Country</th>\n",
       "      <th>Geo Code</th>\n",
       "    </tr>\n",
       "  </thead>\n",
       "  <tbody>\n",
       "    <tr>\n",
       "      <th>0</th>\n",
       "      <td>Delhi</td>\n",
       "      <td>India</td>\n",
       "      <td>1</td>\n",
       "    </tr>\n",
       "    <tr>\n",
       "      <th>1</th>\n",
       "      <td>Tokko</td>\n",
       "      <td>Japan</td>\n",
       "      <td>2</td>\n",
       "    </tr>\n",
       "    <tr>\n",
       "      <th>2</th>\n",
       "      <td>Spain</td>\n",
       "      <td>Madrid</td>\n",
       "      <td>3</td>\n",
       "    </tr>\n",
       "  </tbody>\n",
       "</table>\n",
       "</div>"
      ],
      "text/plain": [
       "  Capital Country  Geo Code\n",
       "0   Delhi   India         1\n",
       "1   Tokko   Japan         2\n",
       "2   Spain  Madrid         3"
      ]
     },
     "execution_count": 110,
     "metadata": {},
     "output_type": "execute_result"
    }
   ],
   "source": [
    "df2.head()"
   ]
  },
  {
   "cell_type": "code",
   "execution_count": 114,
   "id": "3dfadecf-8e8b-4396-9220-a9663c5084be",
   "metadata": {},
   "outputs": [],
   "source": [
    "df2.to_excel('df2_24July.xlsx')"
   ]
  },
  {
   "cell_type": "markdown",
   "id": "938b389e-d47d-4944-83df-14be232ce913",
   "metadata": {},
   "source": [
    "**3) Saving a DataFrame as parquet file**"
   ]
  },
  {
   "cell_type": "code",
   "execution_count": 116,
   "id": "cb9c7e81-4112-4669-b754-8a5651f88a93",
   "metadata": {},
   "outputs": [
    {
     "data": {
      "text/html": [
       "<div>\n",
       "<style scoped>\n",
       "    .dataframe tbody tr th:only-of-type {\n",
       "        vertical-align: middle;\n",
       "    }\n",
       "\n",
       "    .dataframe tbody tr th {\n",
       "        vertical-align: top;\n",
       "    }\n",
       "\n",
       "    .dataframe thead th {\n",
       "        text-align: right;\n",
       "    }\n",
       "</style>\n",
       "<table border=\"1\" class=\"dataframe\">\n",
       "  <thead>\n",
       "    <tr style=\"text-align: right;\">\n",
       "      <th></th>\n",
       "      <th>Domains</th>\n",
       "      <th>Marks</th>\n",
       "    </tr>\n",
       "  </thead>\n",
       "  <tbody>\n",
       "    <tr>\n",
       "      <th>0</th>\n",
       "      <td>Python</td>\n",
       "      <td>89</td>\n",
       "    </tr>\n",
       "    <tr>\n",
       "      <th>1</th>\n",
       "      <td>DS</td>\n",
       "      <td>78</td>\n",
       "    </tr>\n",
       "    <tr>\n",
       "      <th>2</th>\n",
       "      <td>ML</td>\n",
       "      <td>82</td>\n",
       "    </tr>\n",
       "    <tr>\n",
       "      <th>3</th>\n",
       "      <td>Tableau</td>\n",
       "      <td>85</td>\n",
       "    </tr>\n",
       "    <tr>\n",
       "      <th>4</th>\n",
       "      <td>Excel</td>\n",
       "      <td>93</td>\n",
       "    </tr>\n",
       "  </tbody>\n",
       "</table>\n",
       "</div>"
      ],
      "text/plain": [
       "   Domains  Marks\n",
       "0   Python     89\n",
       "1       DS     78\n",
       "2       ML     82\n",
       "3  Tableau     85\n",
       "4    Excel     93"
      ]
     },
     "execution_count": 116,
     "metadata": {},
     "output_type": "execute_result"
    }
   ],
   "source": [
    "df3"
   ]
  },
  {
   "cell_type": "code",
   "execution_count": 118,
   "id": "92f8ec38-a973-4286-b3ba-a992f93bfd74",
   "metadata": {},
   "outputs": [],
   "source": [
    "df3.to_parquet('df3_24July.parquet')"
   ]
  },
  {
   "cell_type": "code",
   "execution_count": null,
   "id": "0840a522-e95e-449e-9859-852446cf331e",
   "metadata": {},
   "outputs": [],
   "source": []
  }
 ],
 "metadata": {
  "kernelspec": {
   "display_name": "Python 3 (ipykernel)",
   "language": "python",
   "name": "python3"
  },
  "language_info": {
   "codemirror_mode": {
    "name": "ipython",
    "version": 3
   },
   "file_extension": ".py",
   "mimetype": "text/x-python",
   "name": "python",
   "nbconvert_exporter": "python",
   "pygments_lexer": "ipython3",
   "version": "3.12.4"
  }
 },
 "nbformat": 4,
 "nbformat_minor": 5
}
