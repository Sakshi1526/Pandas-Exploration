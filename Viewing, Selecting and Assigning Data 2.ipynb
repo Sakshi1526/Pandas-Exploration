{
 "cells": [
  {
   "cell_type": "markdown",
   "id": "a032c18f-b53e-4ed8-8249-44d188ce3853",
   "metadata": {},
   "source": [
    "# Viewing, Selecting, Assigning Data"
   ]
  },
  {
   "cell_type": "code",
   "execution_count": 55,
   "id": "f2d3692c-91a2-4ab7-877b-b09fd0f84c8d",
   "metadata": {},
   "outputs": [],
   "source": [
    "import pandas as pd\n",
    "import numpy as np"
   ]
  },
  {
   "cell_type": "code",
   "execution_count": 61,
   "id": "e61f95d7-a7b3-4524-bf51-75dbe4d7b626",
   "metadata": {},
   "outputs": [
    {
     "name": "stdout",
     "output_type": "stream",
     "text": [
      "{'Name': ['Ankit', 'Pankaj', 'Shreya', 'Vipin', 'Priyanshi', 'Mukul', 'Abhishek'], 'Scores': [79, 74, 85, 93, 81, 94, 67], 'Age': [23, 21, 24, 22, 23, 22, 21], 'Course': ['BTech', 'BCA', 'BSC', 'BTech', 'BCA', 'MCA', 'MBA']}\n",
      "<class 'dict'>\n",
      "        Name  Scores  Age Course\n",
      "0      Ankit      79   23  BTech\n",
      "1     Pankaj      74   21    BCA\n",
      "2     Shreya      85   24    BSC\n",
      "3      Vipin      93   22  BTech\n",
      "4  Priyanshi      81   23    BCA\n",
      "5      Mukul      94   22    MCA\n",
      "6   Abhishek      67   21    MBA\n"
     ]
    }
   ],
   "source": [
    "data = {\n",
    "    'Name': ['Ankit', 'Pankaj', 'Shreya', 'Vipin', 'Priyanshi', 'Mukul', 'Abhishek'],\n",
    "    'Scores': [79, 74, 85, 93, 81, 94, 67],\n",
    "    'Age': [23, 21, 24, 22, 23, 22, 21],\n",
    "    'Course': ['BTech', 'BCA', 'BSC', 'BTech', 'BCA', 'MCA', 'MBA']  # Added missing elements\n",
    "}\n",
    "print(data)\n",
    "print(type(data))\n",
    "\n",
    "df = pd.DataFrame(data)\n",
    "print(df)"
   ]
  },
  {
   "cell_type": "markdown",
   "id": "987dabf5-222b-4c34-8420-5f9dfab85ffa",
   "metadata": {},
   "source": [
    "## Shape \n",
    "\n",
    "It is a property of dataframe or series that returns the number of rows and columns"
   ]
  },
  {
   "cell_type": "code",
   "execution_count": 63,
   "id": "74fa3abc-8e62-4e1b-8d53-17a55e10aacc",
   "metadata": {},
   "outputs": [
    {
     "data": {
      "text/plain": [
       "(7, 4)"
      ]
     },
     "execution_count": 63,
     "metadata": {},
     "output_type": "execute_result"
    }
   ],
   "source": [
    "df.shape\n",
    "# no. rows = 7, no. of col = 4"
   ]
  },
  {
   "cell_type": "markdown",
   "id": "fa15aaa2-cdf1-40f6-b608-09681c6502d5",
   "metadata": {},
   "source": [
    "## Viewing columns"
   ]
  },
  {
   "cell_type": "code",
   "execution_count": 69,
   "id": "3dce5a59-614d-4796-850f-c680e2a3d26f",
   "metadata": {},
   "outputs": [
    {
     "name": "stdout",
     "output_type": "stream",
     "text": [
      "<class 'pandas.core.indexes.base.Index'>\n"
     ]
    },
    {
     "data": {
      "text/plain": [
       "Index(['Name', 'Scores', 'Age', 'Course'], dtype='object')"
      ]
     },
     "execution_count": 69,
     "metadata": {},
     "output_type": "execute_result"
    }
   ],
   "source": [
    "print(type(df.columns))\n",
    "df.columns"
   ]
  },
  {
   "cell_type": "markdown",
   "id": "e49b44b9-7490-4ed8-a4a1-16e12f336445",
   "metadata": {},
   "source": [
    "## Viewing datatypes of each column"
   ]
  },
  {
   "cell_type": "code",
   "execution_count": 71,
   "id": "7278d7c2-af5e-4ced-ae6d-9c557590703b",
   "metadata": {},
   "outputs": [
    {
     "data": {
      "text/html": [
       "<div>\n",
       "<style scoped>\n",
       "    .dataframe tbody tr th:only-of-type {\n",
       "        vertical-align: middle;\n",
       "    }\n",
       "\n",
       "    .dataframe tbody tr th {\n",
       "        vertical-align: top;\n",
       "    }\n",
       "\n",
       "    .dataframe thead th {\n",
       "        text-align: right;\n",
       "    }\n",
       "</style>\n",
       "<table border=\"1\" class=\"dataframe\">\n",
       "  <thead>\n",
       "    <tr style=\"text-align: right;\">\n",
       "      <th></th>\n",
       "      <th>Name</th>\n",
       "      <th>Scores</th>\n",
       "      <th>Age</th>\n",
       "      <th>Course</th>\n",
       "    </tr>\n",
       "  </thead>\n",
       "  <tbody>\n",
       "    <tr>\n",
       "      <th>0</th>\n",
       "      <td>Ankit</td>\n",
       "      <td>79</td>\n",
       "      <td>23</td>\n",
       "      <td>BTech</td>\n",
       "    </tr>\n",
       "    <tr>\n",
       "      <th>1</th>\n",
       "      <td>Pankaj</td>\n",
       "      <td>74</td>\n",
       "      <td>21</td>\n",
       "      <td>BCA</td>\n",
       "    </tr>\n",
       "    <tr>\n",
       "      <th>2</th>\n",
       "      <td>Shreya</td>\n",
       "      <td>85</td>\n",
       "      <td>24</td>\n",
       "      <td>BSC</td>\n",
       "    </tr>\n",
       "    <tr>\n",
       "      <th>3</th>\n",
       "      <td>Vipin</td>\n",
       "      <td>93</td>\n",
       "      <td>22</td>\n",
       "      <td>BTech</td>\n",
       "    </tr>\n",
       "    <tr>\n",
       "      <th>4</th>\n",
       "      <td>Priyanshi</td>\n",
       "      <td>81</td>\n",
       "      <td>23</td>\n",
       "      <td>BCA</td>\n",
       "    </tr>\n",
       "    <tr>\n",
       "      <th>5</th>\n",
       "      <td>Mukul</td>\n",
       "      <td>94</td>\n",
       "      <td>22</td>\n",
       "      <td>MCA</td>\n",
       "    </tr>\n",
       "    <tr>\n",
       "      <th>6</th>\n",
       "      <td>Abhishek</td>\n",
       "      <td>67</td>\n",
       "      <td>21</td>\n",
       "      <td>MBA</td>\n",
       "    </tr>\n",
       "  </tbody>\n",
       "</table>\n",
       "</div>"
      ],
      "text/plain": [
       "        Name  Scores  Age Course\n",
       "0      Ankit      79   23  BTech\n",
       "1     Pankaj      74   21    BCA\n",
       "2     Shreya      85   24    BSC\n",
       "3      Vipin      93   22  BTech\n",
       "4  Priyanshi      81   23    BCA\n",
       "5      Mukul      94   22    MCA\n",
       "6   Abhishek      67   21    MBA"
      ]
     },
     "execution_count": 71,
     "metadata": {},
     "output_type": "execute_result"
    }
   ],
   "source": [
    "df"
   ]
  },
  {
   "cell_type": "code",
   "execution_count": 75,
   "id": "2f2c9143-db74-4d28-9c94-f9c22971f813",
   "metadata": {},
   "outputs": [
    {
     "data": {
      "text/plain": [
       "Name      object\n",
       "Scores     int64\n",
       "Age        int64\n",
       "Course    object\n",
       "dtype: object"
      ]
     },
     "execution_count": 75,
     "metadata": {},
     "output_type": "execute_result"
    }
   ],
   "source": [
    "df.dtypes"
   ]
  },
  {
   "cell_type": "markdown",
   "id": "7c7c5ebf-edc0-449e-9202-0d3dc91ededc",
   "metadata": {},
   "source": [
    "## Functions to select rows"
   ]
  },
  {
   "cell_type": "markdown",
   "id": "39c69df9-be58-486a-b970-db4890a2078f",
   "metadata": {},
   "source": [
    "## 1)head(n)\n",
    "Returns top 5 rows by default if n is not passed, otherwise top n rows"
   ]
  },
  {
   "cell_type": "code",
   "execution_count": 77,
   "id": "b20df5b8-e4ab-4614-bb13-eec15e5f486e",
   "metadata": {},
   "outputs": [
    {
     "data": {
      "text/html": [
       "<div>\n",
       "<style scoped>\n",
       "    .dataframe tbody tr th:only-of-type {\n",
       "        vertical-align: middle;\n",
       "    }\n",
       "\n",
       "    .dataframe tbody tr th {\n",
       "        vertical-align: top;\n",
       "    }\n",
       "\n",
       "    .dataframe thead th {\n",
       "        text-align: right;\n",
       "    }\n",
       "</style>\n",
       "<table border=\"1\" class=\"dataframe\">\n",
       "  <thead>\n",
       "    <tr style=\"text-align: right;\">\n",
       "      <th></th>\n",
       "      <th>Name</th>\n",
       "      <th>Scores</th>\n",
       "      <th>Age</th>\n",
       "      <th>Course</th>\n",
       "    </tr>\n",
       "  </thead>\n",
       "  <tbody>\n",
       "    <tr>\n",
       "      <th>0</th>\n",
       "      <td>Ankit</td>\n",
       "      <td>79</td>\n",
       "      <td>23</td>\n",
       "      <td>BTech</td>\n",
       "    </tr>\n",
       "    <tr>\n",
       "      <th>1</th>\n",
       "      <td>Pankaj</td>\n",
       "      <td>74</td>\n",
       "      <td>21</td>\n",
       "      <td>BCA</td>\n",
       "    </tr>\n",
       "    <tr>\n",
       "      <th>2</th>\n",
       "      <td>Shreya</td>\n",
       "      <td>85</td>\n",
       "      <td>24</td>\n",
       "      <td>BSC</td>\n",
       "    </tr>\n",
       "    <tr>\n",
       "      <th>3</th>\n",
       "      <td>Vipin</td>\n",
       "      <td>93</td>\n",
       "      <td>22</td>\n",
       "      <td>BTech</td>\n",
       "    </tr>\n",
       "    <tr>\n",
       "      <th>4</th>\n",
       "      <td>Priyanshi</td>\n",
       "      <td>81</td>\n",
       "      <td>23</td>\n",
       "      <td>BCA</td>\n",
       "    </tr>\n",
       "  </tbody>\n",
       "</table>\n",
       "</div>"
      ],
      "text/plain": [
       "        Name  Scores  Age Course\n",
       "0      Ankit      79   23  BTech\n",
       "1     Pankaj      74   21    BCA\n",
       "2     Shreya      85   24    BSC\n",
       "3      Vipin      93   22  BTech\n",
       "4  Priyanshi      81   23    BCA"
      ]
     },
     "execution_count": 77,
     "metadata": {},
     "output_type": "execute_result"
    }
   ],
   "source": [
    "df.head()"
   ]
  },
  {
   "cell_type": "code",
   "execution_count": 79,
   "id": "7a47b69f-e5a0-4a19-b68c-8d14f6c6503c",
   "metadata": {},
   "outputs": [
    {
     "data": {
      "text/html": [
       "<div>\n",
       "<style scoped>\n",
       "    .dataframe tbody tr th:only-of-type {\n",
       "        vertical-align: middle;\n",
       "    }\n",
       "\n",
       "    .dataframe tbody tr th {\n",
       "        vertical-align: top;\n",
       "    }\n",
       "\n",
       "    .dataframe thead th {\n",
       "        text-align: right;\n",
       "    }\n",
       "</style>\n",
       "<table border=\"1\" class=\"dataframe\">\n",
       "  <thead>\n",
       "    <tr style=\"text-align: right;\">\n",
       "      <th></th>\n",
       "      <th>Name</th>\n",
       "      <th>Scores</th>\n",
       "      <th>Age</th>\n",
       "      <th>Course</th>\n",
       "    </tr>\n",
       "  </thead>\n",
       "  <tbody>\n",
       "    <tr>\n",
       "      <th>0</th>\n",
       "      <td>Ankit</td>\n",
       "      <td>79</td>\n",
       "      <td>23</td>\n",
       "      <td>BTech</td>\n",
       "    </tr>\n",
       "    <tr>\n",
       "      <th>1</th>\n",
       "      <td>Pankaj</td>\n",
       "      <td>74</td>\n",
       "      <td>21</td>\n",
       "      <td>BCA</td>\n",
       "    </tr>\n",
       "  </tbody>\n",
       "</table>\n",
       "</div>"
      ],
      "text/plain": [
       "     Name  Scores  Age Course\n",
       "0   Ankit      79   23  BTech\n",
       "1  Pankaj      74   21    BCA"
      ]
     },
     "execution_count": 79,
     "metadata": {},
     "output_type": "execute_result"
    }
   ],
   "source": [
    "df.head(2)"
   ]
  },
  {
   "cell_type": "markdown",
   "id": "45ab0184-6a24-4337-8a4c-00c68c4c52c0",
   "metadata": {},
   "source": [
    "## 2) tail(n)\n",
    "Returns bottom 5 rows by default if n is not passed, otherwise bottom n rows"
   ]
  },
  {
   "cell_type": "code",
   "execution_count": 81,
   "id": "b10f29be-eb40-41fa-9757-1ec7af187f55",
   "metadata": {},
   "outputs": [
    {
     "data": {
      "text/html": [
       "<div>\n",
       "<style scoped>\n",
       "    .dataframe tbody tr th:only-of-type {\n",
       "        vertical-align: middle;\n",
       "    }\n",
       "\n",
       "    .dataframe tbody tr th {\n",
       "        vertical-align: top;\n",
       "    }\n",
       "\n",
       "    .dataframe thead th {\n",
       "        text-align: right;\n",
       "    }\n",
       "</style>\n",
       "<table border=\"1\" class=\"dataframe\">\n",
       "  <thead>\n",
       "    <tr style=\"text-align: right;\">\n",
       "      <th></th>\n",
       "      <th>Name</th>\n",
       "      <th>Scores</th>\n",
       "      <th>Age</th>\n",
       "      <th>Course</th>\n",
       "    </tr>\n",
       "  </thead>\n",
       "  <tbody>\n",
       "    <tr>\n",
       "      <th>2</th>\n",
       "      <td>Shreya</td>\n",
       "      <td>85</td>\n",
       "      <td>24</td>\n",
       "      <td>BSC</td>\n",
       "    </tr>\n",
       "    <tr>\n",
       "      <th>3</th>\n",
       "      <td>Vipin</td>\n",
       "      <td>93</td>\n",
       "      <td>22</td>\n",
       "      <td>BTech</td>\n",
       "    </tr>\n",
       "    <tr>\n",
       "      <th>4</th>\n",
       "      <td>Priyanshi</td>\n",
       "      <td>81</td>\n",
       "      <td>23</td>\n",
       "      <td>BCA</td>\n",
       "    </tr>\n",
       "    <tr>\n",
       "      <th>5</th>\n",
       "      <td>Mukul</td>\n",
       "      <td>94</td>\n",
       "      <td>22</td>\n",
       "      <td>MCA</td>\n",
       "    </tr>\n",
       "    <tr>\n",
       "      <th>6</th>\n",
       "      <td>Abhishek</td>\n",
       "      <td>67</td>\n",
       "      <td>21</td>\n",
       "      <td>MBA</td>\n",
       "    </tr>\n",
       "  </tbody>\n",
       "</table>\n",
       "</div>"
      ],
      "text/plain": [
       "        Name  Scores  Age Course\n",
       "2     Shreya      85   24    BSC\n",
       "3      Vipin      93   22  BTech\n",
       "4  Priyanshi      81   23    BCA\n",
       "5      Mukul      94   22    MCA\n",
       "6   Abhishek      67   21    MBA"
      ]
     },
     "execution_count": 81,
     "metadata": {},
     "output_type": "execute_result"
    }
   ],
   "source": [
    "df.tail()"
   ]
  },
  {
   "cell_type": "code",
   "execution_count": 83,
   "id": "91877f04-d4fd-44eb-896d-0576fca3810c",
   "metadata": {},
   "outputs": [
    {
     "data": {
      "text/html": [
       "<div>\n",
       "<style scoped>\n",
       "    .dataframe tbody tr th:only-of-type {\n",
       "        vertical-align: middle;\n",
       "    }\n",
       "\n",
       "    .dataframe tbody tr th {\n",
       "        vertical-align: top;\n",
       "    }\n",
       "\n",
       "    .dataframe thead th {\n",
       "        text-align: right;\n",
       "    }\n",
       "</style>\n",
       "<table border=\"1\" class=\"dataframe\">\n",
       "  <thead>\n",
       "    <tr style=\"text-align: right;\">\n",
       "      <th></th>\n",
       "      <th>Name</th>\n",
       "      <th>Scores</th>\n",
       "      <th>Age</th>\n",
       "      <th>Course</th>\n",
       "    </tr>\n",
       "  </thead>\n",
       "  <tbody>\n",
       "    <tr>\n",
       "      <th>5</th>\n",
       "      <td>Mukul</td>\n",
       "      <td>94</td>\n",
       "      <td>22</td>\n",
       "      <td>MCA</td>\n",
       "    </tr>\n",
       "    <tr>\n",
       "      <th>6</th>\n",
       "      <td>Abhishek</td>\n",
       "      <td>67</td>\n",
       "      <td>21</td>\n",
       "      <td>MBA</td>\n",
       "    </tr>\n",
       "  </tbody>\n",
       "</table>\n",
       "</div>"
      ],
      "text/plain": [
       "       Name  Scores  Age Course\n",
       "5     Mukul      94   22    MCA\n",
       "6  Abhishek      67   21    MBA"
      ]
     },
     "execution_count": 83,
     "metadata": {},
     "output_type": "execute_result"
    }
   ],
   "source": [
    "df.tail(2)"
   ]
  },
  {
   "cell_type": "markdown",
   "id": "c07168b5-6761-4ae3-bd4b-c7d08af130fc",
   "metadata": {},
   "source": [
    "## 3) sample(n)\n",
    "Returns random 1 row by default if n is not passed, otherwise random n rows"
   ]
  },
  {
   "cell_type": "code",
   "execution_count": 85,
   "id": "03d13808-c1aa-4295-ba9a-22767997e600",
   "metadata": {},
   "outputs": [
    {
     "data": {
      "text/html": [
       "<div>\n",
       "<style scoped>\n",
       "    .dataframe tbody tr th:only-of-type {\n",
       "        vertical-align: middle;\n",
       "    }\n",
       "\n",
       "    .dataframe tbody tr th {\n",
       "        vertical-align: top;\n",
       "    }\n",
       "\n",
       "    .dataframe thead th {\n",
       "        text-align: right;\n",
       "    }\n",
       "</style>\n",
       "<table border=\"1\" class=\"dataframe\">\n",
       "  <thead>\n",
       "    <tr style=\"text-align: right;\">\n",
       "      <th></th>\n",
       "      <th>Name</th>\n",
       "      <th>Scores</th>\n",
       "      <th>Age</th>\n",
       "      <th>Course</th>\n",
       "    </tr>\n",
       "  </thead>\n",
       "  <tbody>\n",
       "    <tr>\n",
       "      <th>6</th>\n",
       "      <td>Abhishek</td>\n",
       "      <td>67</td>\n",
       "      <td>21</td>\n",
       "      <td>MBA</td>\n",
       "    </tr>\n",
       "  </tbody>\n",
       "</table>\n",
       "</div>"
      ],
      "text/plain": [
       "       Name  Scores  Age Course\n",
       "6  Abhishek      67   21    MBA"
      ]
     },
     "execution_count": 85,
     "metadata": {},
     "output_type": "execute_result"
    }
   ],
   "source": [
    "df.sample()"
   ]
  },
  {
   "cell_type": "code",
   "execution_count": 87,
   "id": "1acd6b34-0150-4ce4-87ec-8e66b84e7e53",
   "metadata": {},
   "outputs": [
    {
     "data": {
      "text/html": [
       "<div>\n",
       "<style scoped>\n",
       "    .dataframe tbody tr th:only-of-type {\n",
       "        vertical-align: middle;\n",
       "    }\n",
       "\n",
       "    .dataframe tbody tr th {\n",
       "        vertical-align: top;\n",
       "    }\n",
       "\n",
       "    .dataframe thead th {\n",
       "        text-align: right;\n",
       "    }\n",
       "</style>\n",
       "<table border=\"1\" class=\"dataframe\">\n",
       "  <thead>\n",
       "    <tr style=\"text-align: right;\">\n",
       "      <th></th>\n",
       "      <th>Name</th>\n",
       "      <th>Scores</th>\n",
       "      <th>Age</th>\n",
       "      <th>Course</th>\n",
       "    </tr>\n",
       "  </thead>\n",
       "  <tbody>\n",
       "    <tr>\n",
       "      <th>6</th>\n",
       "      <td>Abhishek</td>\n",
       "      <td>67</td>\n",
       "      <td>21</td>\n",
       "      <td>MBA</td>\n",
       "    </tr>\n",
       "    <tr>\n",
       "      <th>1</th>\n",
       "      <td>Pankaj</td>\n",
       "      <td>74</td>\n",
       "      <td>21</td>\n",
       "      <td>BCA</td>\n",
       "    </tr>\n",
       "    <tr>\n",
       "      <th>2</th>\n",
       "      <td>Shreya</td>\n",
       "      <td>85</td>\n",
       "      <td>24</td>\n",
       "      <td>BSC</td>\n",
       "    </tr>\n",
       "  </tbody>\n",
       "</table>\n",
       "</div>"
      ],
      "text/plain": [
       "       Name  Scores  Age Course\n",
       "6  Abhishek      67   21    MBA\n",
       "1    Pankaj      74   21    BCA\n",
       "2    Shreya      85   24    BSC"
      ]
     },
     "execution_count": 87,
     "metadata": {},
     "output_type": "execute_result"
    }
   ],
   "source": [
    "df.sample(3)"
   ]
  },
  {
   "cell_type": "markdown",
   "id": "1e05e0bf-5028-4050-b9f1-fb7aeb7a67eb",
   "metadata": {},
   "source": [
    "## Functions to describe dataframe"
   ]
  },
  {
   "cell_type": "markdown",
   "id": "324c75fb-a5e2-4d61-b9f5-f55e7ebc2c7e",
   "metadata": {},
   "source": [
    "## 1)describe()\n",
    "Provides statistical details about all the numerial columns in the dataframe"
   ]
  },
  {
   "cell_type": "code",
   "execution_count": 89,
   "id": "27db0d14-12bf-4943-a33e-1a9408a9d402",
   "metadata": {},
   "outputs": [
    {
     "data": {
      "text/plain": [
       "<bound method NDFrame.describe of         Name  Scores  Age Course\n",
       "0      Ankit      79   23  BTech\n",
       "1     Pankaj      74   21    BCA\n",
       "2     Shreya      85   24    BSC\n",
       "3      Vipin      93   22  BTech\n",
       "4  Priyanshi      81   23    BCA\n",
       "5      Mukul      94   22    MCA\n",
       "6   Abhishek      67   21    MBA>"
      ]
     },
     "execution_count": 89,
     "metadata": {},
     "output_type": "execute_result"
    }
   ],
   "source": [
    "df.describe"
   ]
  },
  {
   "cell_type": "markdown",
   "id": "e9f3e958-7538-4e1d-839b-1ff109c09bf0",
   "metadata": {},
   "source": [
    "## 2) inf0()\n",
    "1. Print a concise summary of a dataframe\n",
    "2. This method prints information about a dataframe including the index dtype and columns, non-null values and memory usage."
   ]
  },
  {
   "cell_type": "code",
   "execution_count": 91,
   "id": "c660ac5b-0100-4e5f-856e-05278830bb67",
   "metadata": {},
   "outputs": [
    {
     "name": "stdout",
     "output_type": "stream",
     "text": [
      "<class 'pandas.core.frame.DataFrame'>\n",
      "RangeIndex: 7 entries, 0 to 6\n",
      "Data columns (total 4 columns):\n",
      " #   Column  Non-Null Count  Dtype \n",
      "---  ------  --------------  ----- \n",
      " 0   Name    7 non-null      object\n",
      " 1   Scores  7 non-null      int64 \n",
      " 2   Age     7 non-null      int64 \n",
      " 3   Course  7 non-null      object\n",
      "dtypes: int64(2), object(2)\n",
      "memory usage: 356.0+ bytes\n"
     ]
    }
   ],
   "source": [
    "df.info()"
   ]
  },
  {
   "cell_type": "markdown",
   "id": "b9533da5-9dcd-4986-992c-c359b59b61eb",
   "metadata": {},
   "source": [
    "## Count Related Functions\n",
    "\n",
    "## 1)count()\n",
    "Count non-null cells for each column or row."
   ]
  },
  {
   "cell_type": "code",
   "execution_count": 93,
   "id": "bdae8e7e-9c55-48c3-83d6-3fcaeda62a83",
   "metadata": {},
   "outputs": [
    {
     "data": {
      "text/plain": [
       "Name      7\n",
       "Scores    7\n",
       "Age       7\n",
       "Course    7\n",
       "dtype: int64"
      ]
     },
     "execution_count": 93,
     "metadata": {},
     "output_type": "execute_result"
    }
   ],
   "source": [
    "df.count() # axis = 0 , column count "
   ]
  },
  {
   "cell_type": "markdown",
   "id": "3793b1cb-e45f-4be0-b35a-46736e14d959",
   "metadata": {},
   "source": [
    "df.count(axis=1)"
   ]
  },
  {
   "cell_type": "markdown",
   "id": "1553df9f-518c-47f1-9157-991d57421229",
   "metadata": {},
   "source": [
    "## 2)value_counts()\n",
    "Return a series containing counts of unique rows in the dataframe"
   ]
  },
  {
   "cell_type": "code",
   "execution_count": 97,
   "id": "09c55fa6-c9ea-4a0e-a1a4-8f43e875429e",
   "metadata": {},
   "outputs": [
    {
     "data": {
      "text/plain": [
       "Course\n",
       "BTech    2\n",
       "BCA      2\n",
       "BSC      1\n",
       "MCA      1\n",
       "MBA      1\n",
       "Name: count, dtype: int64"
      ]
     },
     "execution_count": 97,
     "metadata": {},
     "output_type": "execute_result"
    }
   ],
   "source": [
    "df['Course'].value_counts()"
   ]
  },
  {
   "cell_type": "markdown",
   "id": "2fb45a9a-5af5-4aec-ace0-d1962af055e9",
   "metadata": {},
   "source": [
    "## 3) unique()\n",
    "Returns unique values from a series"
   ]
  },
  {
   "cell_type": "code",
   "execution_count": 99,
   "id": "7eb8e014-890c-4130-9b19-a046f076e577",
   "metadata": {},
   "outputs": [
    {
     "data": {
      "text/plain": [
       "array(['BTech', 'BCA', 'BSC', 'MCA', 'MBA'], dtype=object)"
      ]
     },
     "execution_count": 99,
     "metadata": {},
     "output_type": "execute_result"
    }
   ],
   "source": [
    "df['Course'].unique()"
   ]
  },
  {
   "cell_type": "markdown",
   "id": "6dc13c6e-d18d-4d99-b65d-e8d7d44aebe5",
   "metadata": {},
   "source": [
    "## 4) nunique()\n",
    "Count distinct observations over requested axis."
   ]
  },
  {
   "cell_type": "code",
   "execution_count": 101,
   "id": "f1aaea05-7f1d-4016-a3b3-f1a9d391b405",
   "metadata": {},
   "outputs": [
    {
     "data": {
      "text/plain": [
       "5"
      ]
     },
     "execution_count": 101,
     "metadata": {},
     "output_type": "execute_result"
    }
   ],
   "source": [
    "df['Course'].nunique()"
   ]
  },
  {
   "cell_type": "markdown",
   "id": "f11718ae-18dd-438b-bbe4-d193106dc572",
   "metadata": {},
   "source": [
    "## Manipulate dataframe"
   ]
  },
  {
   "cell_type": "markdown",
   "id": "0a5cbba9-ba32-43ab-9423-73804476fa3e",
   "metadata": {},
   "source": [
    "## 1) df.iloc\n",
    "1. iloc is used for indexing or selecting based on position.i.e. by row number and column number. it accepets only ineteger. it is 0 based.\n",
    "2. it is used to slice row s and columns. Roes and columns must be sliced with indexes starting from 0 and onwards. negative indexing is allowed, following the rules of indexing and slicing.\n",
    "\n",
    "syntax<br>\n",
    "df.iloc[start_r,end_r,step_r,start_c,end_c,step_c]"
   ]
  },
  {
   "cell_type": "code",
   "execution_count": 103,
   "id": "b45892d9-b834-46f9-b090-9cea7569c6fc",
   "metadata": {},
   "outputs": [
    {
     "data": {
      "text/html": [
       "<div>\n",
       "<style scoped>\n",
       "    .dataframe tbody tr th:only-of-type {\n",
       "        vertical-align: middle;\n",
       "    }\n",
       "\n",
       "    .dataframe tbody tr th {\n",
       "        vertical-align: top;\n",
       "    }\n",
       "\n",
       "    .dataframe thead th {\n",
       "        text-align: right;\n",
       "    }\n",
       "</style>\n",
       "<table border=\"1\" class=\"dataframe\">\n",
       "  <thead>\n",
       "    <tr style=\"text-align: right;\">\n",
       "      <th></th>\n",
       "      <th>Name</th>\n",
       "      <th>Scores</th>\n",
       "      <th>Age</th>\n",
       "      <th>Course</th>\n",
       "    </tr>\n",
       "  </thead>\n",
       "  <tbody>\n",
       "    <tr>\n",
       "      <th>0</th>\n",
       "      <td>Ankit</td>\n",
       "      <td>79</td>\n",
       "      <td>23</td>\n",
       "      <td>BTech</td>\n",
       "    </tr>\n",
       "    <tr>\n",
       "      <th>1</th>\n",
       "      <td>Pankaj</td>\n",
       "      <td>74</td>\n",
       "      <td>21</td>\n",
       "      <td>BCA</td>\n",
       "    </tr>\n",
       "    <tr>\n",
       "      <th>2</th>\n",
       "      <td>Shreya</td>\n",
       "      <td>85</td>\n",
       "      <td>24</td>\n",
       "      <td>BSC</td>\n",
       "    </tr>\n",
       "    <tr>\n",
       "      <th>3</th>\n",
       "      <td>Vipin</td>\n",
       "      <td>93</td>\n",
       "      <td>22</td>\n",
       "      <td>BTech</td>\n",
       "    </tr>\n",
       "    <tr>\n",
       "      <th>4</th>\n",
       "      <td>Priyanshi</td>\n",
       "      <td>81</td>\n",
       "      <td>23</td>\n",
       "      <td>BCA</td>\n",
       "    </tr>\n",
       "    <tr>\n",
       "      <th>5</th>\n",
       "      <td>Mukul</td>\n",
       "      <td>94</td>\n",
       "      <td>22</td>\n",
       "      <td>MCA</td>\n",
       "    </tr>\n",
       "    <tr>\n",
       "      <th>6</th>\n",
       "      <td>Abhishek</td>\n",
       "      <td>67</td>\n",
       "      <td>21</td>\n",
       "      <td>MBA</td>\n",
       "    </tr>\n",
       "  </tbody>\n",
       "</table>\n",
       "</div>"
      ],
      "text/plain": [
       "        Name  Scores  Age Course\n",
       "0      Ankit      79   23  BTech\n",
       "1     Pankaj      74   21    BCA\n",
       "2     Shreya      85   24    BSC\n",
       "3      Vipin      93   22  BTech\n",
       "4  Priyanshi      81   23    BCA\n",
       "5      Mukul      94   22    MCA\n",
       "6   Abhishek      67   21    MBA"
      ]
     },
     "execution_count": 103,
     "metadata": {},
     "output_type": "execute_result"
    }
   ],
   "source": [
    "df"
   ]
  },
  {
   "cell_type": "code",
   "execution_count": 105,
   "id": "25d5a26a-017a-4d22-a048-6859d6edc0c9",
   "metadata": {},
   "outputs": [
    {
     "data": {
      "text/html": [
       "<div>\n",
       "<style scoped>\n",
       "    .dataframe tbody tr th:only-of-type {\n",
       "        vertical-align: middle;\n",
       "    }\n",
       "\n",
       "    .dataframe tbody tr th {\n",
       "        vertical-align: top;\n",
       "    }\n",
       "\n",
       "    .dataframe thead th {\n",
       "        text-align: right;\n",
       "    }\n",
       "</style>\n",
       "<table border=\"1\" class=\"dataframe\">\n",
       "  <thead>\n",
       "    <tr style=\"text-align: right;\">\n",
       "      <th></th>\n",
       "      <th>Name</th>\n",
       "      <th>Scores</th>\n",
       "      <th>Age</th>\n",
       "      <th>Course</th>\n",
       "    </tr>\n",
       "  </thead>\n",
       "  <tbody>\n",
       "    <tr>\n",
       "      <th>2</th>\n",
       "      <td>Shreya</td>\n",
       "      <td>85</td>\n",
       "      <td>24</td>\n",
       "      <td>BSC</td>\n",
       "    </tr>\n",
       "    <tr>\n",
       "      <th>3</th>\n",
       "      <td>Vipin</td>\n",
       "      <td>93</td>\n",
       "      <td>22</td>\n",
       "      <td>BTech</td>\n",
       "    </tr>\n",
       "  </tbody>\n",
       "</table>\n",
       "</div>"
      ],
      "text/plain": [
       "     Name  Scores  Age Course\n",
       "2  Shreya      85   24    BSC\n",
       "3   Vipin      93   22  BTech"
      ]
     },
     "execution_count": 105,
     "metadata": {},
     "output_type": "execute_result"
    }
   ],
   "source": [
    "df.iloc[2:4,:] # start_r = 2, end_r = 4, step_r = 1"
   ]
  },
  {
   "cell_type": "code",
   "execution_count": 107,
   "id": "35e7799e-27f3-47c3-a1a6-df45f1c0ac09",
   "metadata": {},
   "outputs": [
    {
     "data": {
      "text/html": [
       "<div>\n",
       "<style scoped>\n",
       "    .dataframe tbody tr th:only-of-type {\n",
       "        vertical-align: middle;\n",
       "    }\n",
       "\n",
       "    .dataframe tbody tr th {\n",
       "        vertical-align: top;\n",
       "    }\n",
       "\n",
       "    .dataframe thead th {\n",
       "        text-align: right;\n",
       "    }\n",
       "</style>\n",
       "<table border=\"1\" class=\"dataframe\">\n",
       "  <thead>\n",
       "    <tr style=\"text-align: right;\">\n",
       "      <th></th>\n",
       "      <th>Name</th>\n",
       "      <th>Scores</th>\n",
       "      <th>Age</th>\n",
       "      <th>Course</th>\n",
       "    </tr>\n",
       "  </thead>\n",
       "  <tbody>\n",
       "    <tr>\n",
       "      <th>3</th>\n",
       "      <td>Vipin</td>\n",
       "      <td>93</td>\n",
       "      <td>22</td>\n",
       "      <td>BTech</td>\n",
       "    </tr>\n",
       "    <tr>\n",
       "      <th>4</th>\n",
       "      <td>Priyanshi</td>\n",
       "      <td>81</td>\n",
       "      <td>23</td>\n",
       "      <td>BCA</td>\n",
       "    </tr>\n",
       "    <tr>\n",
       "      <th>5</th>\n",
       "      <td>Mukul</td>\n",
       "      <td>94</td>\n",
       "      <td>22</td>\n",
       "      <td>MCA</td>\n",
       "    </tr>\n",
       "    <tr>\n",
       "      <th>6</th>\n",
       "      <td>Abhishek</td>\n",
       "      <td>67</td>\n",
       "      <td>21</td>\n",
       "      <td>MBA</td>\n",
       "    </tr>\n",
       "  </tbody>\n",
       "</table>\n",
       "</div>"
      ],
      "text/plain": [
       "        Name  Scores  Age Course\n",
       "3      Vipin      93   22  BTech\n",
       "4  Priyanshi      81   23    BCA\n",
       "5      Mukul      94   22    MCA\n",
       "6   Abhishek      67   21    MBA"
      ]
     },
     "execution_count": 107,
     "metadata": {},
     "output_type": "execute_result"
    }
   ],
   "source": [
    "df.iloc[3:,:] # start-r = 3"
   ]
  },
  {
   "cell_type": "code",
   "execution_count": 109,
   "id": "048c1823-f6c7-4a50-88f9-948df17eb9be",
   "metadata": {},
   "outputs": [
    {
     "data": {
      "text/html": [
       "<div>\n",
       "<style scoped>\n",
       "    .dataframe tbody tr th:only-of-type {\n",
       "        vertical-align: middle;\n",
       "    }\n",
       "\n",
       "    .dataframe tbody tr th {\n",
       "        vertical-align: top;\n",
       "    }\n",
       "\n",
       "    .dataframe thead th {\n",
       "        text-align: right;\n",
       "    }\n",
       "</style>\n",
       "<table border=\"1\" class=\"dataframe\">\n",
       "  <thead>\n",
       "    <tr style=\"text-align: right;\">\n",
       "      <th></th>\n",
       "      <th>Age</th>\n",
       "      <th>Course</th>\n",
       "    </tr>\n",
       "  </thead>\n",
       "  <tbody>\n",
       "    <tr>\n",
       "      <th>0</th>\n",
       "      <td>23</td>\n",
       "      <td>BTech</td>\n",
       "    </tr>\n",
       "    <tr>\n",
       "      <th>1</th>\n",
       "      <td>21</td>\n",
       "      <td>BCA</td>\n",
       "    </tr>\n",
       "    <tr>\n",
       "      <th>2</th>\n",
       "      <td>24</td>\n",
       "      <td>BSC</td>\n",
       "    </tr>\n",
       "  </tbody>\n",
       "</table>\n",
       "</div>"
      ],
      "text/plain": [
       "   Age Course\n",
       "0   23  BTech\n",
       "1   21    BCA\n",
       "2   24    BSC"
      ]
     },
     "execution_count": 109,
     "metadata": {},
     "output_type": "execute_result"
    }
   ],
   "source": [
    "df.iloc[:3,2:] # end_r = 3, start c = 2\n",
    "# r_no = 0,1,2 , col = ['Age','Course']"
   ]
  },
  {
   "cell_type": "code",
   "execution_count": 111,
   "id": "260ca072-3601-4015-a09a-9fb067b2fd80",
   "metadata": {},
   "outputs": [
    {
     "data": {
      "text/html": [
       "<div>\n",
       "<style scoped>\n",
       "    .dataframe tbody tr th:only-of-type {\n",
       "        vertical-align: middle;\n",
       "    }\n",
       "\n",
       "    .dataframe tbody tr th {\n",
       "        vertical-align: top;\n",
       "    }\n",
       "\n",
       "    .dataframe thead th {\n",
       "        text-align: right;\n",
       "    }\n",
       "</style>\n",
       "<table border=\"1\" class=\"dataframe\">\n",
       "  <thead>\n",
       "    <tr style=\"text-align: right;\">\n",
       "      <th></th>\n",
       "      <th>Name</th>\n",
       "      <th>Age</th>\n",
       "    </tr>\n",
       "  </thead>\n",
       "  <tbody>\n",
       "    <tr>\n",
       "      <th>0</th>\n",
       "      <td>Ankit</td>\n",
       "      <td>23</td>\n",
       "    </tr>\n",
       "    <tr>\n",
       "      <th>1</th>\n",
       "      <td>Pankaj</td>\n",
       "      <td>21</td>\n",
       "    </tr>\n",
       "    <tr>\n",
       "      <th>2</th>\n",
       "      <td>Shreya</td>\n",
       "      <td>24</td>\n",
       "    </tr>\n",
       "    <tr>\n",
       "      <th>3</th>\n",
       "      <td>Vipin</td>\n",
       "      <td>22</td>\n",
       "    </tr>\n",
       "    <tr>\n",
       "      <th>4</th>\n",
       "      <td>Priyanshi</td>\n",
       "      <td>23</td>\n",
       "    </tr>\n",
       "  </tbody>\n",
       "</table>\n",
       "</div>"
      ],
      "text/plain": [
       "        Name  Age\n",
       "0      Ankit   23\n",
       "1     Pankaj   21\n",
       "2     Shreya   24\n",
       "3      Vipin   22\n",
       "4  Priyanshi   23"
      ]
     },
     "execution_count": 111,
     "metadata": {},
     "output_type": "execute_result"
    }
   ],
   "source": [
    "df.iloc[:5,::2]"
   ]
  },
  {
   "cell_type": "code",
   "execution_count": 113,
   "id": "ee0fa224-0008-4547-bce0-4bb813809313",
   "metadata": {},
   "outputs": [
    {
     "data": {
      "text/html": [
       "<div>\n",
       "<style scoped>\n",
       "    .dataframe tbody tr th:only-of-type {\n",
       "        vertical-align: middle;\n",
       "    }\n",
       "\n",
       "    .dataframe tbody tr th {\n",
       "        vertical-align: top;\n",
       "    }\n",
       "\n",
       "    .dataframe thead th {\n",
       "        text-align: right;\n",
       "    }\n",
       "</style>\n",
       "<table border=\"1\" class=\"dataframe\">\n",
       "  <thead>\n",
       "    <tr style=\"text-align: right;\">\n",
       "      <th></th>\n",
       "      <th>Age</th>\n",
       "      <th>Course</th>\n",
       "    </tr>\n",
       "  </thead>\n",
       "  <tbody>\n",
       "    <tr>\n",
       "      <th>1</th>\n",
       "      <td>21</td>\n",
       "      <td>BCA</td>\n",
       "    </tr>\n",
       "    <tr>\n",
       "      <th>3</th>\n",
       "      <td>22</td>\n",
       "      <td>BTech</td>\n",
       "    </tr>\n",
       "    <tr>\n",
       "      <th>5</th>\n",
       "      <td>22</td>\n",
       "      <td>MCA</td>\n",
       "    </tr>\n",
       "  </tbody>\n",
       "</table>\n",
       "</div>"
      ],
      "text/plain": [
       "   Age Course\n",
       "1   21    BCA\n",
       "3   22  BTech\n",
       "5   22    MCA"
      ]
     },
     "execution_count": 113,
     "metadata": {},
     "output_type": "execute_result"
    }
   ],
   "source": [
    "df.iloc[1::2,2:]"
   ]
  },
  {
   "cell_type": "markdown",
   "id": "6fddb115-9f30-4d04-8149-32ad5b22efbc",
   "metadata": {},
   "source": [
    "## df.loc\n",
    "1. loc is used for indexing or selecting based on name i.e. by row name and column name (explicit index)\n",
    "2. It can be used for filtering as well.\n",
    "3. In left to right slicing, slicing is performed till end."
   ]
  },
  {
   "cell_type": "code",
   "execution_count": 115,
   "id": "d6d36f95-c69c-4672-9644-2098f1b394ad",
   "metadata": {},
   "outputs": [
    {
     "data": {
      "text/html": [
       "<div>\n",
       "<style scoped>\n",
       "    .dataframe tbody tr th:only-of-type {\n",
       "        vertical-align: middle;\n",
       "    }\n",
       "\n",
       "    .dataframe tbody tr th {\n",
       "        vertical-align: top;\n",
       "    }\n",
       "\n",
       "    .dataframe thead th {\n",
       "        text-align: right;\n",
       "    }\n",
       "</style>\n",
       "<table border=\"1\" class=\"dataframe\">\n",
       "  <thead>\n",
       "    <tr style=\"text-align: right;\">\n",
       "      <th></th>\n",
       "      <th>Name</th>\n",
       "      <th>Scores</th>\n",
       "      <th>Age</th>\n",
       "      <th>Course</th>\n",
       "    </tr>\n",
       "  </thead>\n",
       "  <tbody>\n",
       "    <tr>\n",
       "      <th>0</th>\n",
       "      <td>Ankit</td>\n",
       "      <td>79</td>\n",
       "      <td>23</td>\n",
       "      <td>BTech</td>\n",
       "    </tr>\n",
       "    <tr>\n",
       "      <th>1</th>\n",
       "      <td>Pankaj</td>\n",
       "      <td>74</td>\n",
       "      <td>21</td>\n",
       "      <td>BCA</td>\n",
       "    </tr>\n",
       "    <tr>\n",
       "      <th>2</th>\n",
       "      <td>Shreya</td>\n",
       "      <td>85</td>\n",
       "      <td>24</td>\n",
       "      <td>BSC</td>\n",
       "    </tr>\n",
       "    <tr>\n",
       "      <th>3</th>\n",
       "      <td>Vipin</td>\n",
       "      <td>93</td>\n",
       "      <td>22</td>\n",
       "      <td>BTech</td>\n",
       "    </tr>\n",
       "    <tr>\n",
       "      <th>4</th>\n",
       "      <td>Priyanshi</td>\n",
       "      <td>81</td>\n",
       "      <td>23</td>\n",
       "      <td>BCA</td>\n",
       "    </tr>\n",
       "  </tbody>\n",
       "</table>\n",
       "</div>"
      ],
      "text/plain": [
       "        Name  Scores  Age Course\n",
       "0      Ankit      79   23  BTech\n",
       "1     Pankaj      74   21    BCA\n",
       "2     Shreya      85   24    BSC\n",
       "3      Vipin      93   22  BTech\n",
       "4  Priyanshi      81   23    BCA"
      ]
     },
     "execution_count": 115,
     "metadata": {},
     "output_type": "execute_result"
    }
   ],
   "source": [
    "df.loc[:4,:]"
   ]
  },
  {
   "cell_type": "code",
   "execution_count": 117,
   "id": "7937dd86-8c14-45e7-adb0-c28b335e7853",
   "metadata": {},
   "outputs": [
    {
     "data": {
      "text/html": [
       "<div>\n",
       "<style scoped>\n",
       "    .dataframe tbody tr th:only-of-type {\n",
       "        vertical-align: middle;\n",
       "    }\n",
       "\n",
       "    .dataframe tbody tr th {\n",
       "        vertical-align: top;\n",
       "    }\n",
       "\n",
       "    .dataframe thead th {\n",
       "        text-align: right;\n",
       "    }\n",
       "</style>\n",
       "<table border=\"1\" class=\"dataframe\">\n",
       "  <thead>\n",
       "    <tr style=\"text-align: right;\">\n",
       "      <th></th>\n",
       "      <th>Name</th>\n",
       "      <th>Scores</th>\n",
       "      <th>Age</th>\n",
       "      <th>Course</th>\n",
       "    </tr>\n",
       "  </thead>\n",
       "  <tbody>\n",
       "    <tr>\n",
       "      <th>2</th>\n",
       "      <td>Shreya</td>\n",
       "      <td>85</td>\n",
       "      <td>24</td>\n",
       "      <td>BSC</td>\n",
       "    </tr>\n",
       "    <tr>\n",
       "      <th>3</th>\n",
       "      <td>Vipin</td>\n",
       "      <td>93</td>\n",
       "      <td>22</td>\n",
       "      <td>BTech</td>\n",
       "    </tr>\n",
       "    <tr>\n",
       "      <th>4</th>\n",
       "      <td>Priyanshi</td>\n",
       "      <td>81</td>\n",
       "      <td>23</td>\n",
       "      <td>BCA</td>\n",
       "    </tr>\n",
       "    <tr>\n",
       "      <th>5</th>\n",
       "      <td>Mukul</td>\n",
       "      <td>94</td>\n",
       "      <td>22</td>\n",
       "      <td>MCA</td>\n",
       "    </tr>\n",
       "  </tbody>\n",
       "</table>\n",
       "</div>"
      ],
      "text/plain": [
       "        Name  Scores  Age Course\n",
       "2     Shreya      85   24    BSC\n",
       "3      Vipin      93   22  BTech\n",
       "4  Priyanshi      81   23    BCA\n",
       "5      Mukul      94   22    MCA"
      ]
     },
     "execution_count": 117,
     "metadata": {},
     "output_type": "execute_result"
    }
   ],
   "source": [
    "df.loc[2:5,:]"
   ]
  },
  {
   "cell_type": "code",
   "execution_count": 119,
   "id": "33b3e737-2bf4-4f90-97d7-b0581206b079",
   "metadata": {},
   "outputs": [
    {
     "data": {
      "text/html": [
       "<div>\n",
       "<style scoped>\n",
       "    .dataframe tbody tr th:only-of-type {\n",
       "        vertical-align: middle;\n",
       "    }\n",
       "\n",
       "    .dataframe tbody tr th {\n",
       "        vertical-align: top;\n",
       "    }\n",
       "\n",
       "    .dataframe thead th {\n",
       "        text-align: right;\n",
       "    }\n",
       "</style>\n",
       "<table border=\"1\" class=\"dataframe\">\n",
       "  <thead>\n",
       "    <tr style=\"text-align: right;\">\n",
       "      <th></th>\n",
       "      <th>Name</th>\n",
       "      <th>Scores</th>\n",
       "    </tr>\n",
       "  </thead>\n",
       "  <tbody>\n",
       "    <tr>\n",
       "      <th>2</th>\n",
       "      <td>Shreya</td>\n",
       "      <td>85</td>\n",
       "    </tr>\n",
       "    <tr>\n",
       "      <th>3</th>\n",
       "      <td>Vipin</td>\n",
       "      <td>93</td>\n",
       "    </tr>\n",
       "    <tr>\n",
       "      <th>4</th>\n",
       "      <td>Priyanshi</td>\n",
       "      <td>81</td>\n",
       "    </tr>\n",
       "    <tr>\n",
       "      <th>5</th>\n",
       "      <td>Mukul</td>\n",
       "      <td>94</td>\n",
       "    </tr>\n",
       "  </tbody>\n",
       "</table>\n",
       "</div>"
      ],
      "text/plain": [
       "        Name  Scores\n",
       "2     Shreya      85\n",
       "3      Vipin      93\n",
       "4  Priyanshi      81\n",
       "5      Mukul      94"
      ]
     },
     "execution_count": 119,
     "metadata": {},
     "output_type": "execute_result"
    }
   ],
   "source": [
    "df.loc[2:5,['Name','Scores']]"
   ]
  },
  {
   "cell_type": "code",
   "execution_count": 121,
   "id": "f00caafe-9652-4b1d-874f-00c3b7fc5898",
   "metadata": {},
   "outputs": [
    {
     "data": {
      "text/html": [
       "<div>\n",
       "<style scoped>\n",
       "    .dataframe tbody tr th:only-of-type {\n",
       "        vertical-align: middle;\n",
       "    }\n",
       "\n",
       "    .dataframe tbody tr th {\n",
       "        vertical-align: top;\n",
       "    }\n",
       "\n",
       "    .dataframe thead th {\n",
       "        text-align: right;\n",
       "    }\n",
       "</style>\n",
       "<table border=\"1\" class=\"dataframe\">\n",
       "  <thead>\n",
       "    <tr style=\"text-align: right;\">\n",
       "      <th></th>\n",
       "      <th>Name</th>\n",
       "      <th>Scores</th>\n",
       "      <th>Age</th>\n",
       "      <th>Course</th>\n",
       "    </tr>\n",
       "  </thead>\n",
       "  <tbody>\n",
       "    <tr>\n",
       "      <th>1</th>\n",
       "      <td>Pankaj</td>\n",
       "      <td>74</td>\n",
       "      <td>21</td>\n",
       "      <td>BCA</td>\n",
       "    </tr>\n",
       "    <tr>\n",
       "      <th>3</th>\n",
       "      <td>Vipin</td>\n",
       "      <td>93</td>\n",
       "      <td>22</td>\n",
       "      <td>BTech</td>\n",
       "    </tr>\n",
       "    <tr>\n",
       "      <th>5</th>\n",
       "      <td>Mukul</td>\n",
       "      <td>94</td>\n",
       "      <td>22</td>\n",
       "      <td>MCA</td>\n",
       "    </tr>\n",
       "  </tbody>\n",
       "</table>\n",
       "</div>"
      ],
      "text/plain": [
       "     Name  Scores  Age Course\n",
       "1  Pankaj      74   21    BCA\n",
       "3   Vipin      93   22  BTech\n",
       "5   Mukul      94   22    MCA"
      ]
     },
     "execution_count": 121,
     "metadata": {},
     "output_type": "execute_result"
    }
   ],
   "source": [
    "df.loc[1:5:2,:]"
   ]
  },
  {
   "cell_type": "code",
   "execution_count": 125,
   "id": "300bf85b-5722-4673-94ca-564cd2815327",
   "metadata": {},
   "outputs": [
    {
     "data": {
      "text/html": [
       "<div>\n",
       "<style scoped>\n",
       "    .dataframe tbody tr th:only-of-type {\n",
       "        vertical-align: middle;\n",
       "    }\n",
       "\n",
       "    .dataframe tbody tr th {\n",
       "        vertical-align: top;\n",
       "    }\n",
       "\n",
       "    .dataframe thead th {\n",
       "        text-align: right;\n",
       "    }\n",
       "</style>\n",
       "<table border=\"1\" class=\"dataframe\">\n",
       "  <thead>\n",
       "    <tr style=\"text-align: right;\">\n",
       "      <th></th>\n",
       "      <th>Name</th>\n",
       "      <th>Scores</th>\n",
       "      <th>Age</th>\n",
       "      <th>Course</th>\n",
       "    </tr>\n",
       "  </thead>\n",
       "  <tbody>\n",
       "    <tr>\n",
       "      <th>1</th>\n",
       "      <td>Pankaj</td>\n",
       "      <td>74</td>\n",
       "      <td>21</td>\n",
       "      <td>BCA</td>\n",
       "    </tr>\n",
       "    <tr>\n",
       "      <th>3</th>\n",
       "      <td>Vipin</td>\n",
       "      <td>93</td>\n",
       "      <td>22</td>\n",
       "      <td>BTech</td>\n",
       "    </tr>\n",
       "    <tr>\n",
       "      <th>5</th>\n",
       "      <td>Mukul</td>\n",
       "      <td>94</td>\n",
       "      <td>22</td>\n",
       "      <td>MCA</td>\n",
       "    </tr>\n",
       "  </tbody>\n",
       "</table>\n",
       "</div>"
      ],
      "text/plain": [
       "     Name  Scores  Age Course\n",
       "1  Pankaj      74   21    BCA\n",
       "3   Vipin      93   22  BTech\n",
       "5   Mukul      94   22    MCA"
      ]
     },
     "execution_count": 125,
     "metadata": {},
     "output_type": "execute_result"
    }
   ],
   "source": [
    "df.loc[1:5:2,:]"
   ]
  },
  {
   "cell_type": "code",
   "execution_count": 123,
   "id": "50f9b660-1bef-4f6f-bc89-f794dd72109d",
   "metadata": {},
   "outputs": [
    {
     "data": {
      "text/html": [
       "<div>\n",
       "<style scoped>\n",
       "    .dataframe tbody tr th:only-of-type {\n",
       "        vertical-align: middle;\n",
       "    }\n",
       "\n",
       "    .dataframe tbody tr th {\n",
       "        vertical-align: top;\n",
       "    }\n",
       "\n",
       "    .dataframe thead th {\n",
       "        text-align: right;\n",
       "    }\n",
       "</style>\n",
       "<table border=\"1\" class=\"dataframe\">\n",
       "  <thead>\n",
       "    <tr style=\"text-align: right;\">\n",
       "      <th></th>\n",
       "      <th>Name</th>\n",
       "      <th>Scores</th>\n",
       "    </tr>\n",
       "  </thead>\n",
       "  <tbody>\n",
       "    <tr>\n",
       "      <th>2</th>\n",
       "      <td>Shreya</td>\n",
       "      <td>85</td>\n",
       "    </tr>\n",
       "    <tr>\n",
       "      <th>3</th>\n",
       "      <td>Vipin</td>\n",
       "      <td>93</td>\n",
       "    </tr>\n",
       "    <tr>\n",
       "      <th>4</th>\n",
       "      <td>Priyanshi</td>\n",
       "      <td>81</td>\n",
       "    </tr>\n",
       "    <tr>\n",
       "      <th>5</th>\n",
       "      <td>Mukul</td>\n",
       "      <td>94</td>\n",
       "    </tr>\n",
       "  </tbody>\n",
       "</table>\n",
       "</div>"
      ],
      "text/plain": [
       "        Name  Scores\n",
       "2     Shreya      85\n",
       "3      Vipin      93\n",
       "4  Priyanshi      81\n",
       "5      Mukul      94"
      ]
     },
     "execution_count": 123,
     "metadata": {},
     "output_type": "execute_result"
    }
   ],
   "source": [
    "df.loc[2:5,['Name','Scores']]"
   ]
  },
  {
   "cell_type": "code",
   "execution_count": 127,
   "id": "b4b9b4cb-a60d-4642-b300-7491a2490e79",
   "metadata": {},
   "outputs": [
    {
     "data": {
      "text/plain": [
       "Index(['Name', 'Scores', 'Age', 'Course'], dtype='object')"
      ]
     },
     "execution_count": 127,
     "metadata": {},
     "output_type": "execute_result"
    }
   ],
   "source": [
    "df.columns"
   ]
  },
  {
   "cell_type": "code",
   "execution_count": 129,
   "id": "6e7dbb8d-4615-4644-aab5-7bde5ccebcfe",
   "metadata": {},
   "outputs": [
    {
     "data": {
      "text/html": [
       "<div>\n",
       "<style scoped>\n",
       "    .dataframe tbody tr th:only-of-type {\n",
       "        vertical-align: middle;\n",
       "    }\n",
       "\n",
       "    .dataframe tbody tr th {\n",
       "        vertical-align: top;\n",
       "    }\n",
       "\n",
       "    .dataframe thead th {\n",
       "        text-align: right;\n",
       "    }\n",
       "</style>\n",
       "<table border=\"1\" class=\"dataframe\">\n",
       "  <thead>\n",
       "    <tr style=\"text-align: right;\">\n",
       "      <th></th>\n",
       "      <th>Name</th>\n",
       "      <th>Course</th>\n",
       "    </tr>\n",
       "  </thead>\n",
       "  <tbody>\n",
       "    <tr>\n",
       "      <th>0</th>\n",
       "      <td>Ankit</td>\n",
       "      <td>BTech</td>\n",
       "    </tr>\n",
       "    <tr>\n",
       "      <th>2</th>\n",
       "      <td>Shreya</td>\n",
       "      <td>BSC</td>\n",
       "    </tr>\n",
       "    <tr>\n",
       "      <th>4</th>\n",
       "      <td>Priyanshi</td>\n",
       "      <td>BCA</td>\n",
       "    </tr>\n",
       "  </tbody>\n",
       "</table>\n",
       "</div>"
      ],
      "text/plain": [
       "        Name Course\n",
       "0      Ankit  BTech\n",
       "2     Shreya    BSC\n",
       "4  Priyanshi    BCA"
      ]
     },
     "execution_count": 129,
     "metadata": {},
     "output_type": "execute_result"
    }
   ],
   "source": [
    "# df.iloc[:6:2,['Name','course']] # Error\n",
    "df.iloc[:6:2,::3]"
   ]
  },
  {
   "cell_type": "code",
   "execution_count": 131,
   "id": "b84228cd-9ef2-4730-8775-1c441a604074",
   "metadata": {},
   "outputs": [
    {
     "data": {
      "text/html": [
       "<div>\n",
       "<style scoped>\n",
       "    .dataframe tbody tr th:only-of-type {\n",
       "        vertical-align: middle;\n",
       "    }\n",
       "\n",
       "    .dataframe tbody tr th {\n",
       "        vertical-align: top;\n",
       "    }\n",
       "\n",
       "    .dataframe thead th {\n",
       "        text-align: right;\n",
       "    }\n",
       "</style>\n",
       "<table border=\"1\" class=\"dataframe\">\n",
       "  <thead>\n",
       "    <tr style=\"text-align: right;\">\n",
       "      <th></th>\n",
       "      <th>Name</th>\n",
       "      <th>Scores</th>\n",
       "      <th>Age</th>\n",
       "    </tr>\n",
       "  </thead>\n",
       "  <tbody>\n",
       "    <tr>\n",
       "      <th>3</th>\n",
       "      <td>Vipin</td>\n",
       "      <td>93</td>\n",
       "      <td>22</td>\n",
       "    </tr>\n",
       "    <tr>\n",
       "      <th>4</th>\n",
       "      <td>Priyanshi</td>\n",
       "      <td>81</td>\n",
       "      <td>23</td>\n",
       "    </tr>\n",
       "    <tr>\n",
       "      <th>5</th>\n",
       "      <td>Mukul</td>\n",
       "      <td>94</td>\n",
       "      <td>22</td>\n",
       "    </tr>\n",
       "  </tbody>\n",
       "</table>\n",
       "</div>"
      ],
      "text/plain": [
       "        Name  Scores  Age\n",
       "3      Vipin      93   22\n",
       "4  Priyanshi      81   23\n",
       "5      Mukul      94   22"
      ]
     },
     "execution_count": 131,
     "metadata": {},
     "output_type": "execute_result"
    }
   ],
   "source": [
    "# df.loc[3:5,1:3] # Error\n",
    "df.loc[3:5,['Name','Scores','Age']]"
   ]
  },
  {
   "cell_type": "markdown",
   "id": "2e5099ce-6acd-4550-9c3b-69fb5bb97b95",
   "metadata": {},
   "source": [
    "## Select column(s) from dataframe"
   ]
  },
  {
   "cell_type": "markdown",
   "id": "eb4f3baf-047d-4026-a11c-78e5d9446c83",
   "metadata": {},
   "source": [
    "## 1) Select one column from a dataframe"
   ]
  },
  {
   "cell_type": "code",
   "execution_count": 133,
   "id": "0b153709-826e-4749-a373-db3cdd253e57",
   "metadata": {},
   "outputs": [
    {
     "data": {
      "text/html": [
       "<div>\n",
       "<style scoped>\n",
       "    .dataframe tbody tr th:only-of-type {\n",
       "        vertical-align: middle;\n",
       "    }\n",
       "\n",
       "    .dataframe tbody tr th {\n",
       "        vertical-align: top;\n",
       "    }\n",
       "\n",
       "    .dataframe thead th {\n",
       "        text-align: right;\n",
       "    }\n",
       "</style>\n",
       "<table border=\"1\" class=\"dataframe\">\n",
       "  <thead>\n",
       "    <tr style=\"text-align: right;\">\n",
       "      <th></th>\n",
       "      <th>Name</th>\n",
       "      <th>Scores</th>\n",
       "      <th>Age</th>\n",
       "      <th>Course</th>\n",
       "    </tr>\n",
       "  </thead>\n",
       "  <tbody>\n",
       "    <tr>\n",
       "      <th>0</th>\n",
       "      <td>Ankit</td>\n",
       "      <td>79</td>\n",
       "      <td>23</td>\n",
       "      <td>BTech</td>\n",
       "    </tr>\n",
       "    <tr>\n",
       "      <th>1</th>\n",
       "      <td>Pankaj</td>\n",
       "      <td>74</td>\n",
       "      <td>21</td>\n",
       "      <td>BCA</td>\n",
       "    </tr>\n",
       "    <tr>\n",
       "      <th>2</th>\n",
       "      <td>Shreya</td>\n",
       "      <td>85</td>\n",
       "      <td>24</td>\n",
       "      <td>BSC</td>\n",
       "    </tr>\n",
       "    <tr>\n",
       "      <th>3</th>\n",
       "      <td>Vipin</td>\n",
       "      <td>93</td>\n",
       "      <td>22</td>\n",
       "      <td>BTech</td>\n",
       "    </tr>\n",
       "    <tr>\n",
       "      <th>4</th>\n",
       "      <td>Priyanshi</td>\n",
       "      <td>81</td>\n",
       "      <td>23</td>\n",
       "      <td>BCA</td>\n",
       "    </tr>\n",
       "  </tbody>\n",
       "</table>\n",
       "</div>"
      ],
      "text/plain": [
       "        Name  Scores  Age Course\n",
       "0      Ankit      79   23  BTech\n",
       "1     Pankaj      74   21    BCA\n",
       "2     Shreya      85   24    BSC\n",
       "3      Vipin      93   22  BTech\n",
       "4  Priyanshi      81   23    BCA"
      ]
     },
     "execution_count": 133,
     "metadata": {},
     "output_type": "execute_result"
    }
   ],
   "source": [
    "df.head()"
   ]
  },
  {
   "cell_type": "code",
   "execution_count": 135,
   "id": "29b80ef4-9a5f-4e89-bfe8-317e6128c195",
   "metadata": {},
   "outputs": [
    {
     "name": "stdout",
     "output_type": "stream",
     "text": [
      "<class 'pandas.core.series.Series'>\n"
     ]
    },
    {
     "data": {
      "text/plain": [
       "0    23\n",
       "1    21\n",
       "2    24\n",
       "3    22\n",
       "4    23\n",
       "5    22\n",
       "6    21\n",
       "Name: Age, dtype: int64"
      ]
     },
     "execution_count": 135,
     "metadata": {},
     "output_type": "execute_result"
    }
   ],
   "source": [
    "print(type(df['Age']))\n",
    "df['Age']"
   ]
  },
  {
   "cell_type": "markdown",
   "id": "7c7ae5c0-0ed9-47c7-b530-b35701de29c8",
   "metadata": {},
   "source": [
    "## 2) Select multiple column from a dataframe"
   ]
  },
  {
   "cell_type": "code",
   "execution_count": 137,
   "id": "ef8db4d3-2919-48f9-9374-b541885ff82a",
   "metadata": {},
   "outputs": [
    {
     "name": "stdout",
     "output_type": "stream",
     "text": [
      "<class 'pandas.core.frame.DataFrame'>\n"
     ]
    },
    {
     "data": {
      "text/html": [
       "<div>\n",
       "<style scoped>\n",
       "    .dataframe tbody tr th:only-of-type {\n",
       "        vertical-align: middle;\n",
       "    }\n",
       "\n",
       "    .dataframe tbody tr th {\n",
       "        vertical-align: top;\n",
       "    }\n",
       "\n",
       "    .dataframe thead th {\n",
       "        text-align: right;\n",
       "    }\n",
       "</style>\n",
       "<table border=\"1\" class=\"dataframe\">\n",
       "  <thead>\n",
       "    <tr style=\"text-align: right;\">\n",
       "      <th></th>\n",
       "      <th>Name</th>\n",
       "      <th>Age</th>\n",
       "    </tr>\n",
       "  </thead>\n",
       "  <tbody>\n",
       "    <tr>\n",
       "      <th>0</th>\n",
       "      <td>Ankit</td>\n",
       "      <td>23</td>\n",
       "    </tr>\n",
       "    <tr>\n",
       "      <th>1</th>\n",
       "      <td>Pankaj</td>\n",
       "      <td>21</td>\n",
       "    </tr>\n",
       "    <tr>\n",
       "      <th>2</th>\n",
       "      <td>Shreya</td>\n",
       "      <td>24</td>\n",
       "    </tr>\n",
       "    <tr>\n",
       "      <th>3</th>\n",
       "      <td>Vipin</td>\n",
       "      <td>22</td>\n",
       "    </tr>\n",
       "    <tr>\n",
       "      <th>4</th>\n",
       "      <td>Priyanshi</td>\n",
       "      <td>23</td>\n",
       "    </tr>\n",
       "  </tbody>\n",
       "</table>\n",
       "</div>"
      ],
      "text/plain": [
       "        Name  Age\n",
       "0      Ankit   23\n",
       "1     Pankaj   21\n",
       "2     Shreya   24\n",
       "3      Vipin   22\n",
       "4  Priyanshi   23"
      ]
     },
     "execution_count": 137,
     "metadata": {},
     "output_type": "execute_result"
    }
   ],
   "source": [
    "df2 = df[['Name','Age']]\n",
    "print(type(df2))\n",
    "df2.head()"
   ]
  },
  {
   "cell_type": "markdown",
   "id": "7ac7fcfe-1b38-4438-9bcd-f3fed28ee6d2",
   "metadata": {},
   "source": [
    "## Rename columns"
   ]
  },
  {
   "cell_type": "markdown",
   "id": "66d7a444-cd95-4fd2-a5ca-0f365bf4cf73",
   "metadata": {},
   "source": [
    "## 1) Rename all columns"
   ]
  },
  {
   "cell_type": "code",
   "execution_count": 139,
   "id": "6f1829f5-d261-42cb-896f-c3a15a5e8f5a",
   "metadata": {},
   "outputs": [
    {
     "data": {
      "text/html": [
       "<div>\n",
       "<style scoped>\n",
       "    .dataframe tbody tr th:only-of-type {\n",
       "        vertical-align: middle;\n",
       "    }\n",
       "\n",
       "    .dataframe tbody tr th {\n",
       "        vertical-align: top;\n",
       "    }\n",
       "\n",
       "    .dataframe thead th {\n",
       "        text-align: right;\n",
       "    }\n",
       "</style>\n",
       "<table border=\"1\" class=\"dataframe\">\n",
       "  <thead>\n",
       "    <tr style=\"text-align: right;\">\n",
       "      <th></th>\n",
       "      <th>Name</th>\n",
       "      <th>Scores</th>\n",
       "      <th>Age</th>\n",
       "      <th>Course</th>\n",
       "    </tr>\n",
       "  </thead>\n",
       "  <tbody>\n",
       "    <tr>\n",
       "      <th>0</th>\n",
       "      <td>Ankit</td>\n",
       "      <td>79</td>\n",
       "      <td>23</td>\n",
       "      <td>BTech</td>\n",
       "    </tr>\n",
       "    <tr>\n",
       "      <th>1</th>\n",
       "      <td>Pankaj</td>\n",
       "      <td>74</td>\n",
       "      <td>21</td>\n",
       "      <td>BCA</td>\n",
       "    </tr>\n",
       "    <tr>\n",
       "      <th>2</th>\n",
       "      <td>Shreya</td>\n",
       "      <td>85</td>\n",
       "      <td>24</td>\n",
       "      <td>BSC</td>\n",
       "    </tr>\n",
       "    <tr>\n",
       "      <th>3</th>\n",
       "      <td>Vipin</td>\n",
       "      <td>93</td>\n",
       "      <td>22</td>\n",
       "      <td>BTech</td>\n",
       "    </tr>\n",
       "    <tr>\n",
       "      <th>4</th>\n",
       "      <td>Priyanshi</td>\n",
       "      <td>81</td>\n",
       "      <td>23</td>\n",
       "      <td>BCA</td>\n",
       "    </tr>\n",
       "  </tbody>\n",
       "</table>\n",
       "</div>"
      ],
      "text/plain": [
       "        Name  Scores  Age Course\n",
       "0      Ankit      79   23  BTech\n",
       "1     Pankaj      74   21    BCA\n",
       "2     Shreya      85   24    BSC\n",
       "3      Vipin      93   22  BTech\n",
       "4  Priyanshi      81   23    BCA"
      ]
     },
     "execution_count": 139,
     "metadata": {},
     "output_type": "execute_result"
    }
   ],
   "source": [
    "df.head()"
   ]
  },
  {
   "cell_type": "code",
   "execution_count": 141,
   "id": "e748213b-2f26-4866-b7ac-c38de635916b",
   "metadata": {},
   "outputs": [
    {
     "data": {
      "text/html": [
       "<div>\n",
       "<style scoped>\n",
       "    .dataframe tbody tr th:only-of-type {\n",
       "        vertical-align: middle;\n",
       "    }\n",
       "\n",
       "    .dataframe tbody tr th {\n",
       "        vertical-align: top;\n",
       "    }\n",
       "\n",
       "    .dataframe thead th {\n",
       "        text-align: right;\n",
       "    }\n",
       "</style>\n",
       "<table border=\"1\" class=\"dataframe\">\n",
       "  <thead>\n",
       "    <tr style=\"text-align: right;\">\n",
       "      <th></th>\n",
       "      <th>Full_Name</th>\n",
       "      <th>Marks</th>\n",
       "      <th>Age_in_2022</th>\n",
       "      <th>Domian</th>\n",
       "    </tr>\n",
       "  </thead>\n",
       "  <tbody>\n",
       "    <tr>\n",
       "      <th>0</th>\n",
       "      <td>Ankit</td>\n",
       "      <td>79</td>\n",
       "      <td>23</td>\n",
       "      <td>BTech</td>\n",
       "    </tr>\n",
       "    <tr>\n",
       "      <th>1</th>\n",
       "      <td>Pankaj</td>\n",
       "      <td>74</td>\n",
       "      <td>21</td>\n",
       "      <td>BCA</td>\n",
       "    </tr>\n",
       "    <tr>\n",
       "      <th>2</th>\n",
       "      <td>Shreya</td>\n",
       "      <td>85</td>\n",
       "      <td>24</td>\n",
       "      <td>BSC</td>\n",
       "    </tr>\n",
       "    <tr>\n",
       "      <th>3</th>\n",
       "      <td>Vipin</td>\n",
       "      <td>93</td>\n",
       "      <td>22</td>\n",
       "      <td>BTech</td>\n",
       "    </tr>\n",
       "    <tr>\n",
       "      <th>4</th>\n",
       "      <td>Priyanshi</td>\n",
       "      <td>81</td>\n",
       "      <td>23</td>\n",
       "      <td>BCA</td>\n",
       "    </tr>\n",
       "  </tbody>\n",
       "</table>\n",
       "</div>"
      ],
      "text/plain": [
       "   Full_Name  Marks  Age_in_2022 Domian\n",
       "0      Ankit     79           23  BTech\n",
       "1     Pankaj     74           21    BCA\n",
       "2     Shreya     85           24    BSC\n",
       "3      Vipin     93           22  BTech\n",
       "4  Priyanshi     81           23    BCA"
      ]
     },
     "execution_count": 141,
     "metadata": {},
     "output_type": "execute_result"
    }
   ],
   "source": [
    "df.columns = ['Full_Name','Marks','Age_in_2022','Domian']\n",
    "df.head()"
   ]
  },
  {
   "cell_type": "markdown",
   "id": "4e2ed92a-3d02-4edf-9005-41aeefab5dd5",
   "metadata": {},
   "source": [
    "## 2) Rename specific columns"
   ]
  },
  {
   "cell_type": "code",
   "execution_count": 148,
   "id": "a196ec67-ae0f-4c58-8ca1-efed4aa8e7a3",
   "metadata": {},
   "outputs": [
    {
     "data": {
      "text/plain": [
       "Index(['FirstName', 'Marks', 'Age_onJan2022', 'Domian'], dtype='object')"
      ]
     },
     "execution_count": 148,
     "metadata": {},
     "output_type": "execute_result"
    }
   ],
   "source": [
    "df.columns"
   ]
  },
  {
   "cell_type": "code",
   "execution_count": 153,
   "id": "ff89932f-1b1a-47fc-a00f-3eb5d7c68ca3",
   "metadata": {},
   "outputs": [
    {
     "data": {
      "text/html": [
       "<div>\n",
       "<style scoped>\n",
       "    .dataframe tbody tr th:only-of-type {\n",
       "        vertical-align: middle;\n",
       "    }\n",
       "\n",
       "    .dataframe tbody tr th {\n",
       "        vertical-align: top;\n",
       "    }\n",
       "\n",
       "    .dataframe thead th {\n",
       "        text-align: right;\n",
       "    }\n",
       "</style>\n",
       "<table border=\"1\" class=\"dataframe\">\n",
       "  <thead>\n",
       "    <tr style=\"text-align: right;\">\n",
       "      <th></th>\n",
       "      <th>FirstName</th>\n",
       "      <th>Marks</th>\n",
       "      <th>Age_onJan2022</th>\n",
       "      <th>Domian</th>\n",
       "    </tr>\n",
       "  </thead>\n",
       "  <tbody>\n",
       "    <tr>\n",
       "      <th>0</th>\n",
       "      <td>Ankit</td>\n",
       "      <td>79</td>\n",
       "      <td>23</td>\n",
       "      <td>BTech</td>\n",
       "    </tr>\n",
       "    <tr>\n",
       "      <th>1</th>\n",
       "      <td>Pankaj</td>\n",
       "      <td>74</td>\n",
       "      <td>21</td>\n",
       "      <td>BCA</td>\n",
       "    </tr>\n",
       "    <tr>\n",
       "      <th>2</th>\n",
       "      <td>Shreya</td>\n",
       "      <td>85</td>\n",
       "      <td>24</td>\n",
       "      <td>BSC</td>\n",
       "    </tr>\n",
       "    <tr>\n",
       "      <th>3</th>\n",
       "      <td>Vipin</td>\n",
       "      <td>93</td>\n",
       "      <td>22</td>\n",
       "      <td>BTech</td>\n",
       "    </tr>\n",
       "    <tr>\n",
       "      <th>4</th>\n",
       "      <td>Priyanshi</td>\n",
       "      <td>81</td>\n",
       "      <td>23</td>\n",
       "      <td>BCA</td>\n",
       "    </tr>\n",
       "  </tbody>\n",
       "</table>\n",
       "</div>"
      ],
      "text/plain": [
       "   FirstName  Marks  Age_onJan2022 Domian\n",
       "0      Ankit     79             23  BTech\n",
       "1     Pankaj     74             21    BCA\n",
       "2     Shreya     85             24    BSC\n",
       "3      Vipin     93             22  BTech\n",
       "4  Priyanshi     81             23    BCA"
      ]
     },
     "execution_count": 153,
     "metadata": {},
     "output_type": "execute_result"
    }
   ],
   "source": [
    "df.rename(columns={'Age_in_2022':'Age_onJan2022','Full_Name':'FirstName'},inplace = True)\n",
    "df.head()"
   ]
  },
  {
   "cell_type": "code",
   "execution_count": 155,
   "id": "31417400-38f8-4d00-a992-044595ac837b",
   "metadata": {},
   "outputs": [
    {
     "name": "stdout",
     "output_type": "stream",
     "text": [
      "<class 'pandas.core.frame.DataFrame'>\n",
      "RangeIndex: 7 entries, 0 to 6\n",
      "Data columns (total 4 columns):\n",
      " #   Column         Non-Null Count  Dtype \n",
      "---  ------         --------------  ----- \n",
      " 0   FirstName      7 non-null      object\n",
      " 1   Marks          7 non-null      int64 \n",
      " 2   Age_onJan2022  7 non-null      int64 \n",
      " 3   Domian         7 non-null      object\n",
      "dtypes: int64(2), object(2)\n",
      "memory usage: 356.0+ bytes\n"
     ]
    }
   ],
   "source": [
    "df.info()"
   ]
  },
  {
   "cell_type": "code",
   "execution_count": null,
   "id": "e5b836ce-f4fa-46a6-ab3d-83aa34891840",
   "metadata": {},
   "outputs": [],
   "source": []
  }
 ],
 "metadata": {
  "kernelspec": {
   "display_name": "Python 3 (ipykernel)",
   "language": "python",
   "name": "python3"
  },
  "language_info": {
   "codemirror_mode": {
    "name": "ipython",
    "version": 3
   },
   "file_extension": ".py",
   "mimetype": "text/x-python",
   "name": "python",
   "nbconvert_exporter": "python",
   "pygments_lexer": "ipython3",
   "version": "3.12.4"
  }
 },
 "nbformat": 4,
 "nbformat_minor": 5
}
