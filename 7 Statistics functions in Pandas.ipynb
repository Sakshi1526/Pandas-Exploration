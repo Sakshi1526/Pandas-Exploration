{
 "cells": [
  {
   "cell_type": "markdown",
   "id": "add43f86-419b-48ef-b6ca-1d0b53467dd8",
   "metadata": {},
   "source": [
    "# Statistics Finctions in Pandas"
   ]
  },
  {
   "cell_type": "code",
   "execution_count": 9,
   "id": "4c954ea5-b4cb-455c-a435-39197fa5ac23",
   "metadata": {},
   "outputs": [],
   "source": [
    "import pandas as pd\n",
    "import numpy as np"
   ]
  },
  {
   "cell_type": "code",
   "execution_count": 11,
   "id": "6d7bdada-3991-4fa7-872a-0194b9edd052",
   "metadata": {},
   "outputs": [],
   "source": [
    "df = pd.read_csv(\"Top 100 most Streamed - sheet4.csv\")"
   ]
  },
  {
   "cell_type": "code",
   "execution_count": 13,
   "id": "0dfecfc7-c8f0-4d50-b05d-43131954f427",
   "metadata": {},
   "outputs": [
    {
     "data": {
      "text/html": [
       "<div>\n",
       "<style scoped>\n",
       "    .dataframe tbody tr th:only-of-type {\n",
       "        vertical-align: middle;\n",
       "    }\n",
       "\n",
       "    .dataframe tbody tr th {\n",
       "        vertical-align: top;\n",
       "    }\n",
       "\n",
       "    .dataframe thead th {\n",
       "        text-align: right;\n",
       "    }\n",
       "</style>\n",
       "<table border=\"1\" class=\"dataframe\">\n",
       "  <thead>\n",
       "    <tr style=\"text-align: right;\">\n",
       "      <th></th>\n",
       "      <th>title</th>\n",
       "      <th>artist</th>\n",
       "      <th>top genre</th>\n",
       "      <th>year</th>\n",
       "      <th>beats.per.minute</th>\n",
       "      <th>energy</th>\n",
       "      <th>danceability</th>\n",
       "      <th>loudness.dB</th>\n",
       "      <th>liveness</th>\n",
       "      <th>valance</th>\n",
       "      <th>length</th>\n",
       "      <th>acousticness</th>\n",
       "      <th>speechiness</th>\n",
       "      <th>popularity</th>\n",
       "    </tr>\n",
       "  </thead>\n",
       "  <tbody>\n",
       "    <tr>\n",
       "      <th>0</th>\n",
       "      <td>Blinding Lights</td>\n",
       "      <td>The Weeknd</td>\n",
       "      <td>canadian contemporary r&amp;b</td>\n",
       "      <td>2020</td>\n",
       "      <td>171</td>\n",
       "      <td>73</td>\n",
       "      <td>51</td>\n",
       "      <td>-6</td>\n",
       "      <td>9</td>\n",
       "      <td>33</td>\n",
       "      <td>200</td>\n",
       "      <td>0</td>\n",
       "      <td>6</td>\n",
       "      <td>91</td>\n",
       "    </tr>\n",
       "    <tr>\n",
       "      <th>1</th>\n",
       "      <td>Watermelon Sugar</td>\n",
       "      <td>Harry Styles</td>\n",
       "      <td>pop</td>\n",
       "      <td>2019</td>\n",
       "      <td>95</td>\n",
       "      <td>82</td>\n",
       "      <td>55</td>\n",
       "      <td>-4</td>\n",
       "      <td>34</td>\n",
       "      <td>56</td>\n",
       "      <td>174</td>\n",
       "      <td>12</td>\n",
       "      <td>5</td>\n",
       "      <td>88</td>\n",
       "    </tr>\n",
       "    <tr>\n",
       "      <th>2</th>\n",
       "      <td>Mood (feat. iann dior)</td>\n",
       "      <td>24kGoldn</td>\n",
       "      <td>cali rap</td>\n",
       "      <td>2021</td>\n",
       "      <td>91</td>\n",
       "      <td>72</td>\n",
       "      <td>70</td>\n",
       "      <td>-4</td>\n",
       "      <td>32</td>\n",
       "      <td>73</td>\n",
       "      <td>141</td>\n",
       "      <td>17</td>\n",
       "      <td>4</td>\n",
       "      <td>88</td>\n",
       "    </tr>\n",
       "    <tr>\n",
       "      <th>3</th>\n",
       "      <td>Someone You Loved</td>\n",
       "      <td>Lewis Capaldi</td>\n",
       "      <td>pop</td>\n",
       "      <td>2019</td>\n",
       "      <td>110</td>\n",
       "      <td>41</td>\n",
       "      <td>50</td>\n",
       "      <td>-6</td>\n",
       "      <td>11</td>\n",
       "      <td>45</td>\n",
       "      <td>182</td>\n",
       "      <td>75</td>\n",
       "      <td>3</td>\n",
       "      <td>86</td>\n",
       "    </tr>\n",
       "    <tr>\n",
       "      <th>4</th>\n",
       "      <td>Perfect</td>\n",
       "      <td>Ed Sheeran</td>\n",
       "      <td>pop</td>\n",
       "      <td>2017</td>\n",
       "      <td>95</td>\n",
       "      <td>45</td>\n",
       "      <td>60</td>\n",
       "      <td>-6</td>\n",
       "      <td>11</td>\n",
       "      <td>17</td>\n",
       "      <td>263</td>\n",
       "      <td>16</td>\n",
       "      <td>2</td>\n",
       "      <td>86</td>\n",
       "    </tr>\n",
       "  </tbody>\n",
       "</table>\n",
       "</div>"
      ],
      "text/plain": [
       "                    title         artist                  top genre  year  \\\n",
       "0         Blinding Lights     The Weeknd  canadian contemporary r&b  2020   \n",
       "1        Watermelon Sugar   Harry Styles                        pop  2019   \n",
       "2  Mood (feat. iann dior)       24kGoldn                   cali rap  2021   \n",
       "3       Someone You Loved  Lewis Capaldi                        pop  2019   \n",
       "4                 Perfect     Ed Sheeran                        pop  2017   \n",
       "\n",
       "   beats.per.minute  energy  danceability  loudness.dB  liveness  valance  \\\n",
       "0               171      73            51           -6         9       33   \n",
       "1                95      82            55           -4        34       56   \n",
       "2                91      72            70           -4        32       73   \n",
       "3               110      41            50           -6        11       45   \n",
       "4                95      45            60           -6        11       17   \n",
       "\n",
       "   length  acousticness  speechiness  popularity  \n",
       "0     200             0            6          91  \n",
       "1     174            12            5          88  \n",
       "2     141            17            4          88  \n",
       "3     182            75            3          86  \n",
       "4     263            16            2          86  "
      ]
     },
     "execution_count": 13,
     "metadata": {},
     "output_type": "execute_result"
    }
   ],
   "source": [
    "df.head()"
   ]
  },
  {
   "cell_type": "markdown",
   "id": "8715e2c2-ead1-43b7-9e3e-1617286ed974",
   "metadata": {},
   "source": [
    "### describe()\n",
    "\n",
    "Generate descriptive statisticss for numerial columns."
   ]
  },
  {
   "cell_type": "code",
   "execution_count": 19,
   "id": "43ff8a59-f088-41ac-ad4e-7b4a33dd648b",
   "metadata": {},
   "outputs": [
    {
     "data": {
      "text/html": [
       "<div>\n",
       "<style scoped>\n",
       "    .dataframe tbody tr th:only-of-type {\n",
       "        vertical-align: middle;\n",
       "    }\n",
       "\n",
       "    .dataframe tbody tr th {\n",
       "        vertical-align: top;\n",
       "    }\n",
       "\n",
       "    .dataframe thead th {\n",
       "        text-align: right;\n",
       "    }\n",
       "</style>\n",
       "<table border=\"1\" class=\"dataframe\">\n",
       "  <thead>\n",
       "    <tr style=\"text-align: right;\">\n",
       "      <th></th>\n",
       "      <th>year</th>\n",
       "      <th>beats.per.minute</th>\n",
       "      <th>energy</th>\n",
       "      <th>danceability</th>\n",
       "      <th>loudness.dB</th>\n",
       "      <th>liveness</th>\n",
       "      <th>valance</th>\n",
       "      <th>length</th>\n",
       "      <th>acousticness</th>\n",
       "      <th>speechiness</th>\n",
       "      <th>popularity</th>\n",
       "    </tr>\n",
       "  </thead>\n",
       "  <tbody>\n",
       "    <tr>\n",
       "      <th>count</th>\n",
       "      <td>100.000000</td>\n",
       "      <td>100.000000</td>\n",
       "      <td>100.000000</td>\n",
       "      <td>100.00000</td>\n",
       "      <td>100.000000</td>\n",
       "      <td>100.000000</td>\n",
       "      <td>100.000000</td>\n",
       "      <td>100.000000</td>\n",
       "      <td>100.00000</td>\n",
       "      <td>100.000000</td>\n",
       "      <td>100.000000</td>\n",
       "    </tr>\n",
       "    <tr>\n",
       "      <th>mean</th>\n",
       "      <td>2015.960000</td>\n",
       "      <td>116.970000</td>\n",
       "      <td>62.680000</td>\n",
       "      <td>66.96000</td>\n",
       "      <td>-6.100000</td>\n",
       "      <td>16.860000</td>\n",
       "      <td>49.970000</td>\n",
       "      <td>214.530000</td>\n",
       "      <td>24.95000</td>\n",
       "      <td>9.930000</td>\n",
       "      <td>79.670000</td>\n",
       "    </tr>\n",
       "    <tr>\n",
       "      <th>std</th>\n",
       "      <td>5.327497</td>\n",
       "      <td>27.470629</td>\n",
       "      <td>16.491737</td>\n",
       "      <td>13.60401</td>\n",
       "      <td>1.987334</td>\n",
       "      <td>12.972403</td>\n",
       "      <td>21.737857</td>\n",
       "      <td>35.934974</td>\n",
       "      <td>26.27876</td>\n",
       "      <td>9.424077</td>\n",
       "      <td>5.905065</td>\n",
       "    </tr>\n",
       "    <tr>\n",
       "      <th>min</th>\n",
       "      <td>1975.000000</td>\n",
       "      <td>71.000000</td>\n",
       "      <td>11.000000</td>\n",
       "      <td>35.00000</td>\n",
       "      <td>-14.000000</td>\n",
       "      <td>3.000000</td>\n",
       "      <td>6.000000</td>\n",
       "      <td>119.000000</td>\n",
       "      <td>0.00000</td>\n",
       "      <td>2.000000</td>\n",
       "      <td>53.000000</td>\n",
       "    </tr>\n",
       "    <tr>\n",
       "      <th>25%</th>\n",
       "      <td>2015.000000</td>\n",
       "      <td>95.000000</td>\n",
       "      <td>52.000000</td>\n",
       "      <td>59.00000</td>\n",
       "      <td>-7.000000</td>\n",
       "      <td>10.000000</td>\n",
       "      <td>33.750000</td>\n",
       "      <td>190.500000</td>\n",
       "      <td>4.00000</td>\n",
       "      <td>4.000000</td>\n",
       "      <td>79.000000</td>\n",
       "    </tr>\n",
       "    <tr>\n",
       "      <th>50%</th>\n",
       "      <td>2017.000000</td>\n",
       "      <td>115.000000</td>\n",
       "      <td>64.500000</td>\n",
       "      <td>69.00000</td>\n",
       "      <td>-6.000000</td>\n",
       "      <td>12.000000</td>\n",
       "      <td>48.000000</td>\n",
       "      <td>210.000000</td>\n",
       "      <td>13.00000</td>\n",
       "      <td>6.000000</td>\n",
       "      <td>81.000000</td>\n",
       "    </tr>\n",
       "    <tr>\n",
       "      <th>75%</th>\n",
       "      <td>2018.000000</td>\n",
       "      <td>135.250000</td>\n",
       "      <td>76.000000</td>\n",
       "      <td>77.00000</td>\n",
       "      <td>-5.000000</td>\n",
       "      <td>17.250000</td>\n",
       "      <td>66.000000</td>\n",
       "      <td>234.250000</td>\n",
       "      <td>41.50000</td>\n",
       "      <td>11.000000</td>\n",
       "      <td>83.000000</td>\n",
       "    </tr>\n",
       "    <tr>\n",
       "      <th>max</th>\n",
       "      <td>2021.000000</td>\n",
       "      <td>186.000000</td>\n",
       "      <td>92.000000</td>\n",
       "      <td>91.00000</td>\n",
       "      <td>-3.000000</td>\n",
       "      <td>79.000000</td>\n",
       "      <td>93.000000</td>\n",
       "      <td>354.000000</td>\n",
       "      <td>98.00000</td>\n",
       "      <td>46.000000</td>\n",
       "      <td>91.000000</td>\n",
       "    </tr>\n",
       "  </tbody>\n",
       "</table>\n",
       "</div>"
      ],
      "text/plain": [
       "              year  beats.per.minute      energy  danceability  loudness.dB  \\\n",
       "count   100.000000        100.000000  100.000000     100.00000   100.000000   \n",
       "mean   2015.960000        116.970000   62.680000      66.96000    -6.100000   \n",
       "std       5.327497         27.470629   16.491737      13.60401     1.987334   \n",
       "min    1975.000000         71.000000   11.000000      35.00000   -14.000000   \n",
       "25%    2015.000000         95.000000   52.000000      59.00000    -7.000000   \n",
       "50%    2017.000000        115.000000   64.500000      69.00000    -6.000000   \n",
       "75%    2018.000000        135.250000   76.000000      77.00000    -5.000000   \n",
       "max    2021.000000        186.000000   92.000000      91.00000    -3.000000   \n",
       "\n",
       "         liveness     valance      length  acousticness  speechiness  \\\n",
       "count  100.000000  100.000000  100.000000     100.00000   100.000000   \n",
       "mean    16.860000   49.970000  214.530000      24.95000     9.930000   \n",
       "std     12.972403   21.737857   35.934974      26.27876     9.424077   \n",
       "min      3.000000    6.000000  119.000000       0.00000     2.000000   \n",
       "25%     10.000000   33.750000  190.500000       4.00000     4.000000   \n",
       "50%     12.000000   48.000000  210.000000      13.00000     6.000000   \n",
       "75%     17.250000   66.000000  234.250000      41.50000    11.000000   \n",
       "max     79.000000   93.000000  354.000000      98.00000    46.000000   \n",
       "\n",
       "       popularity  \n",
       "count  100.000000  \n",
       "mean    79.670000  \n",
       "std      5.905065  \n",
       "min     53.000000  \n",
       "25%     79.000000  \n",
       "50%     81.000000  \n",
       "75%     83.000000  \n",
       "max     91.000000  "
      ]
     },
     "execution_count": 19,
     "metadata": {},
     "output_type": "execute_result"
    }
   ],
   "source": [
    "df.describe()"
   ]
  },
  {
   "cell_type": "code",
   "execution_count": 22,
   "id": "76856f22-81d3-40eb-95bf-800d6d01fb6e",
   "metadata": {},
   "outputs": [
    {
     "data": {
      "text/html": [
       "<div>\n",
       "<style scoped>\n",
       "    .dataframe tbody tr th:only-of-type {\n",
       "        vertical-align: middle;\n",
       "    }\n",
       "\n",
       "    .dataframe tbody tr th {\n",
       "        vertical-align: top;\n",
       "    }\n",
       "\n",
       "    .dataframe thead th {\n",
       "        text-align: right;\n",
       "    }\n",
       "</style>\n",
       "<table border=\"1\" class=\"dataframe\">\n",
       "  <thead>\n",
       "    <tr style=\"text-align: right;\">\n",
       "      <th></th>\n",
       "      <th>energy</th>\n",
       "      <th>liveness</th>\n",
       "    </tr>\n",
       "  </thead>\n",
       "  <tbody>\n",
       "    <tr>\n",
       "      <th>count</th>\n",
       "      <td>100.000000</td>\n",
       "      <td>100.000000</td>\n",
       "    </tr>\n",
       "    <tr>\n",
       "      <th>mean</th>\n",
       "      <td>62.680000</td>\n",
       "      <td>16.860000</td>\n",
       "    </tr>\n",
       "    <tr>\n",
       "      <th>std</th>\n",
       "      <td>16.491737</td>\n",
       "      <td>12.972403</td>\n",
       "    </tr>\n",
       "    <tr>\n",
       "      <th>min</th>\n",
       "      <td>11.000000</td>\n",
       "      <td>3.000000</td>\n",
       "    </tr>\n",
       "    <tr>\n",
       "      <th>25%</th>\n",
       "      <td>52.000000</td>\n",
       "      <td>10.000000</td>\n",
       "    </tr>\n",
       "    <tr>\n",
       "      <th>50%</th>\n",
       "      <td>64.500000</td>\n",
       "      <td>12.000000</td>\n",
       "    </tr>\n",
       "    <tr>\n",
       "      <th>75%</th>\n",
       "      <td>76.000000</td>\n",
       "      <td>17.250000</td>\n",
       "    </tr>\n",
       "    <tr>\n",
       "      <th>max</th>\n",
       "      <td>92.000000</td>\n",
       "      <td>79.000000</td>\n",
       "    </tr>\n",
       "  </tbody>\n",
       "</table>\n",
       "</div>"
      ],
      "text/plain": [
       "           energy    liveness\n",
       "count  100.000000  100.000000\n",
       "mean    62.680000   16.860000\n",
       "std     16.491737   12.972403\n",
       "min     11.000000    3.000000\n",
       "25%     52.000000   10.000000\n",
       "50%     64.500000   12.000000\n",
       "75%     76.000000   17.250000\n",
       "max     92.000000   79.000000"
      ]
     },
     "execution_count": 22,
     "metadata": {},
     "output_type": "execute_result"
    }
   ],
   "source": [
    "df[['energy','liveness']].describe()"
   ]
  },
  {
   "cell_type": "markdown",
   "id": "b51eb875-58c3-4654-b0e3-ac7fb4c3201c",
   "metadata": {},
   "source": [
    "### Statistical Functions\n",
    "\n",
    "1) Sum<br>\n",
    "2) Min<br>\n",
    "3) Max<br>\n",
    "4) Mean<br>\n",
    "5) Var<br>\n",
    "6) Std<br>\n",
    "7) count<br>"
   ]
  },
  {
   "cell_type": "markdown",
   "id": "6e2491a2-9dd6-4c23-983e-ce542529481c",
   "metadata": {},
   "source": [
    "## 1) Sum()\n",
    "\n",
    "Used to compute the sum of numerial columns"
   ]
  },
  {
   "cell_type": "markdown",
   "id": "1a2a06e3-c8ea-4a3c-8b9a-a593b664c821",
   "metadata": {},
   "source": [
    "#### Q) Find sum of popularity for the pop genre."
   ]
  },
  {
   "cell_type": "code",
   "execution_count": 34,
   "id": "6c298b9d-a63c-4979-8382-24003ad30026",
   "metadata": {},
   "outputs": [
    {
     "name": "stdout",
     "output_type": "stream",
     "text": [
      "(11, 14)\n"
     ]
    },
    {
     "data": {
      "text/plain": [
       "899"
      ]
     },
     "execution_count": 34,
     "metadata": {},
     "output_type": "execute_result"
    }
   ],
   "source": [
    "r1 = df[df['top genre']== 'pop']\n",
    "print(r1.shape)\n",
    "r1['popularity'].sum()"
   ]
  },
  {
   "cell_type": "markdown",
   "id": "f6f9b4d5-6d50-4b59-9b3e-bdcbcb4681d2",
   "metadata": {},
   "source": [
    "#### Q) Find year wise sum of liveness and energy"
   ]
  },
  {
   "cell_type": "code",
   "execution_count": 40,
   "id": "c3d6242a-cd42-4660-ab0f-294af493aa76",
   "metadata": {},
   "outputs": [
    {
     "data": {
      "text/html": [
       "<div>\n",
       "<style scoped>\n",
       "    .dataframe tbody tr th:only-of-type {\n",
       "        vertical-align: middle;\n",
       "    }\n",
       "\n",
       "    .dataframe tbody tr th {\n",
       "        vertical-align: top;\n",
       "    }\n",
       "\n",
       "    .dataframe thead th {\n",
       "        text-align: right;\n",
       "    }\n",
       "</style>\n",
       "<table border=\"1\" class=\"dataframe\">\n",
       "  <thead>\n",
       "    <tr style=\"text-align: right;\">\n",
       "      <th></th>\n",
       "      <th>year</th>\n",
       "      <th>liveness</th>\n",
       "      <th>energy</th>\n",
       "    </tr>\n",
       "  </thead>\n",
       "  <tbody>\n",
       "    <tr>\n",
       "      <th>0</th>\n",
       "      <td>1975</td>\n",
       "      <td>30</td>\n",
       "      <td>40</td>\n",
       "    </tr>\n",
       "    <tr>\n",
       "      <th>1</th>\n",
       "      <td>1995</td>\n",
       "      <td>19</td>\n",
       "      <td>90</td>\n",
       "    </tr>\n",
       "    <tr>\n",
       "      <th>2</th>\n",
       "      <td>2004</td>\n",
       "      <td>10</td>\n",
       "      <td>91</td>\n",
       "    </tr>\n",
       "    <tr>\n",
       "      <th>3</th>\n",
       "      <td>2008</td>\n",
       "      <td>11</td>\n",
       "      <td>46</td>\n",
       "    </tr>\n",
       "    <tr>\n",
       "      <th>4</th>\n",
       "      <td>2012</td>\n",
       "      <td>103</td>\n",
       "      <td>241</td>\n",
       "    </tr>\n",
       "    <tr>\n",
       "      <th>5</th>\n",
       "      <td>2013</td>\n",
       "      <td>52</td>\n",
       "      <td>229</td>\n",
       "    </tr>\n",
       "    <tr>\n",
       "      <th>6</th>\n",
       "      <td>2014</td>\n",
       "      <td>103</td>\n",
       "      <td>338</td>\n",
       "    </tr>\n",
       "    <tr>\n",
       "      <th>7</th>\n",
       "      <td>2015</td>\n",
       "      <td>203</td>\n",
       "      <td>846</td>\n",
       "    </tr>\n",
       "    <tr>\n",
       "      <th>8</th>\n",
       "      <td>2016</td>\n",
       "      <td>259</td>\n",
       "      <td>1019</td>\n",
       "    </tr>\n",
       "    <tr>\n",
       "      <th>9</th>\n",
       "      <td>2017</td>\n",
       "      <td>163</td>\n",
       "      <td>776</td>\n",
       "    </tr>\n",
       "    <tr>\n",
       "      <th>10</th>\n",
       "      <td>2018</td>\n",
       "      <td>342</td>\n",
       "      <td>1208</td>\n",
       "    </tr>\n",
       "    <tr>\n",
       "      <th>11</th>\n",
       "      <td>2019</td>\n",
       "      <td>282</td>\n",
       "      <td>935</td>\n",
       "    </tr>\n",
       "    <tr>\n",
       "      <th>12</th>\n",
       "      <td>2020</td>\n",
       "      <td>29</td>\n",
       "      <td>221</td>\n",
       "    </tr>\n",
       "    <tr>\n",
       "      <th>13</th>\n",
       "      <td>2021</td>\n",
       "      <td>80</td>\n",
       "      <td>188</td>\n",
       "    </tr>\n",
       "  </tbody>\n",
       "</table>\n",
       "</div>"
      ],
      "text/plain": [
       "    year  liveness  energy\n",
       "0   1975        30      40\n",
       "1   1995        19      90\n",
       "2   2004        10      91\n",
       "3   2008        11      46\n",
       "4   2012       103     241\n",
       "5   2013        52     229\n",
       "6   2014       103     338\n",
       "7   2015       203     846\n",
       "8   2016       259    1019\n",
       "9   2017       163     776\n",
       "10  2018       342    1208\n",
       "11  2019       282     935\n",
       "12  2020        29     221\n",
       "13  2021        80     188"
      ]
     },
     "execution_count": 40,
     "metadata": {},
     "output_type": "execute_result"
    }
   ],
   "source": [
    "r2 = df.groupby('year')[['liveness','energy']].sum().reset_index()\n",
    "r2"
   ]
  },
  {
   "cell_type": "markdown",
   "id": "7fc2a49a-e053-4108-b861-61cbc9be1c4f",
   "metadata": {},
   "source": [
    "## 2) Min()\n",
    "\n",
    "Used to compute the minimum of numerial columns/(s)"
   ]
  },
  {
   "cell_type": "markdown",
   "id": "0e4359f3-4cbc-4f4a-adcd-f2a5eaf8b7ae",
   "metadata": {},
   "source": [
    "#### Q) Find min loudness for the artist Post Malone"
   ]
  },
  {
   "cell_type": "code",
   "execution_count": 45,
   "id": "32f6d203-ef66-42c7-b1c2-d5ebd9248173",
   "metadata": {},
   "outputs": [
    {
     "data": {
      "text/plain": [
       "(7, 14)"
      ]
     },
     "execution_count": 45,
     "metadata": {},
     "output_type": "execute_result"
    }
   ],
   "source": [
    "r3 = df[df['artist'] == 'Post Malone']\n",
    "r3.shape"
   ]
  },
  {
   "cell_type": "code",
   "execution_count": 47,
   "id": "d3fd2261-17f1-426f-b18d-558c02a8c739",
   "metadata": {},
   "outputs": [
    {
     "name": "stdout",
     "output_type": "stream",
     "text": [
      "-8\n"
     ]
    }
   ],
   "source": [
    "print(r3['loudness.dB'].min())"
   ]
  },
  {
   "cell_type": "markdown",
   "id": "2c83b21e-90ad-49a5-9e60-068609b2f409",
   "metadata": {},
   "source": [
    "#### Q) Find artist wise min of danceability"
   ]
  },
  {
   "cell_type": "code",
   "execution_count": 56,
   "id": "9bc43cf4-ad23-426f-ae2f-2796d73c3f98",
   "metadata": {},
   "outputs": [
    {
     "data": {
      "text/plain": [
       "artist\n",
       "Kendrick Lamar    91\n",
       "Roddy Ricch       90\n",
       "Lil Nas X         88\n",
       "Mark Ronson       86\n",
       "Bruno Mars        85\n",
       "Travis Scott      83\n",
       "Cardi B           82\n",
       "Tones And I       82\n",
       "Calvin Harris     79\n",
       "OMI               78\n",
       "Name: danceability, dtype: int64"
      ]
     },
     "execution_count": 56,
     "metadata": {},
     "output_type": "execute_result"
    }
   ],
   "source": [
    "r4 = df.groupby('artist')['danceability'].min() \n",
    "r4.sort_values(ascending = False).head(10)"
   ]
  },
  {
   "cell_type": "markdown",
   "id": "196fce22-4e5a-48d6-abeb-694e0e5d4494",
   "metadata": {},
   "source": [
    "## 3) Max()\n",
    "\r\n",
    "Used to computethe emaximum  of numerial column/(s)s"
   ]
  },
  {
   "cell_type": "markdown",
   "id": "ebd27912-d049-43f1-bdf5-277f3a420d2e",
   "metadata": {},
   "source": [
    "#### Q) Find max acousticness for the artist Ed Sheeran"
   ]
  },
  {
   "cell_type": "code",
   "execution_count": 61,
   "id": "4a52013c-1438-43f4-a90d-023114f2f2b8",
   "metadata": {},
   "outputs": [
    {
     "data": {
      "text/plain": [
       "(5, 14)"
      ]
     },
     "execution_count": 61,
     "metadata": {},
     "output_type": "execute_result"
    }
   ],
   "source": [
    "r5 = df[df['artist'] == 'Ed Sheeran']\n",
    "r5.shape"
   ]
  },
  {
   "cell_type": "code",
   "execution_count": 63,
   "id": "6a320246-9dbf-452c-a3cc-dc8aff89db02",
   "metadata": {},
   "outputs": [
    {
     "data": {
      "text/plain": [
       "61"
      ]
     },
     "execution_count": 63,
     "metadata": {},
     "output_type": "execute_result"
    }
   ],
   "source": [
    "r5['acousticness'].max()"
   ]
  },
  {
   "cell_type": "markdown",
   "id": "88702cfa-0ce1-40c7-89d6-580afd503e42",
   "metadata": {},
   "source": [
    "#### Q) Find top genre wise max of length and acousticness"
   ]
  },
  {
   "cell_type": "code",
   "execution_count": 69,
   "id": "c4279fe1-463e-46fe-a991-4f07e7d4b079",
   "metadata": {},
   "outputs": [
    {
     "name": "stdout",
     "output_type": "stream",
     "text": [
      "(34, 2)\n",
      "<class 'pandas.core.frame.DataFrame'>\n"
     ]
    },
    {
     "data": {
      "text/html": [
       "<div>\n",
       "<style scoped>\n",
       "    .dataframe tbody tr th:only-of-type {\n",
       "        vertical-align: middle;\n",
       "    }\n",
       "\n",
       "    .dataframe tbody tr th {\n",
       "        vertical-align: top;\n",
       "    }\n",
       "\n",
       "    .dataframe thead th {\n",
       "        text-align: right;\n",
       "    }\n",
       "</style>\n",
       "<table border=\"1\" class=\"dataframe\">\n",
       "  <thead>\n",
       "    <tr style=\"text-align: right;\">\n",
       "      <th></th>\n",
       "      <th>length</th>\n",
       "      <th>acousticness</th>\n",
       "    </tr>\n",
       "    <tr>\n",
       "      <th>top genre</th>\n",
       "      <th></th>\n",
       "      <th></th>\n",
       "    </tr>\n",
       "  </thead>\n",
       "  <tbody>\n",
       "    <tr>\n",
       "      <th>acoustic pop</th>\n",
       "      <td>242</td>\n",
       "      <td>60</td>\n",
       "    </tr>\n",
       "    <tr>\n",
       "      <th>alternative rock</th>\n",
       "      <td>223</td>\n",
       "      <td>0</td>\n",
       "    </tr>\n",
       "    <tr>\n",
       "      <th>australian dance</th>\n",
       "      <td>212</td>\n",
       "      <td>5</td>\n",
       "    </tr>\n",
       "    <tr>\n",
       "      <th>australian pop</th>\n",
       "      <td>209</td>\n",
       "      <td>69</td>\n",
       "    </tr>\n",
       "    <tr>\n",
       "      <th>beatlesque</th>\n",
       "      <td>259</td>\n",
       "      <td>0</td>\n",
       "    </tr>\n",
       "  </tbody>\n",
       "</table>\n",
       "</div>"
      ],
      "text/plain": [
       "                  length  acousticness\n",
       "top genre                             \n",
       "acoustic pop         242            60\n",
       "alternative rock     223             0\n",
       "australian dance     212             5\n",
       "australian pop       209            69\n",
       "beatlesque           259             0"
      ]
     },
     "execution_count": 69,
     "metadata": {},
     "output_type": "execute_result"
    }
   ],
   "source": [
    "r6 = df.groupby('top genre')[['length','acousticness']].max()\n",
    "print(r6.shape)\n",
    "print(type(r6))\n",
    "r6.head()"
   ]
  },
  {
   "cell_type": "markdown",
   "id": "a39de0a0-62ee-464e-89d5-c69f7e0a8c87",
   "metadata": {},
   "source": [
    "## 4) Var()\n",
    "\r\n",
    "Used to compute thevariancem of numerial column/(ss"
   ]
  },
  {
   "cell_type": "markdown",
   "id": "136dc59a-446f-4d93-961c-79b62cbd8d45",
   "metadata": {},
   "source": [
    "#### Q) Find variance of energy and liveness"
   ]
  },
  {
   "cell_type": "code",
   "execution_count": 79,
   "id": "506e36e9-e5a4-44fb-aca2-9351a52e71cb",
   "metadata": {},
   "outputs": [
    {
     "data": {
      "text/plain": [
       "energy      271.977374\n",
       "liveness    168.283232\n",
       "dtype: float64"
      ]
     },
     "execution_count": 79,
     "metadata": {},
     "output_type": "execute_result"
    }
   ],
   "source": [
    "r7 = df[['energy','liveness']].var() \n",
    "r7"
   ]
  },
  {
   "cell_type": "markdown",
   "id": "a48f2daa-46be-43d9-9604-fa3ebcf45946",
   "metadata": {},
   "source": [
    "#### Q) Find variance of valance for the year over 2017"
   ]
  },
  {
   "cell_type": "code",
   "execution_count": 82,
   "id": "115dfebd-c423-4e0f-b0aa-74310a76ce2d",
   "metadata": {},
   "outputs": [
    {
     "name": "stdout",
     "output_type": "stream",
     "text": [
      "(54, 14)\n",
      "448.1988120195668\n"
     ]
    }
   ],
   "source": [
    "r8 = df[df['year']>=2017]\n",
    "print(r8.shape)\n",
    "print(r8['valance'].var())"
   ]
  },
  {
   "cell_type": "markdown",
   "id": "e42dadc0-28f2-4385-ae2b-fbbc39c36242",
   "metadata": {},
   "source": [
    "## 5) Std()\n",
    "\n",
    "Used to compute the standard deviation of numerial column/(s)"
   ]
  },
  {
   "cell_type": "markdown",
   "id": "a0f8e368-7693-466e-b432-33c47c2bf7d0",
   "metadata": {},
   "source": [
    "#### Q) Find standard deviation of energy and liveness"
   ]
  },
  {
   "cell_type": "code",
   "execution_count": 92,
   "id": "bb229f02-6e29-44fd-8dc3-0b3e6c1360be",
   "metadata": {},
   "outputs": [
    {
     "data": {
      "text/plain": [
       "energy      271.977374\n",
       "liveness    168.283232\n",
       "dtype: float64"
      ]
     },
     "execution_count": 92,
     "metadata": {},
     "output_type": "execute_result"
    }
   ],
   "source": [
    "r7\n",
    "# var of energy and liveness"
   ]
  },
  {
   "cell_type": "code",
   "execution_count": 90,
   "id": "2cdd5a95-d309-4a23-a3f5-dd8a62dfa131",
   "metadata": {},
   "outputs": [
    {
     "data": {
      "text/plain": [
       "energy      16.491737\n",
       "liveness    12.972403\n",
       "dtype: float64"
      ]
     },
     "execution_count": 90,
     "metadata": {},
     "output_type": "execute_result"
    }
   ],
   "source": [
    "r9 = df[['energy','liveness']].std()\n",
    "r9"
   ]
  },
  {
   "cell_type": "markdown",
   "id": "0353e904-9add-4a02-bef5-c40abbfcd3a2",
   "metadata": {},
   "source": [
    "#### Q) Find standard of deviation of popularity based on year for the year 2015 and beyond"
   ]
  },
  {
   "cell_type": "code",
   "execution_count": 95,
   "id": "59a5acb5-92bd-45ea-a39a-f546abe395f5",
   "metadata": {},
   "outputs": [
    {
     "data": {
      "text/plain": [
       "year\n",
       "2015     5.091471\n",
       "2016     8.007288\n",
       "2017     2.386833\n",
       "2018     6.160144\n",
       "2019     5.504165\n",
       "2020     5.131601\n",
       "2021    11.930353\n",
       "Name: popularity, dtype: float64"
      ]
     },
     "execution_count": 95,
     "metadata": {},
     "output_type": "execute_result"
    }
   ],
   "source": [
    "df_2015beyond = df[df['year']>=2015]\n",
    "r10 = df_2015beyond.groupby('year')['popularity'].std()\n",
    "r10"
   ]
  },
  {
   "cell_type": "markdown",
   "id": "90708f82-cd3f-42cf-b800-a08d688004c9",
   "metadata": {},
   "source": [
    "#### 6) Count()\n",
    "\n",
    "Used to count the number of records for a particular column"
   ]
  },
  {
   "cell_type": "markdown",
   "id": "e876870d-4628-4203-840b-ca82f17bfb1d",
   "metadata": {},
   "source": [
    "#### Q) Find count of songs for Post Malone for the year 2018"
   ]
  },
  {
   "cell_type": "code",
   "execution_count": 100,
   "id": "969017f3-38e2-46d6-87c7-0dcc190f4daf",
   "metadata": {},
   "outputs": [
    {
     "data": {
      "text/plain": [
       "4"
      ]
     },
     "execution_count": 100,
     "metadata": {},
     "output_type": "execute_result"
    }
   ],
   "source": [
    "df_2018 = df[df['year'] == 2018]\n",
    "r11 = df_2018['title'][df_2018['artist'] == 'Post Malone'].count()\n",
    "r11"
   ]
  },
  {
   "cell_type": "markdown",
   "id": "f6937267-3cc2-494e-8690-2e6d538eed69",
   "metadata": {},
   "source": [
    "#### Q) Find count of song based on genre"
   ]
  },
  {
   "cell_type": "code",
   "execution_count": 107,
   "id": "9b7c5093-1b96-4e7f-b29b-f21c61c4638f",
   "metadata": {},
   "outputs": [
    {
     "data": {
      "text/plain": [
       "top genre\n",
       "dance pop                    28\n",
       "pop                          11\n",
       "dfw rap                       7\n",
       "modern rock                   6\n",
       "canadian pop                  6\n",
       "canadian contemporary r&b     4\n",
       "electropop                    4\n",
       "melodic rap                   3\n",
       "latin                         2\n",
       "folk-pop                      2\n",
       "Name: title, dtype: int64"
      ]
     },
     "execution_count": 107,
     "metadata": {},
     "output_type": "execute_result"
    }
   ],
   "source": [
    "r12 = df.groupby('top genre')['title'].count()\n",
    "r12.sort_values(ascending = False).head(10)"
   ]
  },
  {
   "cell_type": "markdown",
   "id": "15a63778-4dfe-442a-8487-d9044169a699",
   "metadata": {},
   "source": [
    "## 7) Mean()\n",
    "\n",
    "Used to count the meanof numerial column"
   ]
  },
  {
   "cell_type": "markdown",
   "id": "0455ada9-6865-4b2f-b118-15145cf27b4e",
   "metadata": {},
   "source": [
    "#### Q) Find mean of valance, length and energy"
   ]
  },
  {
   "cell_type": "code",
   "execution_count": 118,
   "id": "d71077b7-5a05-4ea1-a350-8ed5c5a65289",
   "metadata": {},
   "outputs": [
    {
     "data": {
      "text/plain": [
       "valance     49.97\n",
       "length     214.53\n",
       "energy      62.68\n",
       "dtype: float64"
      ]
     },
     "execution_count": 118,
     "metadata": {},
     "output_type": "execute_result"
    }
   ],
   "source": [
    "r13 = df[['valance','length','energy']].mean()\n",
    "r13"
   ]
  },
  {
   "cell_type": "markdown",
   "id": "4e0666e7-082d-4bde-b6c8-971a6ac52f86",
   "metadata": {},
   "source": [
    "#### Q) Find mean of popularity, danceability and energy based on artist"
   ]
  },
  {
   "cell_type": "code",
   "execution_count": 126,
   "id": "fc472432-17ee-47e7-b148-eab67cca01c4",
   "metadata": {},
   "outputs": [
    {
     "data": {
      "text/html": [
       "<div>\n",
       "<style scoped>\n",
       "    .dataframe tbody tr th:only-of-type {\n",
       "        vertical-align: middle;\n",
       "    }\n",
       "\n",
       "    .dataframe tbody tr th {\n",
       "        vertical-align: top;\n",
       "    }\n",
       "\n",
       "    .dataframe thead th {\n",
       "        text-align: right;\n",
       "    }\n",
       "</style>\n",
       "<table border=\"1\" class=\"dataframe\">\n",
       "  <thead>\n",
       "    <tr style=\"text-align: right;\">\n",
       "      <th></th>\n",
       "      <th>popularity</th>\n",
       "      <th>danceability</th>\n",
       "      <th>energy</th>\n",
       "    </tr>\n",
       "    <tr>\n",
       "      <th>artist</th>\n",
       "      <th></th>\n",
       "      <th></th>\n",
       "      <th></th>\n",
       "    </tr>\n",
       "  </thead>\n",
       "  <tbody>\n",
       "    <tr>\n",
       "      <th>24kGoldn</th>\n",
       "      <td>88.000000</td>\n",
       "      <td>70.000000</td>\n",
       "      <td>72.0</td>\n",
       "    </tr>\n",
       "    <tr>\n",
       "      <th>5 Seconds of Summer</th>\n",
       "      <td>80.000000</td>\n",
       "      <td>60.000000</td>\n",
       "      <td>85.0</td>\n",
       "    </tr>\n",
       "    <tr>\n",
       "      <th>Alan Walker</th>\n",
       "      <td>72.000000</td>\n",
       "      <td>59.000000</td>\n",
       "      <td>65.0</td>\n",
       "    </tr>\n",
       "    <tr>\n",
       "      <th>Ariana Grande</th>\n",
       "      <td>83.000000</td>\n",
       "      <td>75.000000</td>\n",
       "      <td>48.5</td>\n",
       "    </tr>\n",
       "    <tr>\n",
       "      <th>Avicii</th>\n",
       "      <td>84.000000</td>\n",
       "      <td>53.000000</td>\n",
       "      <td>78.0</td>\n",
       "    </tr>\n",
       "    <tr>\n",
       "      <th>Billie Eilish</th>\n",
       "      <td>83.666667</td>\n",
       "      <td>47.333333</td>\n",
       "      <td>28.0</td>\n",
       "    </tr>\n",
       "    <tr>\n",
       "      <th>Bruno Mars</th>\n",
       "      <td>80.000000</td>\n",
       "      <td>85.000000</td>\n",
       "      <td>56.0</td>\n",
       "    </tr>\n",
       "    <tr>\n",
       "      <th>Calvin Harris</th>\n",
       "      <td>80.000000</td>\n",
       "      <td>79.000000</td>\n",
       "      <td>86.0</td>\n",
       "    </tr>\n",
       "    <tr>\n",
       "      <th>Camila Cabello</th>\n",
       "      <td>80.000000</td>\n",
       "      <td>77.000000</td>\n",
       "      <td>52.0</td>\n",
       "    </tr>\n",
       "    <tr>\n",
       "      <th>Cardi B</th>\n",
       "      <td>79.000000</td>\n",
       "      <td>82.000000</td>\n",
       "      <td>73.0</td>\n",
       "    </tr>\n",
       "  </tbody>\n",
       "</table>\n",
       "</div>"
      ],
      "text/plain": [
       "                     popularity  danceability  energy\n",
       "artist                                               \n",
       "24kGoldn              88.000000     70.000000    72.0\n",
       "5 Seconds of Summer   80.000000     60.000000    85.0\n",
       "Alan Walker           72.000000     59.000000    65.0\n",
       "Ariana Grande         83.000000     75.000000    48.5\n",
       "Avicii                84.000000     53.000000    78.0\n",
       "Billie Eilish         83.666667     47.333333    28.0\n",
       "Bruno Mars            80.000000     85.000000    56.0\n",
       "Calvin Harris         80.000000     79.000000    86.0\n",
       "Camila Cabello        80.000000     77.000000    52.0\n",
       "Cardi B               79.000000     82.000000    73.0"
      ]
     },
     "execution_count": 126,
     "metadata": {},
     "output_type": "execute_result"
    }
   ],
   "source": [
    "r14 = df.groupby(['artist'])[['popularity','danceability','energy']].mean()\n",
    "r14.head(10)"
   ]
  },
  {
   "cell_type": "markdown",
   "id": "6c0e4f63-136a-4c24-99ed-6d294646e7d4",
   "metadata": {},
   "source": [
    "## 8) Median()\n",
    "\n",
    "Used to compute median of numerial column"
   ]
  },
  {
   "cell_type": "markdown",
   "id": "5d0b0335-27f7-49cc-9bf6-dfbb30bdb367",
   "metadata": {},
   "source": [
    "#### Q) Find the median of liveness"
   ]
  },
  {
   "cell_type": "code",
   "execution_count": 131,
   "id": "945b1bb1-716c-4c00-af6c-1598071244fb",
   "metadata": {},
   "outputs": [
    {
     "data": {
      "text/plain": [
       "12.0"
      ]
     },
     "execution_count": 131,
     "metadata": {},
     "output_type": "execute_result"
    }
   ],
   "source": [
    "r15 = df['liveness'].median()\n",
    "r15"
   ]
  },
  {
   "cell_type": "markdown",
   "id": "bf33b3de-beae-46d7-b232-bd37f5173786",
   "metadata": {},
   "source": [
    "#### Q) Find median of popularity, energy and speechiness and based on year"
   ]
  },
  {
   "cell_type": "code",
   "execution_count": 134,
   "id": "12e293ae-f3b8-4386-9b51-efa9243f29c7",
   "metadata": {},
   "outputs": [
    {
     "data": {
      "text/html": [
       "<div>\n",
       "<style scoped>\n",
       "    .dataframe tbody tr th:only-of-type {\n",
       "        vertical-align: middle;\n",
       "    }\n",
       "\n",
       "    .dataframe tbody tr th {\n",
       "        vertical-align: top;\n",
       "    }\n",
       "\n",
       "    .dataframe thead th {\n",
       "        text-align: right;\n",
       "    }\n",
       "</style>\n",
       "<table border=\"1\" class=\"dataframe\">\n",
       "  <thead>\n",
       "    <tr style=\"text-align: right;\">\n",
       "      <th></th>\n",
       "      <th>popularity</th>\n",
       "      <th>energy</th>\n",
       "      <th>speechiness</th>\n",
       "    </tr>\n",
       "    <tr>\n",
       "      <th>year</th>\n",
       "      <th></th>\n",
       "      <th></th>\n",
       "      <th></th>\n",
       "    </tr>\n",
       "  </thead>\n",
       "  <tbody>\n",
       "    <tr>\n",
       "      <th>1975</th>\n",
       "      <td>81.0</td>\n",
       "      <td>40.0</td>\n",
       "      <td>5.0</td>\n",
       "    </tr>\n",
       "    <tr>\n",
       "      <th>1995</th>\n",
       "      <td>77.0</td>\n",
       "      <td>90.0</td>\n",
       "      <td>4.0</td>\n",
       "    </tr>\n",
       "    <tr>\n",
       "      <th>2004</th>\n",
       "      <td>81.0</td>\n",
       "      <td>91.0</td>\n",
       "      <td>7.0</td>\n",
       "    </tr>\n",
       "    <tr>\n",
       "      <th>2008</th>\n",
       "      <td>80.0</td>\n",
       "      <td>46.0</td>\n",
       "      <td>5.0</td>\n",
       "    </tr>\n",
       "    <tr>\n",
       "      <th>2012</th>\n",
       "      <td>80.0</td>\n",
       "      <td>78.0</td>\n",
       "      <td>6.0</td>\n",
       "    </tr>\n",
       "    <tr>\n",
       "      <th>2013</th>\n",
       "      <td>83.0</td>\n",
       "      <td>62.5</td>\n",
       "      <td>4.5</td>\n",
       "    </tr>\n",
       "    <tr>\n",
       "      <th>2014</th>\n",
       "      <td>81.5</td>\n",
       "      <td>55.5</td>\n",
       "      <td>4.5</td>\n",
       "    </tr>\n",
       "    <tr>\n",
       "      <th>2015</th>\n",
       "      <td>79.0</td>\n",
       "      <td>65.0</td>\n",
       "      <td>6.0</td>\n",
       "    </tr>\n",
       "    <tr>\n",
       "      <th>2016</th>\n",
       "      <td>79.5</td>\n",
       "      <td>60.0</td>\n",
       "      <td>5.5</td>\n",
       "    </tr>\n",
       "    <tr>\n",
       "      <th>2017</th>\n",
       "      <td>82.0</td>\n",
       "      <td>67.5</td>\n",
       "      <td>9.0</td>\n",
       "    </tr>\n",
       "    <tr>\n",
       "      <th>2018</th>\n",
       "      <td>80.5</td>\n",
       "      <td>57.5</td>\n",
       "      <td>9.0</td>\n",
       "    </tr>\n",
       "    <tr>\n",
       "      <th>2019</th>\n",
       "      <td>81.5</td>\n",
       "      <td>60.5</td>\n",
       "      <td>7.0</td>\n",
       "    </tr>\n",
       "    <tr>\n",
       "      <th>2020</th>\n",
       "      <td>84.0</td>\n",
       "      <td>73.0</td>\n",
       "      <td>8.0</td>\n",
       "    </tr>\n",
       "    <tr>\n",
       "      <th>2021</th>\n",
       "      <td>85.0</td>\n",
       "      <td>72.0</td>\n",
       "      <td>6.0</td>\n",
       "    </tr>\n",
       "  </tbody>\n",
       "</table>\n",
       "</div>"
      ],
      "text/plain": [
       "      popularity  energy  speechiness\n",
       "year                                 \n",
       "1975        81.0    40.0          5.0\n",
       "1995        77.0    90.0          4.0\n",
       "2004        81.0    91.0          7.0\n",
       "2008        80.0    46.0          5.0\n",
       "2012        80.0    78.0          6.0\n",
       "2013        83.0    62.5          4.5\n",
       "2014        81.5    55.5          4.5\n",
       "2015        79.0    65.0          6.0\n",
       "2016        79.5    60.0          5.5\n",
       "2017        82.0    67.5          9.0\n",
       "2018        80.5    57.5          9.0\n",
       "2019        81.5    60.5          7.0\n",
       "2020        84.0    73.0          8.0\n",
       "2021        85.0    72.0          6.0"
      ]
     },
     "execution_count": 134,
     "metadata": {},
     "output_type": "execute_result"
    }
   ],
   "source": [
    "r16 = df.groupby('year')[['popularity','energy','speechiness']].median()\n",
    "r16"
   ]
  },
  {
   "cell_type": "code",
   "execution_count": null,
   "id": "a36d5ccd-ac65-4769-944e-60fb3df03850",
   "metadata": {},
   "outputs": [],
   "source": []
  }
 ],
 "metadata": {
  "kernelspec": {
   "display_name": "Python 3 (ipykernel)",
   "language": "python",
   "name": "python3"
  },
  "language_info": {
   "codemirror_mode": {
    "name": "ipython",
    "version": 3
   },
   "file_extension": ".py",
   "mimetype": "text/x-python",
   "name": "python",
   "nbconvert_exporter": "python",
   "pygments_lexer": "ipython3",
   "version": "3.12.4"
  }
 },
 "nbformat": 4,
 "nbformat_minor": 5
}
