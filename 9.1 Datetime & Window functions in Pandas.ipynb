{
 "cells": [
  {
   "cell_type": "markdown",
   "id": "35aa6883-e700-42ef-84f6-4d875d719b0e",
   "metadata": {},
   "source": [
    "# Datetime and Window Function in Pandas"
   ]
  },
  {
   "cell_type": "code",
   "execution_count": 146,
   "id": "45b04d4c-e664-4876-bbce-fad381d22939",
   "metadata": {},
   "outputs": [],
   "source": [
    "import pandas as pd\n",
    "import numpy as np"
   ]
  },
  {
   "cell_type": "code",
   "execution_count": 148,
   "id": "16891141-abef-4c83-8b8a-64e3a9704ad3",
   "metadata": {},
   "outputs": [],
   "source": [
    "df = pd.read_csv(\"Desktop/Sakshi/Business Analyst/Live lectures/Data Analyst Tools (python libraries)/2 Pandas/9 Datetime & Plots in Pandas/Electric_Production.csv\")"
   ]
  },
  {
   "cell_type": "code",
   "execution_count": 150,
   "id": "781b1beb-1242-4889-a3cc-93fcdd0c040c",
   "metadata": {},
   "outputs": [
    {
     "data": {
      "text/html": [
       "<div>\n",
       "<style scoped>\n",
       "    .dataframe tbody tr th:only-of-type {\n",
       "        vertical-align: middle;\n",
       "    }\n",
       "\n",
       "    .dataframe tbody tr th {\n",
       "        vertical-align: top;\n",
       "    }\n",
       "\n",
       "    .dataframe thead th {\n",
       "        text-align: right;\n",
       "    }\n",
       "</style>\n",
       "<table border=\"1\" class=\"dataframe\">\n",
       "  <thead>\n",
       "    <tr style=\"text-align: right;\">\n",
       "      <th></th>\n",
       "      <th>DATE</th>\n",
       "      <th>Value</th>\n",
       "    </tr>\n",
       "  </thead>\n",
       "  <tbody>\n",
       "    <tr>\n",
       "      <th>0</th>\n",
       "      <td>01-01-1985</td>\n",
       "      <td>72.5052</td>\n",
       "    </tr>\n",
       "    <tr>\n",
       "      <th>1</th>\n",
       "      <td>02-01-1985</td>\n",
       "      <td>70.6720</td>\n",
       "    </tr>\n",
       "    <tr>\n",
       "      <th>2</th>\n",
       "      <td>03-01-1985</td>\n",
       "      <td>62.4502</td>\n",
       "    </tr>\n",
       "    <tr>\n",
       "      <th>3</th>\n",
       "      <td>04-01-1985</td>\n",
       "      <td>57.4714</td>\n",
       "    </tr>\n",
       "    <tr>\n",
       "      <th>4</th>\n",
       "      <td>05-01-1985</td>\n",
       "      <td>55.3151</td>\n",
       "    </tr>\n",
       "  </tbody>\n",
       "</table>\n",
       "</div>"
      ],
      "text/plain": [
       "         DATE    Value\n",
       "0  01-01-1985  72.5052\n",
       "1  02-01-1985  70.6720\n",
       "2  03-01-1985  62.4502\n",
       "3  04-01-1985  57.4714\n",
       "4  05-01-1985  55.3151"
      ]
     },
     "execution_count": 150,
     "metadata": {},
     "output_type": "execute_result"
    }
   ],
   "source": [
    "df.head()"
   ]
  },
  {
   "cell_type": "code",
   "execution_count": 152,
   "id": "c28690ff-edf4-4ae2-8ba2-2cdb79163e07",
   "metadata": {},
   "outputs": [
    {
     "data": {
      "text/plain": [
       "(397, 2)"
      ]
     },
     "execution_count": 152,
     "metadata": {},
     "output_type": "execute_result"
    }
   ],
   "source": [
    "df.shape"
   ]
  },
  {
   "cell_type": "code",
   "execution_count": 154,
   "id": "908e3a2f-699c-4b4a-bc8b-8f0130f592ec",
   "metadata": {},
   "outputs": [
    {
     "data": {
      "text/plain": [
       "DATE      object\n",
       "Value    float64\n",
       "dtype: object"
      ]
     },
     "execution_count": 154,
     "metadata": {},
     "output_type": "execute_result"
    }
   ],
   "source": [
    "df.dtypes"
   ]
  },
  {
   "cell_type": "code",
   "execution_count": 156,
   "id": "10921beb-a0d7-437b-85a6-7016b8864da6",
   "metadata": {},
   "outputs": [
    {
     "data": {
      "text/plain": [
       "DATE     0\n",
       "Value    0\n",
       "dtype: int64"
      ]
     },
     "execution_count": 156,
     "metadata": {},
     "output_type": "execute_result"
    }
   ],
   "source": [
    "df.isnull().sum()"
   ]
  },
  {
   "cell_type": "markdown",
   "id": "1f7e11c0-1b2a-4359-84c3-5f73026d31c8",
   "metadata": {},
   "source": [
    "## Change the data type of date to Dataframe"
   ]
  },
  {
   "cell_type": "code",
   "execution_count": 158,
   "id": "83a04b0a-d8e9-4c34-8cc2-a1e2c7dbf749",
   "metadata": {},
   "outputs": [
    {
     "data": {
      "text/plain": [
       "DATE     datetime64[ns]\n",
       "Value           float64\n",
       "dtype: object"
      ]
     },
     "execution_count": 158,
     "metadata": {},
     "output_type": "execute_result"
    }
   ],
   "source": [
    "df['DATE'] = pd.to_datetime(df['DATE'])   # object to datetime data type conversion\n",
    "df.dtypes"
   ]
  },
  {
   "cell_type": "code",
   "execution_count": 160,
   "id": "c1ab9879-0323-4593-8488-82d0773ae4d4",
   "metadata": {},
   "outputs": [],
   "source": [
    "# The changes made in the original (df) dataframe will not be reflected \n",
    "# in the copy of the dataframe (df1)\n",
    "df1 = df.copy()"
   ]
  },
  {
   "cell_type": "markdown",
   "id": "249e95fc-16b7-4b73-9f74-338af631f0f5",
   "metadata": {},
   "source": [
    "#### Q) Extract year, quarter, month, day and weekday from the date column in the df dataframe and store them as separate columns in df dataframe."
   ]
  },
  {
   "cell_type": "code",
   "execution_count": 162,
   "id": "b3377e90-1707-4948-b529-67aa97aca577",
   "metadata": {},
   "outputs": [
    {
     "data": {
      "text/html": [
       "<div>\n",
       "<style scoped>\n",
       "    .dataframe tbody tr th:only-of-type {\n",
       "        vertical-align: middle;\n",
       "    }\n",
       "\n",
       "    .dataframe tbody tr th {\n",
       "        vertical-align: top;\n",
       "    }\n",
       "\n",
       "    .dataframe thead th {\n",
       "        text-align: right;\n",
       "    }\n",
       "</style>\n",
       "<table border=\"1\" class=\"dataframe\">\n",
       "  <thead>\n",
       "    <tr style=\"text-align: right;\">\n",
       "      <th></th>\n",
       "      <th>DATE</th>\n",
       "      <th>Value</th>\n",
       "      <th>Year</th>\n",
       "      <th>Quarter</th>\n",
       "      <th>Month</th>\n",
       "      <th>Day</th>\n",
       "      <th>Weekday</th>\n",
       "    </tr>\n",
       "  </thead>\n",
       "  <tbody>\n",
       "    <tr>\n",
       "      <th>0</th>\n",
       "      <td>1985-01-01</td>\n",
       "      <td>72.5052</td>\n",
       "      <td>1985</td>\n",
       "      <td>1</td>\n",
       "      <td>1</td>\n",
       "      <td>1</td>\n",
       "      <td>1</td>\n",
       "    </tr>\n",
       "    <tr>\n",
       "      <th>1</th>\n",
       "      <td>1985-02-01</td>\n",
       "      <td>70.6720</td>\n",
       "      <td>1985</td>\n",
       "      <td>1</td>\n",
       "      <td>2</td>\n",
       "      <td>1</td>\n",
       "      <td>4</td>\n",
       "    </tr>\n",
       "    <tr>\n",
       "      <th>2</th>\n",
       "      <td>1985-03-01</td>\n",
       "      <td>62.4502</td>\n",
       "      <td>1985</td>\n",
       "      <td>1</td>\n",
       "      <td>3</td>\n",
       "      <td>1</td>\n",
       "      <td>4</td>\n",
       "    </tr>\n",
       "    <tr>\n",
       "      <th>3</th>\n",
       "      <td>1985-04-01</td>\n",
       "      <td>57.4714</td>\n",
       "      <td>1985</td>\n",
       "      <td>2</td>\n",
       "      <td>4</td>\n",
       "      <td>1</td>\n",
       "      <td>0</td>\n",
       "    </tr>\n",
       "    <tr>\n",
       "      <th>4</th>\n",
       "      <td>1985-05-01</td>\n",
       "      <td>55.3151</td>\n",
       "      <td>1985</td>\n",
       "      <td>2</td>\n",
       "      <td>5</td>\n",
       "      <td>1</td>\n",
       "      <td>2</td>\n",
       "    </tr>\n",
       "  </tbody>\n",
       "</table>\n",
       "</div>"
      ],
      "text/plain": [
       "        DATE    Value  Year  Quarter  Month  Day  Weekday\n",
       "0 1985-01-01  72.5052  1985        1      1    1        1\n",
       "1 1985-02-01  70.6720  1985        1      2    1        4\n",
       "2 1985-03-01  62.4502  1985        1      3    1        4\n",
       "3 1985-04-01  57.4714  1985        2      4    1        0\n",
       "4 1985-05-01  55.3151  1985        2      5    1        2"
      ]
     },
     "execution_count": 162,
     "metadata": {},
     "output_type": "execute_result"
    }
   ],
   "source": [
    "# dt = datetime\n",
    "df['Year'] = df['DATE'].dt.year        # year extraction \n",
    "df['Quarter'] = df['DATE'].dt.quarter     # quarter extraction \n",
    "df['Month'] = df['DATE'].dt.month      # month extraction \n",
    "df['Day'] = df['DATE'].dt.day            # day extraction \n",
    "df['Weekday'] = df['DATE'].dt.weekday      # weekday extraction \n",
    "df.head()"
   ]
  },
  {
   "cell_type": "code",
   "execution_count": 164,
   "id": "7f37234f-d464-499a-9a50-5369138a77f3",
   "metadata": {},
   "outputs": [
    {
     "data": {
      "text/html": [
       "<div>\n",
       "<style scoped>\n",
       "    .dataframe tbody tr th:only-of-type {\n",
       "        vertical-align: middle;\n",
       "    }\n",
       "\n",
       "    .dataframe tbody tr th {\n",
       "        vertical-align: top;\n",
       "    }\n",
       "\n",
       "    .dataframe thead th {\n",
       "        text-align: right;\n",
       "    }\n",
       "</style>\n",
       "<table border=\"1\" class=\"dataframe\">\n",
       "  <thead>\n",
       "    <tr style=\"text-align: right;\">\n",
       "      <th></th>\n",
       "      <th>DATE</th>\n",
       "      <th>Value</th>\n",
       "      <th>Year</th>\n",
       "      <th>Quarter</th>\n",
       "      <th>Month</th>\n",
       "      <th>Day</th>\n",
       "      <th>Weekday</th>\n",
       "    </tr>\n",
       "  </thead>\n",
       "  <tbody>\n",
       "    <tr>\n",
       "      <th>392</th>\n",
       "      <td>2017-09-01</td>\n",
       "      <td>98.6154</td>\n",
       "      <td>2017</td>\n",
       "      <td>3</td>\n",
       "      <td>9</td>\n",
       "      <td>1</td>\n",
       "      <td>4</td>\n",
       "    </tr>\n",
       "    <tr>\n",
       "      <th>393</th>\n",
       "      <td>2017-10-01</td>\n",
       "      <td>93.6137</td>\n",
       "      <td>2017</td>\n",
       "      <td>4</td>\n",
       "      <td>10</td>\n",
       "      <td>1</td>\n",
       "      <td>6</td>\n",
       "    </tr>\n",
       "    <tr>\n",
       "      <th>394</th>\n",
       "      <td>2017-11-01</td>\n",
       "      <td>97.3359</td>\n",
       "      <td>2017</td>\n",
       "      <td>4</td>\n",
       "      <td>11</td>\n",
       "      <td>1</td>\n",
       "      <td>2</td>\n",
       "    </tr>\n",
       "    <tr>\n",
       "      <th>395</th>\n",
       "      <td>2017-12-01</td>\n",
       "      <td>114.7212</td>\n",
       "      <td>2017</td>\n",
       "      <td>4</td>\n",
       "      <td>12</td>\n",
       "      <td>1</td>\n",
       "      <td>4</td>\n",
       "    </tr>\n",
       "    <tr>\n",
       "      <th>396</th>\n",
       "      <td>2018-01-01</td>\n",
       "      <td>129.4048</td>\n",
       "      <td>2018</td>\n",
       "      <td>1</td>\n",
       "      <td>1</td>\n",
       "      <td>1</td>\n",
       "      <td>0</td>\n",
       "    </tr>\n",
       "  </tbody>\n",
       "</table>\n",
       "</div>"
      ],
      "text/plain": [
       "          DATE     Value  Year  Quarter  Month  Day  Weekday\n",
       "392 2017-09-01   98.6154  2017        3      9    1        4\n",
       "393 2017-10-01   93.6137  2017        4     10    1        6\n",
       "394 2017-11-01   97.3359  2017        4     11    1        2\n",
       "395 2017-12-01  114.7212  2017        4     12    1        4\n",
       "396 2018-01-01  129.4048  2018        1      1    1        0"
      ]
     },
     "execution_count": 164,
     "metadata": {},
     "output_type": "execute_result"
    }
   ],
   "source": [
    "df.tail()"
   ]
  },
  {
   "cell_type": "code",
   "execution_count": 166,
   "id": "d8ba96e1-9c37-44a4-9585-81c9be14ac4a",
   "metadata": {},
   "outputs": [
    {
     "data": {
      "text/html": [
       "<div>\n",
       "<style scoped>\n",
       "    .dataframe tbody tr th:only-of-type {\n",
       "        vertical-align: middle;\n",
       "    }\n",
       "\n",
       "    .dataframe tbody tr th {\n",
       "        vertical-align: top;\n",
       "    }\n",
       "\n",
       "    .dataframe thead th {\n",
       "        text-align: right;\n",
       "    }\n",
       "</style>\n",
       "<table border=\"1\" class=\"dataframe\">\n",
       "  <thead>\n",
       "    <tr style=\"text-align: right;\">\n",
       "      <th></th>\n",
       "      <th>DATE</th>\n",
       "      <th>Value</th>\n",
       "    </tr>\n",
       "  </thead>\n",
       "  <tbody>\n",
       "    <tr>\n",
       "      <th>0</th>\n",
       "      <td>1985-01-01</td>\n",
       "      <td>72.5052</td>\n",
       "    </tr>\n",
       "    <tr>\n",
       "      <th>1</th>\n",
       "      <td>1985-02-01</td>\n",
       "      <td>70.6720</td>\n",
       "    </tr>\n",
       "    <tr>\n",
       "      <th>2</th>\n",
       "      <td>1985-03-01</td>\n",
       "      <td>62.4502</td>\n",
       "    </tr>\n",
       "    <tr>\n",
       "      <th>3</th>\n",
       "      <td>1985-04-01</td>\n",
       "      <td>57.4714</td>\n",
       "    </tr>\n",
       "    <tr>\n",
       "      <th>4</th>\n",
       "      <td>1985-05-01</td>\n",
       "      <td>55.3151</td>\n",
       "    </tr>\n",
       "  </tbody>\n",
       "</table>\n",
       "</div>"
      ],
      "text/plain": [
       "        DATE    Value\n",
       "0 1985-01-01  72.5052\n",
       "1 1985-02-01  70.6720\n",
       "2 1985-03-01  62.4502\n",
       "3 1985-04-01  57.4714\n",
       "4 1985-05-01  55.3151"
      ]
     },
     "execution_count": 166,
     "metadata": {},
     "output_type": "execute_result"
    }
   ],
   "source": [
    "df1.head()"
   ]
  },
  {
   "cell_type": "code",
   "execution_count": 168,
   "id": "c827d89b-db45-4263-8e96-bed61056d63a",
   "metadata": {},
   "outputs": [
    {
     "data": {
      "text/plain": [
       "DATE     datetime64[ns]\n",
       "Value           float64\n",
       "dtype: object"
      ]
     },
     "execution_count": 168,
     "metadata": {},
     "output_type": "execute_result"
    }
   ],
   "source": [
    "df1.dtypes"
   ]
  },
  {
   "cell_type": "markdown",
   "id": "df825150-865f-444b-bedd-224a12a9563e",
   "metadata": {},
   "source": [
    "### Extract year, quarter, month and day in df1 using lambda function"
   ]
  },
  {
   "cell_type": "code",
   "execution_count": 171,
   "id": "11fbd740-59ac-4c7b-b7eb-bce5cf4b27a3",
   "metadata": {},
   "outputs": [
    {
     "data": {
      "text/html": [
       "<div>\n",
       "<style scoped>\n",
       "    .dataframe tbody tr th:only-of-type {\n",
       "        vertical-align: middle;\n",
       "    }\n",
       "\n",
       "    .dataframe tbody tr th {\n",
       "        vertical-align: top;\n",
       "    }\n",
       "\n",
       "    .dataframe thead th {\n",
       "        text-align: right;\n",
       "    }\n",
       "</style>\n",
       "<table border=\"1\" class=\"dataframe\">\n",
       "  <thead>\n",
       "    <tr style=\"text-align: right;\">\n",
       "      <th></th>\n",
       "      <th>DATE</th>\n",
       "      <th>Value</th>\n",
       "      <th>Year</th>\n",
       "      <th>Quarter</th>\n",
       "      <th>Month</th>\n",
       "      <th>Day</th>\n",
       "    </tr>\n",
       "  </thead>\n",
       "  <tbody>\n",
       "    <tr>\n",
       "      <th>0</th>\n",
       "      <td>1985-01-01</td>\n",
       "      <td>72.5052</td>\n",
       "      <td>1985</td>\n",
       "      <td>1</td>\n",
       "      <td>1</td>\n",
       "      <td>1</td>\n",
       "    </tr>\n",
       "    <tr>\n",
       "      <th>1</th>\n",
       "      <td>1985-02-01</td>\n",
       "      <td>70.6720</td>\n",
       "      <td>1985</td>\n",
       "      <td>1</td>\n",
       "      <td>2</td>\n",
       "      <td>1</td>\n",
       "    </tr>\n",
       "    <tr>\n",
       "      <th>2</th>\n",
       "      <td>1985-03-01</td>\n",
       "      <td>62.4502</td>\n",
       "      <td>1985</td>\n",
       "      <td>1</td>\n",
       "      <td>3</td>\n",
       "      <td>1</td>\n",
       "    </tr>\n",
       "    <tr>\n",
       "      <th>3</th>\n",
       "      <td>1985-04-01</td>\n",
       "      <td>57.4714</td>\n",
       "      <td>1985</td>\n",
       "      <td>2</td>\n",
       "      <td>4</td>\n",
       "      <td>1</td>\n",
       "    </tr>\n",
       "    <tr>\n",
       "      <th>4</th>\n",
       "      <td>1985-05-01</td>\n",
       "      <td>55.3151</td>\n",
       "      <td>1985</td>\n",
       "      <td>2</td>\n",
       "      <td>5</td>\n",
       "      <td>1</td>\n",
       "    </tr>\n",
       "  </tbody>\n",
       "</table>\n",
       "</div>"
      ],
      "text/plain": [
       "        DATE    Value  Year  Quarter  Month  Day\n",
       "0 1985-01-01  72.5052  1985        1      1    1\n",
       "1 1985-02-01  70.6720  1985        1      2    1\n",
       "2 1985-03-01  62.4502  1985        1      3    1\n",
       "3 1985-04-01  57.4714  1985        2      4    1\n",
       "4 1985-05-01  55.3151  1985        2      5    1"
      ]
     },
     "execution_count": 171,
     "metadata": {},
     "output_type": "execute_result"
    }
   ],
   "source": [
    "df1['Year'] = df1['DATE'].apply(lambda x : x.year)\n",
    "df1['Quarter'] = df1['DATE'].apply(lambda x : x.quarter)\n",
    "df1['Month'] = df1['DATE'].apply(lambda x : x.month)\n",
    "df1['Day'] = df1['DATE'].apply(lambda x : x.day)\n",
    "df1.head()"
   ]
  },
  {
   "cell_type": "code",
   "execution_count": 173,
   "id": "a6c0dd5e-edf0-442e-947b-90552e0702ef",
   "metadata": {},
   "outputs": [
    {
     "data": {
      "text/html": [
       "<div>\n",
       "<style scoped>\n",
       "    .dataframe tbody tr th:only-of-type {\n",
       "        vertical-align: middle;\n",
       "    }\n",
       "\n",
       "    .dataframe tbody tr th {\n",
       "        vertical-align: top;\n",
       "    }\n",
       "\n",
       "    .dataframe thead th {\n",
       "        text-align: right;\n",
       "    }\n",
       "</style>\n",
       "<table border=\"1\" class=\"dataframe\">\n",
       "  <thead>\n",
       "    <tr style=\"text-align: right;\">\n",
       "      <th></th>\n",
       "      <th>DATE</th>\n",
       "      <th>Value</th>\n",
       "    </tr>\n",
       "  </thead>\n",
       "  <tbody>\n",
       "    <tr>\n",
       "      <th>0</th>\n",
       "      <td>1985-01-01</td>\n",
       "      <td>72.5052</td>\n",
       "    </tr>\n",
       "    <tr>\n",
       "      <th>1</th>\n",
       "      <td>1985-02-01</td>\n",
       "      <td>70.6720</td>\n",
       "    </tr>\n",
       "    <tr>\n",
       "      <th>2</th>\n",
       "      <td>1985-03-01</td>\n",
       "      <td>62.4502</td>\n",
       "    </tr>\n",
       "    <tr>\n",
       "      <th>3</th>\n",
       "      <td>1985-04-01</td>\n",
       "      <td>57.4714</td>\n",
       "    </tr>\n",
       "    <tr>\n",
       "      <th>4</th>\n",
       "      <td>1985-05-01</td>\n",
       "      <td>55.3151</td>\n",
       "    </tr>\n",
       "  </tbody>\n",
       "</table>\n",
       "</div>"
      ],
      "text/plain": [
       "        DATE    Value\n",
       "0 1985-01-01  72.5052\n",
       "1 1985-02-01  70.6720\n",
       "2 1985-03-01  62.4502\n",
       "3 1985-04-01  57.4714\n",
       "4 1985-05-01  55.3151"
      ]
     },
     "execution_count": 173,
     "metadata": {},
     "output_type": "execute_result"
    }
   ],
   "source": [
    "df2 = df1[['DATE','Value']]\n",
    "df2.head()"
   ]
  },
  {
   "cell_type": "code",
   "execution_count": 175,
   "id": "4dedd3e3-93f3-432a-ae07-a4596dc861a7",
   "metadata": {},
   "outputs": [
    {
     "data": {
      "text/html": [
       "<div>\n",
       "<style scoped>\n",
       "    .dataframe tbody tr th:only-of-type {\n",
       "        vertical-align: middle;\n",
       "    }\n",
       "\n",
       "    .dataframe tbody tr th {\n",
       "        vertical-align: top;\n",
       "    }\n",
       "\n",
       "    .dataframe thead th {\n",
       "        text-align: right;\n",
       "    }\n",
       "</style>\n",
       "<table border=\"1\" class=\"dataframe\">\n",
       "  <thead>\n",
       "    <tr style=\"text-align: right;\">\n",
       "      <th></th>\n",
       "      <th>Value</th>\n",
       "    </tr>\n",
       "    <tr>\n",
       "      <th>DATE</th>\n",
       "      <th></th>\n",
       "    </tr>\n",
       "  </thead>\n",
       "  <tbody>\n",
       "    <tr>\n",
       "      <th>1985-01-01</th>\n",
       "      <td>72.5052</td>\n",
       "    </tr>\n",
       "    <tr>\n",
       "      <th>1985-02-01</th>\n",
       "      <td>70.6720</td>\n",
       "    </tr>\n",
       "    <tr>\n",
       "      <th>1985-03-01</th>\n",
       "      <td>62.4502</td>\n",
       "    </tr>\n",
       "    <tr>\n",
       "      <th>1985-04-01</th>\n",
       "      <td>57.4714</td>\n",
       "    </tr>\n",
       "    <tr>\n",
       "      <th>1985-05-01</th>\n",
       "      <td>55.3151</td>\n",
       "    </tr>\n",
       "  </tbody>\n",
       "</table>\n",
       "</div>"
      ],
      "text/plain": [
       "              Value\n",
       "DATE               \n",
       "1985-01-01  72.5052\n",
       "1985-02-01  70.6720\n",
       "1985-03-01  62.4502\n",
       "1985-04-01  57.4714\n",
       "1985-05-01  55.3151"
      ]
     },
     "execution_count": 175,
     "metadata": {},
     "output_type": "execute_result"
    }
   ],
   "source": [
    "df2 = df2.set_index('DATE')\n",
    "df2.head()"
   ]
  },
  {
   "cell_type": "code",
   "execution_count": 186,
   "id": "23b85427-d0f3-4fd8-ba05-4f836834d188",
   "metadata": {},
   "outputs": [
    {
     "name": "stdout",
     "output_type": "stream",
     "text": [
      "Index(['Value'], dtype='object')\n",
      "DatetimeIndex(['1985-01-01', '1985-02-01', '1985-03-01', '1985-04-01',\n",
      "               '1985-05-01', '1985-06-01', '1985-07-01', '1985-08-01',\n",
      "               '1985-09-01', '1985-10-01',\n",
      "               ...\n",
      "               '2017-04-01', '2017-05-01', '2017-06-01', '2017-07-01',\n",
      "               '2017-08-01', '2017-09-01', '2017-10-01', '2017-11-01',\n",
      "               '2017-12-01', '2018-01-01'],\n",
      "              dtype='datetime64[ns]', name='DATE', length=397, freq=None)\n"
     ]
    }
   ],
   "source": [
    "print(df2.columns)\n",
    "print(df2.index)"
   ]
  },
  {
   "cell_type": "markdown",
   "id": "75ebf5eb-a978-464a-8eda-c45607b187e8",
   "metadata": {},
   "source": [
    "# Window Functions"
   ]
  },
  {
   "cell_type": "markdown",
   "id": "161ca525-9e36-44b5-9588-bf152102e0e7",
   "metadata": {},
   "source": [
    "### 1) shift()\n",
    "\n",
    "Shift index by desired number of periods"
   ]
  },
  {
   "cell_type": "code",
   "execution_count": 190,
   "id": "5903b7f8-fd66-48b1-b54e-be948c1b71e1",
   "metadata": {},
   "outputs": [
    {
     "data": {
      "text/html": [
       "<div>\n",
       "<style scoped>\n",
       "    .dataframe tbody tr th:only-of-type {\n",
       "        vertical-align: middle;\n",
       "    }\n",
       "\n",
       "    .dataframe tbody tr th {\n",
       "        vertical-align: top;\n",
       "    }\n",
       "\n",
       "    .dataframe thead th {\n",
       "        text-align: right;\n",
       "    }\n",
       "</style>\n",
       "<table border=\"1\" class=\"dataframe\">\n",
       "  <thead>\n",
       "    <tr style=\"text-align: right;\">\n",
       "      <th></th>\n",
       "      <th>Value</th>\n",
       "      <th>Lag1</th>\n",
       "      <th>Lag2</th>\n",
       "    </tr>\n",
       "    <tr>\n",
       "      <th>DATE</th>\n",
       "      <th></th>\n",
       "      <th></th>\n",
       "      <th></th>\n",
       "    </tr>\n",
       "  </thead>\n",
       "  <tbody>\n",
       "    <tr>\n",
       "      <th>1985-01-01</th>\n",
       "      <td>72.5052</td>\n",
       "      <td>NaN</td>\n",
       "      <td>NaN</td>\n",
       "    </tr>\n",
       "    <tr>\n",
       "      <th>1985-02-01</th>\n",
       "      <td>70.6720</td>\n",
       "      <td>72.5052</td>\n",
       "      <td>NaN</td>\n",
       "    </tr>\n",
       "    <tr>\n",
       "      <th>1985-03-01</th>\n",
       "      <td>62.4502</td>\n",
       "      <td>70.6720</td>\n",
       "      <td>72.5052</td>\n",
       "    </tr>\n",
       "    <tr>\n",
       "      <th>1985-04-01</th>\n",
       "      <td>57.4714</td>\n",
       "      <td>62.4502</td>\n",
       "      <td>70.6720</td>\n",
       "    </tr>\n",
       "    <tr>\n",
       "      <th>1985-05-01</th>\n",
       "      <td>55.3151</td>\n",
       "      <td>57.4714</td>\n",
       "      <td>62.4502</td>\n",
       "    </tr>\n",
       "  </tbody>\n",
       "</table>\n",
       "</div>"
      ],
      "text/plain": [
       "              Value     Lag1     Lag2\n",
       "DATE                                 \n",
       "1985-01-01  72.5052      NaN      NaN\n",
       "1985-02-01  70.6720  72.5052      NaN\n",
       "1985-03-01  62.4502  70.6720  72.5052\n",
       "1985-04-01  57.4714  62.4502  70.6720\n",
       "1985-05-01  55.3151  57.4714  62.4502"
      ]
     },
     "execution_count": 190,
     "metadata": {},
     "output_type": "execute_result"
    }
   ],
   "source": [
    "df2['Lag1'] = df2 ['Value'].shift(1)\n",
    "df2['Lag2'] = df2 ['Value'].shift(2)\n",
    "df2.head()"
   ]
  },
  {
   "cell_type": "markdown",
   "id": "97b744c5-45eb-4230-a814-9cea411ab866",
   "metadata": {},
   "source": [
    "### 2) Difference"
   ]
  },
  {
   "cell_type": "code",
   "execution_count": 195,
   "id": "f10980bf-db16-4ae6-a504-09bb0be03ab2",
   "metadata": {},
   "outputs": [
    {
     "data": {
      "text/html": [
       "<div>\n",
       "<style scoped>\n",
       "    .dataframe tbody tr th:only-of-type {\n",
       "        vertical-align: middle;\n",
       "    }\n",
       "\n",
       "    .dataframe tbody tr th {\n",
       "        vertical-align: top;\n",
       "    }\n",
       "\n",
       "    .dataframe thead th {\n",
       "        text-align: right;\n",
       "    }\n",
       "</style>\n",
       "<table border=\"1\" class=\"dataframe\">\n",
       "  <thead>\n",
       "    <tr style=\"text-align: right;\">\n",
       "      <th></th>\n",
       "      <th>Value</th>\n",
       "      <th>Lag1</th>\n",
       "      <th>Lag2</th>\n",
       "      <th>Diff1_m1</th>\n",
       "      <th>Diff1_m2</th>\n",
       "    </tr>\n",
       "    <tr>\n",
       "      <th>DATE</th>\n",
       "      <th></th>\n",
       "      <th></th>\n",
       "      <th></th>\n",
       "      <th></th>\n",
       "      <th></th>\n",
       "    </tr>\n",
       "  </thead>\n",
       "  <tbody>\n",
       "    <tr>\n",
       "      <th>1985-01-01</th>\n",
       "      <td>72.5052</td>\n",
       "      <td>NaN</td>\n",
       "      <td>NaN</td>\n",
       "      <td>NaN</td>\n",
       "      <td>NaN</td>\n",
       "    </tr>\n",
       "    <tr>\n",
       "      <th>1985-02-01</th>\n",
       "      <td>70.6720</td>\n",
       "      <td>72.5052</td>\n",
       "      <td>NaN</td>\n",
       "      <td>-1.8332</td>\n",
       "      <td>-1.8332</td>\n",
       "    </tr>\n",
       "    <tr>\n",
       "      <th>1985-03-01</th>\n",
       "      <td>62.4502</td>\n",
       "      <td>70.6720</td>\n",
       "      <td>72.5052</td>\n",
       "      <td>-8.2218</td>\n",
       "      <td>-8.2218</td>\n",
       "    </tr>\n",
       "    <tr>\n",
       "      <th>1985-04-01</th>\n",
       "      <td>57.4714</td>\n",
       "      <td>62.4502</td>\n",
       "      <td>70.6720</td>\n",
       "      <td>-4.9788</td>\n",
       "      <td>-4.9788</td>\n",
       "    </tr>\n",
       "    <tr>\n",
       "      <th>1985-05-01</th>\n",
       "      <td>55.3151</td>\n",
       "      <td>57.4714</td>\n",
       "      <td>62.4502</td>\n",
       "      <td>-2.1563</td>\n",
       "      <td>-2.1563</td>\n",
       "    </tr>\n",
       "  </tbody>\n",
       "</table>\n",
       "</div>"
      ],
      "text/plain": [
       "              Value     Lag1     Lag2  Diff1_m1  Diff1_m2\n",
       "DATE                                                     \n",
       "1985-01-01  72.5052      NaN      NaN       NaN       NaN\n",
       "1985-02-01  70.6720  72.5052      NaN   -1.8332   -1.8332\n",
       "1985-03-01  62.4502  70.6720  72.5052   -8.2218   -8.2218\n",
       "1985-04-01  57.4714  62.4502  70.6720   -4.9788   -4.9788\n",
       "1985-05-01  55.3151  57.4714  62.4502   -2.1563   -2.1563"
      ]
     },
     "execution_count": 195,
     "metadata": {},
     "output_type": "execute_result"
    }
   ],
   "source": [
    "df2['Diff1_m1'] = df2 ['Value'].diff(1)\n",
    "df2['Diff1_m2'] = df2 ['Value'] - df2['Lag1']\n",
    "df2.head()"
   ]
  },
  {
   "cell_type": "code",
   "execution_count": 197,
   "id": "b725032a-dfe0-4e79-9127-cd2d01ef42db",
   "metadata": {},
   "outputs": [
    {
     "name": "stdout",
     "output_type": "stream",
     "text": [
      "-8.221799999999995\n"
     ]
    }
   ],
   "source": [
    "print(62.4502 - 70.6720)"
   ]
  },
  {
   "cell_type": "code",
   "execution_count": 199,
   "id": "d46aec11-2145-4cc2-959d-cef961a79e07",
   "metadata": {},
   "outputs": [
    {
     "data": {
      "text/html": [
       "<div>\n",
       "<style scoped>\n",
       "    .dataframe tbody tr th:only-of-type {\n",
       "        vertical-align: middle;\n",
       "    }\n",
       "\n",
       "    .dataframe tbody tr th {\n",
       "        vertical-align: top;\n",
       "    }\n",
       "\n",
       "    .dataframe thead th {\n",
       "        text-align: right;\n",
       "    }\n",
       "</style>\n",
       "<table border=\"1\" class=\"dataframe\">\n",
       "  <thead>\n",
       "    <tr style=\"text-align: right;\">\n",
       "      <th></th>\n",
       "      <th>DATE</th>\n",
       "      <th>Value</th>\n",
       "      <th>Year</th>\n",
       "      <th>Quarter</th>\n",
       "      <th>Month</th>\n",
       "      <th>Day</th>\n",
       "      <th>Diff2</th>\n",
       "    </tr>\n",
       "  </thead>\n",
       "  <tbody>\n",
       "    <tr>\n",
       "      <th>0</th>\n",
       "      <td>1985-01-01</td>\n",
       "      <td>72.5052</td>\n",
       "      <td>1985</td>\n",
       "      <td>1</td>\n",
       "      <td>1</td>\n",
       "      <td>1</td>\n",
       "      <td>NaN</td>\n",
       "    </tr>\n",
       "    <tr>\n",
       "      <th>1</th>\n",
       "      <td>1985-02-01</td>\n",
       "      <td>70.6720</td>\n",
       "      <td>1985</td>\n",
       "      <td>1</td>\n",
       "      <td>2</td>\n",
       "      <td>1</td>\n",
       "      <td>NaN</td>\n",
       "    </tr>\n",
       "    <tr>\n",
       "      <th>2</th>\n",
       "      <td>1985-03-01</td>\n",
       "      <td>62.4502</td>\n",
       "      <td>1985</td>\n",
       "      <td>1</td>\n",
       "      <td>3</td>\n",
       "      <td>1</td>\n",
       "      <td>-10.0550</td>\n",
       "    </tr>\n",
       "    <tr>\n",
       "      <th>3</th>\n",
       "      <td>1985-04-01</td>\n",
       "      <td>57.4714</td>\n",
       "      <td>1985</td>\n",
       "      <td>2</td>\n",
       "      <td>4</td>\n",
       "      <td>1</td>\n",
       "      <td>-13.2006</td>\n",
       "    </tr>\n",
       "    <tr>\n",
       "      <th>4</th>\n",
       "      <td>1985-05-01</td>\n",
       "      <td>55.3151</td>\n",
       "      <td>1985</td>\n",
       "      <td>2</td>\n",
       "      <td>5</td>\n",
       "      <td>1</td>\n",
       "      <td>-7.1351</td>\n",
       "    </tr>\n",
       "  </tbody>\n",
       "</table>\n",
       "</div>"
      ],
      "text/plain": [
       "        DATE    Value  Year  Quarter  Month  Day    Diff2\n",
       "0 1985-01-01  72.5052  1985        1      1    1      NaN\n",
       "1 1985-02-01  70.6720  1985        1      2    1      NaN\n",
       "2 1985-03-01  62.4502  1985        1      3    1 -10.0550\n",
       "3 1985-04-01  57.4714  1985        2      4    1 -13.2006\n",
       "4 1985-05-01  55.3151  1985        2      5    1  -7.1351"
      ]
     },
     "execution_count": 199,
     "metadata": {},
     "output_type": "execute_result"
    }
   ],
   "source": [
    "df1['Diff2'] = df1['Value'].diff(2)\n",
    "df1.head()"
   ]
  },
  {
   "cell_type": "markdown",
   "id": "8bacfc88-db79-4452-b540-2ab9c2947c76",
   "metadata": {},
   "source": [
    "# Rolling Functions"
   ]
  },
  {
   "cell_type": "code",
   "execution_count": 204,
   "id": "586bf618-2caa-45f4-bd96-49337f19322d",
   "metadata": {},
   "outputs": [
    {
     "data": {
      "text/html": [
       "<div>\n",
       "<style scoped>\n",
       "    .dataframe tbody tr th:only-of-type {\n",
       "        vertical-align: middle;\n",
       "    }\n",
       "\n",
       "    .dataframe tbody tr th {\n",
       "        vertical-align: top;\n",
       "    }\n",
       "\n",
       "    .dataframe thead th {\n",
       "        text-align: right;\n",
       "    }\n",
       "</style>\n",
       "<table border=\"1\" class=\"dataframe\">\n",
       "  <thead>\n",
       "    <tr style=\"text-align: right;\">\n",
       "      <th></th>\n",
       "      <th>DATE</th>\n",
       "      <th>Value</th>\n",
       "      <th>Year</th>\n",
       "      <th>Quarter</th>\n",
       "      <th>Month</th>\n",
       "      <th>Day</th>\n",
       "      <th>Diff2</th>\n",
       "      <th>Roll_mean2</th>\n",
       "      <th>Roll_mean3</th>\n",
       "    </tr>\n",
       "  </thead>\n",
       "  <tbody>\n",
       "    <tr>\n",
       "      <th>0</th>\n",
       "      <td>1985-01-01</td>\n",
       "      <td>72.5052</td>\n",
       "      <td>1985</td>\n",
       "      <td>1</td>\n",
       "      <td>1</td>\n",
       "      <td>1</td>\n",
       "      <td>NaN</td>\n",
       "      <td>NaN</td>\n",
       "      <td>NaN</td>\n",
       "    </tr>\n",
       "    <tr>\n",
       "      <th>1</th>\n",
       "      <td>1985-02-01</td>\n",
       "      <td>70.6720</td>\n",
       "      <td>1985</td>\n",
       "      <td>1</td>\n",
       "      <td>2</td>\n",
       "      <td>1</td>\n",
       "      <td>NaN</td>\n",
       "      <td>71.58860</td>\n",
       "      <td>NaN</td>\n",
       "    </tr>\n",
       "    <tr>\n",
       "      <th>2</th>\n",
       "      <td>1985-03-01</td>\n",
       "      <td>62.4502</td>\n",
       "      <td>1985</td>\n",
       "      <td>1</td>\n",
       "      <td>3</td>\n",
       "      <td>1</td>\n",
       "      <td>-10.0550</td>\n",
       "      <td>66.56110</td>\n",
       "      <td>68.542467</td>\n",
       "    </tr>\n",
       "    <tr>\n",
       "      <th>3</th>\n",
       "      <td>1985-04-01</td>\n",
       "      <td>57.4714</td>\n",
       "      <td>1985</td>\n",
       "      <td>2</td>\n",
       "      <td>4</td>\n",
       "      <td>1</td>\n",
       "      <td>-13.2006</td>\n",
       "      <td>59.96080</td>\n",
       "      <td>63.531200</td>\n",
       "    </tr>\n",
       "    <tr>\n",
       "      <th>4</th>\n",
       "      <td>1985-05-01</td>\n",
       "      <td>55.3151</td>\n",
       "      <td>1985</td>\n",
       "      <td>2</td>\n",
       "      <td>5</td>\n",
       "      <td>1</td>\n",
       "      <td>-7.1351</td>\n",
       "      <td>56.39325</td>\n",
       "      <td>58.412233</td>\n",
       "    </tr>\n",
       "  </tbody>\n",
       "</table>\n",
       "</div>"
      ],
      "text/plain": [
       "        DATE    Value  Year  Quarter  Month  Day    Diff2  Roll_mean2  \\\n",
       "0 1985-01-01  72.5052  1985        1      1    1      NaN         NaN   \n",
       "1 1985-02-01  70.6720  1985        1      2    1      NaN    71.58860   \n",
       "2 1985-03-01  62.4502  1985        1      3    1 -10.0550    66.56110   \n",
       "3 1985-04-01  57.4714  1985        2      4    1 -13.2006    59.96080   \n",
       "4 1985-05-01  55.3151  1985        2      5    1  -7.1351    56.39325   \n",
       "\n",
       "   Roll_mean3  \n",
       "0         NaN  \n",
       "1         NaN  \n",
       "2   68.542467  \n",
       "3   63.531200  \n",
       "4   58.412233  "
      ]
     },
     "execution_count": 204,
     "metadata": {},
     "output_type": "execute_result"
    }
   ],
   "source": [
    "df1['Roll_mean2'] = df1['Value'].rolling(2).mean()\n",
    "df1['Roll_mean3'] = df1['Value'].rolling(3).mean()\n",
    "df1.head()"
   ]
  },
  {
   "cell_type": "code",
   "execution_count": 206,
   "id": "3e06b5d2-0cf0-454e-8bc5-0b0e35770918",
   "metadata": {},
   "outputs": [
    {
     "name": "stdout",
     "output_type": "stream",
     "text": [
      "71.5886\n",
      "68.54246666666667\n"
     ]
    }
   ],
   "source": [
    "print((72.5052 + 70.6720) / 2)\n",
    "print((72.5052 + 70.6720 + 62.4502) / 3)"
   ]
  },
  {
   "cell_type": "markdown",
   "id": "e2767e12-2383-475b-a7e5-0113ac955de3",
   "metadata": {},
   "source": [
    "## Creating Dates"
   ]
  },
  {
   "cell_type": "code",
   "execution_count": 209,
   "id": "c526250c-4396-490b-bd4a-77149abb3611",
   "metadata": {},
   "outputs": [
    {
     "data": {
      "text/plain": [
       "DatetimeIndex(['2022-07-10', '2022-07-11', '2022-07-12', '2022-07-13',\n",
       "               '2022-07-14', '2022-07-15', '2022-07-16', '2022-07-17',\n",
       "               '2022-07-18', '2022-07-19'],\n",
       "              dtype='datetime64[ns]', freq='D')"
      ]
     },
     "execution_count": 209,
     "metadata": {},
     "output_type": "execute_result"
    }
   ],
   "source": [
    "# freq = D = days\n",
    "d1 = pd.date_range(start = '2022-07-10', freq = 'D', periods = 10)\n",
    "d1"
   ]
  },
  {
   "cell_type": "code",
   "execution_count": 211,
   "id": "630a7837-30e2-4f25-af5e-e4d00ca346b3",
   "metadata": {},
   "outputs": [
    {
     "data": {
      "text/plain": [
       "DatetimeIndex(['2022-07-01', '2022-08-01', '2022-09-01', '2022-10-01',\n",
       "               '2022-11-01', '2022-12-01', '2023-01-01', '2023-02-01',\n",
       "               '2023-03-01', '2023-04-01', '2023-05-01', '2023-06-01'],\n",
       "              dtype='datetime64[ns]', freq='MS')"
      ]
     },
     "execution_count": 211,
     "metadata": {},
     "output_type": "execute_result"
    }
   ],
   "source": [
    "# freq = MS = first day of month\n",
    "d2 = pd.date_range(start = '2022-07-01', freq = 'MS', periods = 12)\n",
    "d2"
   ]
  },
  {
   "cell_type": "code",
   "execution_count": 215,
   "id": "7956be46-688d-42c0-987a-d573b17c9d67",
   "metadata": {},
   "outputs": [
    {
     "data": {
      "text/plain": [
       "DatetimeIndex(['2022-07-31', '2022-08-31', '2022-09-30', '2022-10-31',\n",
       "               '2022-11-30', '2022-12-31', '2023-01-31', '2023-02-28',\n",
       "               '2023-03-31', '2023-04-30'],\n",
       "              dtype='datetime64[ns]', freq='ME')"
      ]
     },
     "execution_count": 215,
     "metadata": {},
     "output_type": "execute_result"
    }
   ],
   "source": [
    "# freq = ME = last day of month\n",
    "d3 = pd.date_range(start = '2022-07-10', freq = 'ME', periods = 10)\n",
    "d3"
   ]
  },
  {
   "cell_type": "code",
   "execution_count": 217,
   "id": "2155d9ae-33fa-404f-96e5-72e289808a92",
   "metadata": {},
   "outputs": [
    {
     "data": {
      "text/plain": [
       "DatetimeIndex(['2022-10-01', '2023-01-01', '2023-04-01', '2023-07-01',\n",
       "               '2023-10-01', '2024-01-01', '2024-04-01', '2024-07-01',\n",
       "               '2024-10-01', '2025-01-01'],\n",
       "              dtype='datetime64[ns]', freq='QS-JAN')"
      ]
     },
     "execution_count": 217,
     "metadata": {},
     "output_type": "execute_result"
    }
   ],
   "source": [
    "# freq = QS = quarter\n",
    "d4 = pd.date_range(start = '2022-07-10', freq = 'QS', periods = 10)\n",
    "d4"
   ]
  },
  {
   "cell_type": "code",
   "execution_count": 219,
   "id": "c5910992-a216-4a2f-a055-fc0050c6adbd",
   "metadata": {},
   "outputs": [
    {
     "data": {
      "text/plain": [
       "DatetimeIndex(['2022-01-01', '2022-01-02', '2022-01-03', '2022-01-04',\n",
       "               '2022-01-05', '2022-01-06', '2022-01-07', '2022-01-08',\n",
       "               '2022-01-09', '2022-01-10',\n",
       "               ...\n",
       "               '2022-04-06', '2022-04-07', '2022-04-08', '2022-04-09',\n",
       "               '2022-04-10', '2022-04-11', '2022-04-12', '2022-04-13',\n",
       "               '2022-04-14', '2022-04-15'],\n",
       "              dtype='datetime64[ns]', length=105, freq='D')"
      ]
     },
     "execution_count": 219,
     "metadata": {},
     "output_type": "execute_result"
    }
   ],
   "source": [
    "d5 = pd.date_range(start = '2022-01-01', end = '2022-04-15')\n",
    "d5"
   ]
  },
  {
   "cell_type": "code",
   "execution_count": 221,
   "id": "79cffc93-d072-4b9d-bc0f-336b20a968d6",
   "metadata": {},
   "outputs": [
    {
     "data": {
      "text/plain": [
       "DatetimeIndex(['2022-01-01', '2022-02-01', '2022-03-01', '2022-04-01',\n",
       "               '2022-05-01', '2022-06-01', '2022-07-01', '2022-08-01',\n",
       "               '2022-09-01', '2022-10-01', '2022-11-01'],\n",
       "              dtype='datetime64[ns]', freq='MS')"
      ]
     },
     "execution_count": 221,
     "metadata": {},
     "output_type": "execute_result"
    }
   ],
   "source": [
    "d6 = pd.date_range(start = '2022-01-01', end = '2022-11-15', freq ='MS')\n",
    "d6"
   ]
  },
  {
   "cell_type": "code",
   "execution_count": null,
   "id": "8071abbb-b791-41f3-ac13-cac10dd19b05",
   "metadata": {},
   "outputs": [],
   "source": []
  }
 ],
 "metadata": {
  "kernelspec": {
   "display_name": "Python 3 (ipykernel)",
   "language": "python",
   "name": "python3"
  },
  "language_info": {
   "codemirror_mode": {
    "name": "ipython",
    "version": 3
   },
   "file_extension": ".py",
   "mimetype": "text/x-python",
   "name": "python",
   "nbconvert_exporter": "python",
   "pygments_lexer": "ipython3",
   "version": "3.12.4"
  }
 },
 "nbformat": 4,
 "nbformat_minor": 5
}
